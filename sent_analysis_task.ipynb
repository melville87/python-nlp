{
 "cells": [
  {
   "cell_type": "code",
   "execution_count": 1,
   "metadata": {},
   "outputs": [],
   "source": [
    "import chardet\n",
    "import string \n",
    "import re\n",
    "import numpy as np\n",
    "import pandas as pd\n",
    "import matplotlib.pyplot as plt\n",
    "import seaborn as sns"
   ]
  },
  {
   "cell_type": "code",
   "execution_count": 2,
   "metadata": {},
   "outputs": [],
   "source": [
    "sns.set()"
   ]
  },
  {
   "cell_type": "markdown",
   "metadata": {},
   "source": [
    "### Load Twitter dataset after determining character encoding"
   ]
  },
  {
   "cell_type": "code",
   "execution_count": 3,
   "metadata": {},
   "outputs": [],
   "source": [
    "# get character encoding \n",
    "def find_encoding(fname: str) -> str:\n",
    "    with open(fname, 'rb') as file: \n",
    "        r_file = file.read()\n",
    "        result = chardet.detect(r_file)\n",
    "        charenc = result['encoding']\n",
    "    return charenc"
   ]
  },
  {
   "cell_type": "code",
   "execution_count": 4,
   "metadata": {},
   "outputs": [
    {
     "data": {
      "text/plain": [
       "'UTF-8-SIG'"
      ]
     },
     "execution_count": 4,
     "metadata": {},
     "output_type": "execute_result"
    }
   ],
   "source": [
    "find_encoding(\"./Sentiment Analysis Dataset.csv\")"
   ]
  },
  {
   "cell_type": "code",
   "execution_count": 5,
   "metadata": {},
   "outputs": [
    {
     "name": "stderr",
     "output_type": "stream",
     "text": [
      "b'Skipping line 8836: expected 4 fields, saw 5\\n'\n",
      "b'Skipping line 535882: expected 4 fields, saw 7\\n'\n"
     ]
    },
    {
     "data": {
      "text/html": [
       "<div>\n",
       "<style scoped>\n",
       "    .dataframe tbody tr th:only-of-type {\n",
       "        vertical-align: middle;\n",
       "    }\n",
       "\n",
       "    .dataframe tbody tr th {\n",
       "        vertical-align: top;\n",
       "    }\n",
       "\n",
       "    .dataframe thead th {\n",
       "        text-align: right;\n",
       "    }\n",
       "</style>\n",
       "<table border=\"1\" class=\"dataframe\">\n",
       "  <thead>\n",
       "    <tr style=\"text-align: right;\">\n",
       "      <th></th>\n",
       "      <th>ItemID</th>\n",
       "      <th>Sentiment</th>\n",
       "      <th>SentimentSource</th>\n",
       "      <th>SentimentText</th>\n",
       "    </tr>\n",
       "  </thead>\n",
       "  <tbody>\n",
       "    <tr>\n",
       "      <th>0</th>\n",
       "      <td>1</td>\n",
       "      <td>0</td>\n",
       "      <td>Sentiment140</td>\n",
       "      <td>is so sad for my APL frie...</td>\n",
       "    </tr>\n",
       "    <tr>\n",
       "      <th>1</th>\n",
       "      <td>2</td>\n",
       "      <td>0</td>\n",
       "      <td>Sentiment140</td>\n",
       "      <td>I missed the New Moon trail...</td>\n",
       "    </tr>\n",
       "    <tr>\n",
       "      <th>2</th>\n",
       "      <td>3</td>\n",
       "      <td>1</td>\n",
       "      <td>Sentiment140</td>\n",
       "      <td>omg its already 7:30 :O</td>\n",
       "    </tr>\n",
       "    <tr>\n",
       "      <th>3</th>\n",
       "      <td>4</td>\n",
       "      <td>0</td>\n",
       "      <td>Sentiment140</td>\n",
       "      <td>.. Omgaga. Im sooo  im gunna CRy. I'...</td>\n",
       "    </tr>\n",
       "    <tr>\n",
       "      <th>4</th>\n",
       "      <td>5</td>\n",
       "      <td>0</td>\n",
       "      <td>Sentiment140</td>\n",
       "      <td>i think mi bf is cheating on me!!!   ...</td>\n",
       "    </tr>\n",
       "  </tbody>\n",
       "</table>\n",
       "</div>"
      ],
      "text/plain": [
       "   ItemID  Sentiment SentimentSource  \\\n",
       "0       1          0    Sentiment140   \n",
       "1       2          0    Sentiment140   \n",
       "2       3          1    Sentiment140   \n",
       "3       4          0    Sentiment140   \n",
       "4       5          0    Sentiment140   \n",
       "\n",
       "                                       SentimentText  \n",
       "0                       is so sad for my APL frie...  \n",
       "1                     I missed the New Moon trail...  \n",
       "2                            omg its already 7:30 :O  \n",
       "3            .. Omgaga. Im sooo  im gunna CRy. I'...  \n",
       "4           i think mi bf is cheating on me!!!   ...  "
      ]
     },
     "execution_count": 5,
     "metadata": {},
     "output_type": "execute_result"
    }
   ],
   "source": [
    "# read csv file \n",
    "filepath = \"./Sentiment Analysis Dataset.csv\"\n",
    "corpus = pd.read_csv(filepath, sep=\",\", \n",
    "                     error_bad_lines=False, \n",
    "                     header=0,  \n",
    "                     encoding='UTF-8-SIG')\n",
    "corpus.head()"
   ]
  },
  {
   "cell_type": "code",
   "execution_count": 6,
   "metadata": {},
   "outputs": [
    {
     "data": {
      "text/plain": [
       "(1578612, 4)"
      ]
     },
     "execution_count": 6,
     "metadata": {},
     "output_type": "execute_result"
    }
   ],
   "source": [
    "corpus.shape"
   ]
  },
  {
   "cell_type": "code",
   "execution_count": 7,
   "metadata": {},
   "outputs": [
    {
     "data": {
      "text/plain": [
       "ItemID              int64\n",
       "Sentiment           int64\n",
       "SentimentSource    object\n",
       "SentimentText      object\n",
       "dtype: object"
      ]
     },
     "execution_count": 7,
     "metadata": {},
     "output_type": "execute_result"
    }
   ],
   "source": [
    "corpus.dtypes"
   ]
  },
  {
   "cell_type": "code",
   "execution_count": 8,
   "metadata": {},
   "outputs": [
    {
     "name": "stdout",
     "output_type": "stream",
     "text": [
      "[0 1]\n",
      "['Sentiment140' 'Kaggle']\n"
     ]
    }
   ],
   "source": [
    "# check unique items in predictors \n",
    "print(corpus.Sentiment.unique())\n",
    "print(corpus.SentimentSource.unique())"
   ]
  },
  {
   "cell_type": "code",
   "execution_count": 9,
   "metadata": {},
   "outputs": [],
   "source": [
    "# pre-process data: drop id column\n",
    "corpus.drop(columns=\"ItemID\", inplace=True)"
   ]
  },
  {
   "cell_type": "code",
   "execution_count": 10,
   "metadata": {},
   "outputs": [
    {
     "data": {
      "text/plain": [
       "0"
      ]
     },
     "execution_count": 10,
     "metadata": {},
     "output_type": "execute_result"
    }
   ],
   "source": [
    "# check for duplicate rows\n",
    "corpus.duplicated().sum()"
   ]
  },
  {
   "cell_type": "code",
   "execution_count": 11,
   "metadata": {},
   "outputs": [],
   "source": [
    "# rename features\n",
    "mapper = {\"Sentiment\": \"sentiment\", \n",
    "          \"SentimentSource\": \"source\", \n",
    "          \"SentimentText\": \"tweet_text\"}\n",
    "corpus.rename(mapper=mapper, axis=1, inplace=True)"
   ]
  },
  {
   "cell_type": "code",
   "execution_count": 12,
   "metadata": {},
   "outputs": [
    {
     "data": {
      "text/html": [
       "<div>\n",
       "<style scoped>\n",
       "    .dataframe tbody tr th:only-of-type {\n",
       "        vertical-align: middle;\n",
       "    }\n",
       "\n",
       "    .dataframe tbody tr th {\n",
       "        vertical-align: top;\n",
       "    }\n",
       "\n",
       "    .dataframe thead th {\n",
       "        text-align: right;\n",
       "    }\n",
       "</style>\n",
       "<table border=\"1\" class=\"dataframe\">\n",
       "  <thead>\n",
       "    <tr style=\"text-align: right;\">\n",
       "      <th></th>\n",
       "      <th>sentiment</th>\n",
       "      <th>source</th>\n",
       "      <th>tweet_text</th>\n",
       "    </tr>\n",
       "  </thead>\n",
       "  <tbody>\n",
       "    <tr>\n",
       "      <th>0</th>\n",
       "      <td>0</td>\n",
       "      <td>Sentiment140</td>\n",
       "      <td>is so sad for my APL frie...</td>\n",
       "    </tr>\n",
       "    <tr>\n",
       "      <th>1</th>\n",
       "      <td>0</td>\n",
       "      <td>Sentiment140</td>\n",
       "      <td>I missed the New Moon trail...</td>\n",
       "    </tr>\n",
       "    <tr>\n",
       "      <th>2</th>\n",
       "      <td>1</td>\n",
       "      <td>Sentiment140</td>\n",
       "      <td>omg its already 7:30 :O</td>\n",
       "    </tr>\n",
       "    <tr>\n",
       "      <th>3</th>\n",
       "      <td>0</td>\n",
       "      <td>Sentiment140</td>\n",
       "      <td>.. Omgaga. Im sooo  im gunna CRy. I'...</td>\n",
       "    </tr>\n",
       "    <tr>\n",
       "      <th>4</th>\n",
       "      <td>0</td>\n",
       "      <td>Sentiment140</td>\n",
       "      <td>i think mi bf is cheating on me!!!   ...</td>\n",
       "    </tr>\n",
       "  </tbody>\n",
       "</table>\n",
       "</div>"
      ],
      "text/plain": [
       "   sentiment        source                                         tweet_text\n",
       "0          0  Sentiment140                       is so sad for my APL frie...\n",
       "1          0  Sentiment140                     I missed the New Moon trail...\n",
       "2          1  Sentiment140                            omg its already 7:30 :O\n",
       "3          0  Sentiment140            .. Omgaga. Im sooo  im gunna CRy. I'...\n",
       "4          0  Sentiment140           i think mi bf is cheating on me!!!   ..."
      ]
     },
     "execution_count": 12,
     "metadata": {},
     "output_type": "execute_result"
    }
   ],
   "source": [
    "corpus.head()"
   ]
  },
  {
   "cell_type": "code",
   "execution_count": 13,
   "metadata": {},
   "outputs": [],
   "source": [
    "# inspect first n tweets \n",
    "# (randomly sampled from the whole dataset)\n",
    "def print_first_n_tweets(n=10): \n",
    "    ''' \n",
    "    Randomly samples and prints up to 5,000 tweets from the corpus. \n",
    "    '''\n",
    "    \n",
    "    if n >= 5000: return \"Less than 5000 tweets please!\"\n",
    "    rsample = corpus[\"tweet_text\"].sample(n=5000, random_state=1987)\n",
    "    \n",
    "    print(115*\"-\")\n",
    "    for i in range(n): \n",
    "        print('{:>8}  {:>3}  {}'.format(rsample.index[i], \"-->\", rsample.iloc[i][:90]))\n",
    "    print(115*\"-\")"
   ]
  },
  {
   "cell_type": "code",
   "execution_count": 14,
   "metadata": {
    "scrolled": true
   },
   "outputs": [
    {
     "name": "stdout",
     "output_type": "stream",
     "text": [
      "-------------------------------------------------------------------------------------------------------------------\n",
      "  399805  -->  @robbiespeaks I like it man  you write the lyrics &amp; I'll get our band to rock it out!!\n",
      "  885122  -->  I'm gonna take a short nap.. I almost in giving out thumbs, which sucks big time coz I'm i\n",
      " 1301910  -->  watching Cool Center right.  i missed their episode when Eugene got an interviewed with @D\n",
      "  441097  -->  @Snyper11 It may all be over now!! I was enjoying that \n",
      " 1560070  -->  wants someone to sleep over  and on myspace... as usall\n",
      "  341421  -->  @NEENZ I was just at Sky Harbor on Friday.    How are you?\n",
      "   38006  -->  @amberamputee  oh noes\n",
      " 1081784  -->  My friends know me well. I got perfect birthday presents. Thanks to those who showed up at\n",
      " 1269257  -->  Too bad everyday can't be a Follow Friday...what are we supposed to do on Saturdays?  \n",
      "  613813  -->  at home, hungry.... \n",
      "  394976  -->  @revmem Oh, me neither. I'm sure it would've been even that much better if I were a graphi\n",
      " 1217204  -->  still in midyear exam! wish my luck \n",
      "  154806  -->  @EyeOnNewz your welcome \n",
      "  844602  -->  @imde owh.. hahahaha lol. now i get it... \n",
      " 1296121  -->  wants some saltwater taffy  http://plurk.com/p/rolv0\n",
      "  385711  -->  @RacingHippo that's the kiddie \n",
      "   69658  -->  @bulkwinnage. You're gay. And smelly. And i secretly hate you \n",
      "  967453  -->  Its so weirdly quiet in the office 2day, no1 seems in a v good mood at all!!! Wat a dull d\n",
      " 1367433  -->  After 1 hour of attempting to unlock 3.0 on my 8g 1stgen iPhone...I'm holding off for righ\n",
      " 1046624  -->  miss..... cousins  lajutah family gathering             P.S feeling despondent\n",
      " 1007089  -->  Morning all. Parish announcements: the podcast of @TheEmergency ep 13 should appear tomorr\n",
      "  592127  -->  All day shopping trip in lexington, charleston, and wherever there are cute boutiques! \n",
      " 1077629  -->  my chi pet died...r.i.p \n",
      "  337031  -->  @mytomcat I love Mojan!  @clubmojan\n",
      " 1226875  -->  Ugh. Georgia Theater burned down. \n",
      "  651180  -->  Do you ever feel like your world is caving in when you've got connection issues? thats the\n",
      "  440151  -->  @swopusa  Damn, I was hoping that was somewhere in the U.S.  \n",
      " 1528172  -->  Says heres the deal chicago: whoever loses cheers on the winner to the cup. Prepare to che\n",
      "  411049  -->  @schmicles hey dill! i saw ur video bout the kurasaraksasa or something like that! my frie\n",
      " 1306737  -->  watching v-clip how do you sleep by jesse mccartney . he's totally GORGEOUS \n",
      "  472870  -->  @ThatKevinSmith it shows you care though  if you didn't, you'd shout &quot;sex me now baby\n",
      "  702700  -->  @Claudia_Imhoff I'm jealous - Amsterdam in June. I've got Munich next week, yay biergarten\n",
      "  597130  -->  Buttttttttt LA is in that shit ! \n",
      "  423582  -->  @seangunn   bring  me  the  yak  wrangler!  wanna  meet  that  guy!  \n",
      "  236818  -->  @JSPARKSFAN4LIFE Of course I remember ya silly  I have a gr8 memory! lolol.,. Ooh I love C\n",
      "  131418  -->  @DogBountyHunter hi guys! have a blast in NY (business aside lol) be safe and take care! \n",
      " 1483531  -->  just talked on the phone for lik 4hrs with this guy i REALLY like and well he told me hes \n",
      " 1284122  -->  To followers who have tons of followers, still chase followers : 'You don't want me..you j\n",
      " 1052016  -->  morning   (11.49 am) had a weird day yesterday hangin' out with guys\n",
      " 1476948  -->  Jammin To Capital In My Garden  xx\n",
      "  499072  -->  @StewartKris you singing was great! the cake eaters, good, zathura, funny, and in twilight\n",
      "  139846  -->  @EaseDaMan dammit who can get me in? \n",
      "  420242  -->  @ScienceChannel That's so cute!! I want one! \n",
      "  559962  -->  ahah! made jellies without grapes. Well, at least i have something to eat now. I still wan\n",
      "   45654  -->  @antwanetterice Let me know how it is if you go. It's raining light but it might get heavy\n",
      " 1550413  -->  Tiredness was a animal what kind of animal would it be? I say sloth \n",
      "  461457  -->  @RiotxChick hahaha it's okay. You don't have to be positive all the time \n",
      "  514243  -->  @uberChick  Honestly I would have taken it if I had 3 arms, but between the trash, grabber\n",
      "  641674  -->  @beltanemay I think it's on its way ;) It's passing thro pretty quickly. You appreciate it\n",
      "  406237  -->  @saintcoxyboy 60. Not bad. No way, I have done no revision over Easter so I can't afford t\n",
      "-------------------------------------------------------------------------------------------------------------------\n"
     ]
    }
   ],
   "source": [
    "print_first_n_tweets(n=50)"
   ]
  },
  {
   "cell_type": "code",
   "execution_count": 15,
   "metadata": {},
   "outputs": [],
   "source": [
    "# tweet length distribution\n",
    "tweet_length = corpus[\"tweet_text\"].apply(lambda x: len(x))"
   ]
  },
  {
   "cell_type": "code",
   "execution_count": 16,
   "metadata": {
    "scrolled": true
   },
   "outputs": [
    {
     "data": {
      "image/png": "[encoded data removed]",
      "text/plain": [
       "<Figure size 432x288 with 1 Axes>"
      ]
     },
     "metadata": {},
     "output_type": "display_data"
    }
   ],
   "source": [
    "ax = sns.distplot(tweet_length, bins= 35, kde= False)\n",
    "ax = plt.xlim(0, 160)\n",
    "ax = plt.title(\"Tweet length distribution\")"
   ]
  },
  {
   "cell_type": "markdown",
   "metadata": {},
   "source": [
    "A few tweets are longer than the 140 characters limit probably because they contain text-converted emojis. "
   ]
  },
  {
   "cell_type": "markdown",
   "metadata": {},
   "source": [
    "### Clean documents\n",
    "\n",
    "Cleaning the tweets will recover some potentially important information from wrongly decoded symbols and words, and will make the dataset vocabulary smaller for a simpler model. \n",
    "\n",
    "* Fix encoding-decoding issues (e.g. ``&lt;`` is html coding for symbol <). \n",
    "* Remove web urls. \n",
    "* Remove all numbers, twitter users' hashes and references. \n",
    "* Lowercase all letters. \n",
    "* Remove stopwords and punctuation.\n",
    "* Tokenize tweets and build vocabulary."
   ]
  },
  {
   "cell_type": "code",
   "execution_count": 17,
   "metadata": {},
   "outputs": [
    {
     "name": "stdout",
     "output_type": "stream",
     "text": [
      "16824\n",
      "33788\n",
      "4297\n"
     ]
    }
   ],
   "source": [
    "# clean tweets: \n",
    "# checks if there is residual html code for < symbols\n",
    "print(corpus[\"tweet_text\"].apply(lambda x: \"&lt;\" in x).sum())\n",
    "# checks if there is residual html code for \" symbols\n",
    "print(corpus[\"tweet_text\"].apply(lambda x: \"&quot;\" in x).sum())\n",
    "# checks for wrongly interpreted unicode characters\n",
    "print(corpus[\"tweet_text\"].apply(lambda x: \"â\" in x or \"à\" in x or \"ã\" in x).sum())"
   ]
  },
  {
   "cell_type": "markdown",
   "metadata": {},
   "source": [
    "Encoding-decoding problems in text are frequent, e.g. character â€™ is quote ' in Windows-1252 encoding which was mistakenly decoded as UTF-8. Thousands of tweets contain text with such errors. ``fix-text-for-you`` library comes in handy to fix most of these issues. "
   ]
  },
  {
   "cell_type": "code",
   "execution_count": 18,
   "metadata": {},
   "outputs": [],
   "source": [
    "# fix UTF-8 encoding-decoding problems \n",
    "import ftfy "
   ]
  },
  {
   "cell_type": "markdown",
   "metadata": {},
   "source": [
    "``ftfy.fix_text()`` takes care of:   \n",
    "* fixing html stuff \n",
    "* correctly restoring UTF-8 representation of characters "
   ]
  },
  {
   "cell_type": "code",
   "execution_count": 19,
   "metadata": {},
   "outputs": [],
   "source": [
    "corpus[\"tweet_text\"] = corpus[\"tweet_text\"].apply(ftfy.fix_text)"
   ]
  },
  {
   "cell_type": "markdown",
   "metadata": {},
   "source": [
    "After this operation is performed, the unicode object replacement character \"ï¿½\" used for unrecognizable stuff (symbols that couldn't be recovered) has been converted to �. "
   ]
  },
  {
   "cell_type": "code",
   "execution_count": 20,
   "metadata": {},
   "outputs": [
    {
     "name": "stdout",
     "output_type": "stream",
     "text": [
      " - My name is Amy. I�m only three My eyes are swollen I cannot see, I must be stupid, I must be bad What... http://tumblr.com/xfj1uain0 \n",
      "\n",
      "U+FFFD  �       [So] REPLACEMENT CHARACTER\n"
     ]
    }
   ],
   "source": [
    "# example using tweet in row 455\n",
    "ustring = corpus[\"tweet_text\"][455]\n",
    "print(ustring, \"\\n\")\n",
    "# --> Unicode code point - representation - name \n",
    "ftfy.explain_unicode(ustring[20])"
   ]
  },
  {
   "cell_type": "code",
   "execution_count": 21,
   "metadata": {},
   "outputs": [],
   "source": [
    "# fix this here with built-in string replacement function\n",
    "# '\\ufffd'is unicode for object replacement symbol \n",
    "corpus[\"tweet_text\"] = corpus[\"tweet_text\"].apply(lambda x: x.replace('\\ufffd', '?'))"
   ]
  },
  {
   "cell_type": "code",
   "execution_count": 22,
   "metadata": {},
   "outputs": [
    {
     "name": "stdout",
     "output_type": "stream",
     "text": [
      "0\n",
      "0\n",
      "1848\n",
      "(1578612, 3)\n"
     ]
    }
   ],
   "source": [
    "# checks if there is residual html code for < symbols\n",
    "print(corpus[\"tweet_text\"].apply(lambda x: \"&lt;\" in x).sum())\n",
    "# checks if there is residual html code for \" symbols\n",
    "print(corpus[\"tweet_text\"].apply(lambda x: \"&quot;\" in x).sum())\n",
    "# checks for wrongly interpreted unicode characters\n",
    "print(corpus[\"tweet_text\"].apply(lambda x: \"â\" in x or \"à\" in x or \"ã\" in x).sum())\n",
    "# corpus size\n",
    "print(corpus.shape)"
   ]
  },
  {
   "cell_type": "code",
   "execution_count": 23,
   "metadata": {},
   "outputs": [
    {
     "name": "stdout",
     "output_type": "stream",
     "text": [
      "68891\n"
     ]
    }
   ],
   "source": [
    "# tweets containing urls \n",
    "print(corpus[\"tweet_text\"].apply(lambda x: \"http\" in x).sum())"
   ]
  },
  {
   "cell_type": "code",
   "execution_count": 24,
   "metadata": {},
   "outputs": [
    {
     "name": "stdout",
     "output_type": "stream",
     "text": [
      "17\n"
     ]
    }
   ],
   "source": [
    "# remove urls \n",
    "# search for regex containing \"http\" followed by anything but a whitespace,  \n",
    "# replace with empty string\n",
    "corpus[\"tweet_text\"] = corpus[\"tweet_text\"].apply(lambda x: re.sub(r\"http\\S+\", \"\", x))\n",
    "# tweets containing urls \n",
    "print(corpus[\"tweet_text\"].apply(lambda x: \"http\" in x).sum())"
   ]
  },
  {
   "cell_type": "code",
   "execution_count": 25,
   "metadata": {},
   "outputs": [
    {
     "name": "stdout",
     "output_type": "stream",
     "text": [
      "736093\n"
     ]
    }
   ],
   "source": [
    "# tweets contaning user handles \n",
    "pattern = re.compile(\"@\\S+\")\n",
    "print(corpus[\"tweet_text\"].apply(lambda x: 0 if not pattern.search(x) else 1).sum())"
   ]
  },
  {
   "cell_type": "code",
   "execution_count": 26,
   "metadata": {},
   "outputs": [
    {
     "name": "stdout",
     "output_type": "stream",
     "text": [
      "0\n"
     ]
    }
   ],
   "source": [
    "# remove users' handles  \n",
    "# @ : matches any substring from character @\n",
    "# \\S+ : until one or more whitespaces are detected \n",
    "corpus[\"tweet_text\"] = corpus[\"tweet_text\"].apply(lambda x: re.sub(r\"@\\S+\", \"\", x))\n",
    "\n",
    "# all handles removed\n",
    "print(corpus[\"tweet_text\"].apply(lambda x: 0 if not pattern.search(x) else 1).sum())"
   ]
  },
  {
   "cell_type": "markdown",
   "metadata": {},
   "source": [
    "In order to make the vocabulary smaller, other symbols that are not ASCII characters can be removed. This can however remove symbols that carry substantial emotional meaning and would aid the classification of the tweets. "
   ]
  },
  {
   "cell_type": "code",
   "execution_count": 27,
   "metadata": {},
   "outputs": [
    {
     "name": "stdout",
     "output_type": "stream",
     "text": [
      " i dont like the fact my gay best friend is in tears... ♥\n"
     ]
    }
   ],
   "source": [
    "# decrease size of vocabulary \n",
    "# remove all words that contain characters \n",
    "# not included in ASCII range from space to tilde \n",
    "# example\n",
    "ustring = corpus[\"tweet_text\"][2564]\n",
    "print(ustring)\n",
    "# symbols like this add information about emotion in the tweet, \n",
    "# they are removed to decrease the complexity of the model "
   ]
  },
  {
   "cell_type": "code",
   "execution_count": 28,
   "metadata": {},
   "outputs": [
    {
     "name": "stdout",
     "output_type": "stream",
     "text": [
      " i dont like the fact my gay best friend is in tears... \n"
     ]
    }
   ],
   "source": [
    "# [^ -~] : matches anything that is not ASCII character included in range from space to tilde \n",
    "print(re.sub(r\"[^ -~]\", \"\", ustring))"
   ]
  },
  {
   "cell_type": "code",
   "execution_count": 29,
   "metadata": {},
   "outputs": [],
   "source": [
    "corpus[\"tweet_text\"] = corpus[\"tweet_text\"].apply(lambda x: re.sub(r\"[^ -~]\", \"\", x))"
   ]
  },
  {
   "cell_type": "code",
   "execution_count": 30,
   "metadata": {},
   "outputs": [],
   "source": [
    "# remove all hashtags \n",
    "corpus[\"tweet_text\"] = corpus[\"tweet_text\"].apply(lambda x: re.sub(r\"#\\S+\", \" \", x))\n",
    "\n",
    "# further decrease size of vocabulary:\n",
    "# remove all non-alphabetic characters (i.e. not letters)\n",
    "corpus[\"tweet_text\"] = corpus[\"tweet_text\"].apply(lambda x: re.sub(r\"[^ a-zA-Z]\", \" \", x))"
   ]
  },
  {
   "cell_type": "code",
   "execution_count": 31,
   "metadata": {},
   "outputs": [],
   "source": [
    "# lowercase all\n",
    "corpus[\"tweet_text\"] = corpus[\"tweet_text\"].apply(lambda x: x.lower())"
   ]
  },
  {
   "cell_type": "code",
   "execution_count": 32,
   "metadata": {},
   "outputs": [
    {
     "name": "stdout",
     "output_type": "stream",
     "text": [
      "-------------------------------------------------------------------------------------------------------------------\n",
      "  399805  -->   i like it man  you write the lyrics   i ll get our band to rock it out  \n",
      "  885122  -->  i m gonna take a short nap   i almost in giving out thumbs  which sucks big time coz i m i\n",
      " 1301910  -->  watching cool center right   i missed their episode when eugene got an interviewed with  o\n",
      "  441097  -->   it may all be over now   i was enjoying that \n",
      " 1560070  -->  wants someone to sleep over  and on myspace    as usall\n",
      "  341421  -->   i was just at sky harbor on friday     how are you \n",
      "   38006  -->    oh noes\n",
      " 1081784  -->  my friends know me well  i got perfect birthday presents  thanks to those who showed up at\n",
      " 1269257  -->  too bad everyday can t be a follow friday   what are we supposed to do on saturdays   \n",
      "  613813  -->  at home  hungry     \n",
      "  394976  -->   oh  me neither  i m sure it would ve been even that much better if i were a graphic desig\n",
      " 1217204  -->  still in midyear exam  wish my luck \n",
      "  154806  -->   your welcome \n",
      "  844602  -->   owh   hahahaha lol  now i get it    \n",
      " 1296121  -->  wants some saltwater taffy  \n",
      "  385711  -->   that s the kiddie \n",
      "   69658  -->   you re gay  and smelly  and i secretly hate you \n",
      "  967453  -->  its so weirdly quiet in the office  day  no  seems in a v good mood at all    wat a dull d\n",
      " 1367433  -->  after   hour of attempting to unlock     on my  g  stgen iphone   i m holding off for righ\n",
      " 1046624  -->  miss      cousins  lajutah family gathering             p s feeling despondent\n",
      " 1007089  -->  morning all  parish announcements  the podcast of  ep    should appear tomorrow  sorry   d\n",
      "  592127  -->  all day shopping trip in lexington  charleston  and wherever there are cute boutiques  \n",
      " 1077629  -->  my chi pet died   r i p \n",
      "  337031  -->   i love mojan   \n",
      " 1226875  -->  ugh  georgia theater burned down  \n",
      "  651180  -->  do you ever feel like your world is caving in when you ve got connection issues  thats the\n",
      "  440151  -->    damn  i was hoping that was somewhere in the u s   \n",
      " 1528172  -->  says heres the deal chicago  whoever loses cheers on the winner to the cup  prepare to che\n",
      "  411049  -->   hey dill  i saw ur video bout the kurasaraksasa or something like that  my friend showed \n",
      " 1306737  -->  watching v clip how do you sleep by jesse mccartney   he s totally gorgeous \n",
      "  472870  -->   it shows you care though  if you didn t  you d shout  sex me now baby   and she would hav\n",
      "  702700  -->   i m jealous   amsterdam in june  i ve got munich next week  yay biergarten  and london in\n",
      "  597130  -->  buttttttttt la is in that shit   \n",
      "  423582  -->     bring  me  the  yak  wrangler   wanna  meet  that  guy   \n",
      "  236818  -->   of course i remember ya silly  i have a gr  memory  lolol    ooh i love ciara s new cd  i\n",
      "  131418  -->   hi guys  have a blast in ny  business aside lol  be safe and take care  \n",
      " 1483531  -->  just talked on the phone for lik  hrs with this guy i really like and well he told me hes \n",
      " 1284122  -->  to followers who have tons of followers  still chase followers    you don t want me  you j\n",
      " 1052016  -->  morning          am  had a weird day yesterday hangin  out with guys\n",
      " 1476948  -->  jammin to capital in my garden  xx\n",
      "  499072  -->   you singing was great  the cake eaters  good  zathura  funny  and in twilight of course  \n",
      "  139846  -->   dammit who can get me in  \n",
      "  420242  -->   that s so cute   i want one  \n",
      "  559962  -->  ahah  made jellies without grapes  well  at least i have something to eat now  i still wan\n",
      "   45654  -->   let me know how it is if you go  it s raining light but it might get heavy later  \n",
      " 1550413  -->  tiredness was a animal what kind of animal would it be  i say sloth \n",
      "  461457  -->   hahaha it s okay  you don t have to be positive all the time \n",
      "  514243  -->    honestly i would have taken it if i had   arms  but between the trash  grabber  and want\n",
      "  641674  -->   i think it s on its way    it s passing thro pretty quickly  you appreciate it more when \n",
      "  406237  -->       not bad  no way  i have done no revision over easter so i can t afford to go out at a\n",
      " 1125828  -->  ok  y all  gonna call it a night or morning  take care and thnx for following  luvs ya \n",
      "  990744  -->  just finished the book my sisters keeper  can t wait for the movie tho \n",
      " 1362123  -->  young mariah carey in the house \n",
      "   10477  -->    the end \n",
      "  862479  -->   so he s really not in it no more   \n",
      " 1015081  -->  kinda cold out here on the beach  \n",
      "  434634  -->   thanks sweetie   i did it at work   sad thing is i am going to an amusement park wit my k\n",
      "  408732  -->   it s the middle of winter  too cold for surfing   gold coast will be the next trip up tha\n",
      "  186559  -->   then don t get up  relax in bed like me \n",
      "  615058  -->  covering the bartending wars  finals   pm tonight at mcfadden s      n  state parkway    p\n",
      " 1158435  -->  pas cool les urgences un samedi  bb ok    sutures sur la levre   no trauma   all is well  \n",
      "  784821  -->  i am still waiting \n",
      " 1372154  -->  another show i love is on    backyard blitz \n",
      " 1352048  -->  wondering if im even going to get to see niraj while he s here  i hate being so busy latel\n",
      " 1132906  -->  setanta sports had fanzone   why the hell did we allow to go under  \n",
      "  686130  -->  glad that the renaissance fair is over and done with \n",
      "  529953  -->  ahhhh     everythings going beserk wrong    exams  guys  uni place         probably the re\n",
      " 1062472  -->  oh  you re part of the california conspiracy   overnight from albuquerque  eyelids closed \n",
      "  546354  -->   whoa    kb s  the worst part for us is we are paying for  uncapped  all that means is the\n",
      " 1157821  -->  pancakes  music and train    \n",
      " 1444826  -->  i left a chocolate egg sitting in my office  and now it s calling my name                 \n",
      " 1166163  -->   i put my  hearing aids  on within   minutes of getting up unless its a weekend and i want\n",
      "  208352  -->     haha  that s rad  \n",
      "  665937  -->   hahaha if it s horrible  you should totally add it to the list \n",
      "  419580  -->   i bet i cud sort it  afterall i m an engineering student  dropout     \n",
      " 1113456  -->  off to scarborough with lynn and susan today   \n",
      "  619148  -->  awwe man it s snowing \n",
      " 1422164  -->  hate the fact that you walk past a person like they were never a part of you  when they we\n",
      "  716522  -->   cool  just shoot me your q s and i ll help if i can   \n",
      " 1372095  -->  another one bites the dust    beijing s original reggae bar closing   it sucks \n",
      "  706396  -->  exam went well  who knew i could do chemistry  henry homesweet  is a genius    xd\n",
      "  593772  -->  alone on a friday night and eating sushi  sad   \n",
      "  342735  -->   haha yes  no i dont have that cd yet  are u going to go see them  and u went and saw para\n",
      " 1016348  -->  last day     retweet   a yummi pic of me         via \n",
      "  966978  -->  just woke up    about to take a nap \n",
      "  284656  -->    happy to follow anyone who can talk the mc     \n",
      "  949206  -->  is reminscing on normanstock memories  \n",
      "   24503  -->   lol i knooo    i always get lost there jersey dnt like me  lol\n",
      "  358008  -->   expecting a cancellation of plans with a good friend  \n",
      " 1113182  -->  now da damn driver jus shut da bus off n went inside cook  ugh  i jus wanna sleeep  \n",
      " 1038866  -->  leavin nyc tomorrow for    days \n",
      "  525480  -->   it be kool if u show ur fans especially me once in a while    im still a fan   day     lo\n",
      " 1008390  -->  just got a new phone  its amaze \n",
      "  950174  -->  is sitting in the lobby at the hotel  i can t find either of my mothers  ahhhh  going home\n",
      "  637587  -->   \n",
      "  607913  -->   we should talk on some messenger or email sometime    \n",
      "  503964  -->   just so you know  i pulled some strings so it wouldn t rain this weekend  i will be expec\n",
      " 1363961  -->     again \n",
      "  965435  -->  its morning    yay  school tomorrow  noooo\n",
      " 1239381  -->  su yin huen tweeted i keep cutting mah self   tear  index right  im so sorry  \n",
      " 1315077  -->  we ve settled on a chinese name at least \n",
      " 1376867  -->  awwww  sonny with a chance was cute  \n",
      "  681312  -->   blah  sorry to hear that \n",
      "  743848  -->  had the scariest moment of my life today  \n",
      " 1384857  -->  cant breath \n",
      " 1181460  -->  running in this heat not recommended  although falling over and getting stung by a nettle \n",
      "  613545  -->  confusedddd     huaaa stresss \n",
      "  564050  -->   hopefully not sorry \n",
      "  266412  -->   hey hey  how r ya  woohoo to joining  i seriously get     of my news on here  thx on the \n",
      " 1030556  -->   hi there   \n",
      "  273081  -->   ah  u got the morning after syndrome i c \n",
      "  201243  -->   oops  not at all  you re in my top faves for sure    \n",
      " 1550693  -->  toby    \n",
      "  629447  -->  barely knows how to use her new phone sober  after drinks  it s a mess  sorry folks \n",
      "  192011  -->    that s now how i feel about it \n",
      "  256905  -->   waffle house ain t got nothin on my omelets   chuuuch \n",
      "  281632  -->   hey  thought id wish richard a happy birthday  love you guys  ur music is awesome   keep \n",
      "  797028  -->  i am missing my friends back home loke kacie and all them miss ya           lml \n",
      " 1527226  -->  sad    the more i go out to  nd ave on happy hour  the more i realize that downtown is los\n",
      " 1074884  -->   so    since you re back   wanna party  i think you do  \n",
      "  110355  -->     finished  wow  i just rescued the princess haha  maybe whittaker helped your strategy  \n",
      " 1235180  -->  uh oh   i think i m getting sick   i feel all coughy \n",
      " 1286437  -->  uh oh   just been told a secret about more people being made redundant here next week   ne\n",
      " 1239735  -->  the ext  battery charger i ordered just arrived  working quite well with my zune   now i c\n",
      "  533753  -->  also be sure to check out my vector work   vintage fender electric guitar      \n",
      "  460944  -->   sorry i couldn t help attacking you  nothing personal  richard   hey  how s portugal by t\n",
      "  907025  -->  i think thomasgave me the flu  i ve got a sore throat   runny nose n don t feel gd  he was\n",
      " 1336703  -->     liam wanted me to tell zoe he s feeling better and he hopes she s better soon \n",
      " 1187493  -->  says so sad now  \n",
      "  334654  -->   our morning sun has gone and the rail seems to be on its way \n",
      "  842609  -->   awkays  that s good then  idk what the go is  i missed the fued   but i hate merrick and \n",
      "  763748  -->  having a conversation with a  mth old baby   he s so cute i make him smile \n",
      " 1053461  -->   i m workinggggg \n",
      " 1314947  -->  waiting the time for study  i dont want  but i have to \n",
      "  414775  -->   maybe we could just slit the difference \n",
      "  702493  -->   woo  good for you \n",
      "  344287  -->   you re just going to stop talking to me  \n",
      "  501891  -->   hi  i just mostly hung out with family \n",
      " 1182666  -->   i m absolutely interested   i ll shoot you my info in a dm  or of course feel free to sha\n",
      "  118334  -->   haha   episode    s great right   its def  one of my favs  shirtless all guys dance parti\n",
      " 1039051  -->  new post on  \n",
      " 1304167  -->  ugh i still feel sick \n",
      " 1133889  -->   great video  pam     made me want to go for a run   uphill of course \n",
      "   71736  -->   haha np   once you get into twitter you ll love it  oh and btw you should visit me saturd\n",
      "  784838  -->  gutted at the haters  these boys are the best   \n",
      "  855839  -->  i need to get the sims     every ones got it \n",
      "   95452  -->    close  too many hot dogs   and beer \n",
      "  725996  -->  hahaha i was gonna tell you that but decided      maybe i shouldnt  \n",
      "  871918  -->   revisi tka gue hehehe    thx ya bantuin  google lg lemot \n",
      "  342511  -->   didn t anyone ever tell you  don t believe everything you see  or read     aside from nau\n",
      " 1317171  -->  wanted to sleep but a friend from denmark just poked me on im \n",
      " 1505569  -->  night tweeters is after  am here \n",
      " 1528129  -->  says goooooooddd morning  \n",
      "  245156  -->   oh that sucks   i m so sorry  \n",
      "   80143  -->   the people o iran want mahmud ahmadinedschad   not you  \n",
      " 1529971  -->  she s smarter and classier  she s perfect for him  and  im not  \n",
      "  297801  -->   thanks you soo much i need this day for these five kids lol \n",
      "  361092  -->   lol aint nothin bandwagon bout me  i  root   watever team that s playin against da lakers\n",
      "  251612  -->   ohhhhh why  why those codes are given when i am at the office  i say it again i need a ps\n",
      " 1276612  -->  this will be my second father s day without my dad   i still miss him so much \n",
      "   30450  -->          \n",
      " 1349600  -->  you know how i feel more than anyone else  \n",
      "  642240  -->   ohhhhh its soooo sooon  x\n",
      "  379740  -->   it feels funny   i could never get it to come out the other side   \n",
      "  701338  -->  enjoying another night home alone      days and counting    why oh why wont mi phone ringg\n",
      "  905658  -->  i m looking for my camera  it s lost \n",
      " 1322418  -->  wht if i didn t hv to go home bryan   i miss you   all of them  pismo beach  puff  the bus\n",
      "  804329  -->   there s always time to go to richmond  \n",
      " 1351930  -->  won    bucks  guess that means i will be   work on monday  \n",
      " 1270642  -->   the tornado killed my cable and its not up til thursday  i cant watch tv \n",
      " 1001000  -->  just made lunch for the familyyy  \n",
      "  438989  -->   twitter has been very screwy lately  \n",
      "  558377  -->  after a day of no internet connection day i m back online i m nw a very happy person post \n",
      "  215035  -->    i hope you find a job soon cause i love you \n",
      "  865039  -->  i got   teeth pulled   braces  it hurt soooo badly   nd it hurts sooooooooooo much rite no\n",
      "  295616  -->   i know   i know   i know   i know   i know   i know   i know   i know   i know   i know  \n",
      " 1433927  -->  i am gonna go ahead and play sega now  \n",
      " 1371878  -->  another day to think  alone in twiga all day  \n",
      "   53801  -->   congratulations to u   ur family   god bless all   of your children  welcome  to ur newbo\n",
      "  652106  -->  everyone should wish the amazing  a very happy birthday  and follow him if your not alread\n",
      "  667568  -->  enjoying breakfast and catching up on emails and twitter \n",
      "  813138  -->  i feel really bad for josh now  i wish i could do something for him  he totally deserves t\n",
      " 1463307  -->  in orlando  florida for a business trip  no  i did not bring the kids as school was not ou\n",
      " 1327784  -->  watching walk the line  though i missed the beginning half   wish i saw it \n",
      "  375108  -->   be sure to show us which one you pick   post pictures    \n",
      "  245979  -->   sad to say but where i live a father ate his sons eyes and that just hit a sore spot  \n",
      " 1014670  -->  karaoke tonight in old town  hit me up if you re hanging in that area \n",
      " 1114858  -->  offf to the festival \n",
      "  968528  -->   you should come to tonight meetup \n",
      "  121606  -->      i d prefer a vendor neutral conference any day  i m nobody s fan boy  i like competiti\n",
      "  626429  -->  back in the streets  my bestfriend last day here \n",
      " 1397823  -->  enjoying the hangover with  \n",
      "  558302  -->  ads not yet appeared  google adsense team said it may delay    hrs on \n",
      " 1194924  -->    sad thing is  i cant imagine life without my ipod \n",
      "  916965  -->  is not all that broken hearted  didn t want to jinx it but i had a pretty strong feeling i\n",
      "  166264  -->   thanks for the followfriday \n",
      " 1050858  -->  not so motivated for work today  since that is not a good thing  it s time to turn on the \n",
      " 1324659  -->  watching the golden girls and getting some sleep  exciting week coming up \n",
      "  981686  -->   polar bears   penguins rarely go near eachother    they re from opposite ends of the eart\n",
      "  699492  -->   ur really beautiful and i dont even know ur name \n",
      " 1035413  -->   incredible    you inspire me  i know you worked hard and it shows \n",
      "  948731  -->  just finished dinner  gotta do post production on my next song  \n",
      " 1200248  -->  there s some lovely violin music playing in a neighbor s house \n",
      " 1251038  -->  was   days to go   \n",
      "  915425  -->  i was so excited that it was tuesday b c that meant my   day started tonight at   pm   the\n",
      "  244514  -->   aww i got all excited there for a mo  \n",
      "  123196  -->   for reals  you have to go to thursday s show too    if not  then we ll have to do lunch o\n",
      " 1025845  -->  just watched the new moon trailer   well    seconds of it anyways   la push looked nice ah\n",
      " 1530743  -->  shows are over  already missing the prospect of playing jazz \n",
      " 1418481  -->  had today off  i will be back in the salon tomorrow   \n",
      "   41257  -->   hay if i don t ask i don t get  \n",
      "  330344  -->   i miss you honey \n",
      " 1146483  -->  on my way to make my debut at gadi   bailey s wedding  wish  me luck  \n",
      "  210737  -->   what sort of design are you looking for  \n",
      " 1031640  -->  l m      i have to go to work  \n",
      " 1439858  -->  i gotta admit  now that our network printer is fully working   tis an awesome thing to hav\n",
      "  483330  -->   cool    will check it out   am currently on directi servers  used to work there b  sutra \n",
      "  499651  -->   oh  poor chase  poor you  \n",
      "  993651  -->  its kinda hard for me to tweet whem my ipod is on its charger \n",
      " 1329849  -->  well this just sucks  new vcu manager and the drafts we are reviewing are from late      w\n",
      "  602344  -->   but i m thinking the gameloft thing could be a big hoax  \n",
      "  543231  -->   but i would be  delighted  if you called me  \n",
      "  592250  -->  all light a candle tonight     international candlelight memorial   be part of it   \n",
      "  917094  -->  is not looking forward to working all weekend when the weather is beautiful out  i guess i\n",
      " 1244566  -->   i actually wanted the cavs to win  but that was crushed \n",
      " 1519319  -->  packing  packing  packing and packing  \n",
      " 1514902  -->  omg i m watching kelly on channel   feeling like this how kewl and overpowering is that \n",
      " 1401551  -->  finally back from comedy show aids benefit hanging out with   s kitten    hour ride is ove\n",
      "  676173  -->  dear  happy birthday child    hope it was a good one    hope atl s sooper tonite   get me \n",
      " 1308375  -->  up for another day of    joy of joys  studying  \n",
      " 1349582  -->  you have to be more of an actor or actress to rp around here instead of being a writer  it\n",
      "  860094  -->   is it invite only preview  still waiting for my invite    \n",
      "  317158  -->   awwww thanks   showing me luv     hmm\n",
      "  481120  -->   haha  the dallas sex drive road trip with the dudes is off \n",
      "  319957  -->   my original feed and most links on my review index are broken  i hope they fix it   redoi\n",
      "  125216  -->   i would if i could afford the bag \n",
      "  365382  -->   heck yeah  i really like it \n",
      " 1384771  -->  can t believe rafa was beaten by a swede  haha quality \n",
      " 1287437  -->   lol   i must say  the pixy stix were rather delightful   we looked up their history on th\n",
      " 1247218  -->  waking up to the smell of breakfast \n",
      "  653161  -->  exam tomorrow for history subject    \n",
      "  346662  -->   kids  bday parties changed behind my back  became all evnt managed affairs  unlike home p\n",
      "  539439  -->  and on that note  i wish you all a good night \n",
      " 1282582  -->  tim and eric crack me up  so random  \n",
      "  372583  -->   aww   it s okay  we can managed it without that thing  hmm right  \n",
      "  373721  -->   ooo aye  love abit of them i do   are you going to stalk him     \n",
      "  436024  -->      smiles   thank you for reading my blog and commenting \n",
      "  704273  -->  good  old sim makes new iphone activate  bad  apple store is closed for renovations \n",
      "   44933  -->   que poco twitteas \n",
      "  173196  -->   i m afraid i haven t a clue where i am lol i still find it hard to locate the others hehe\n",
      " 1418479  -->  had to work today  but had a great service this am\n",
      "  881538  -->    lol   batman\n",
      "  915749  -->  is it august yet     i wanna go on vacation \n",
      " 1276563  -->  tucked up in bed  this reply is for me   so i remember to send some apologies to people on\n",
      " 1409758  -->  going to go see the full monty this weekend  i ve seen the movie but not the musical  it s\n",
      " 1511662  -->  oh no talking up to  inches of rain over next   days  i may be mucking out the basement ag\n",
      "  162780  -->   i hope you guys will be showing gameplay videos at e  this year \n",
      " 1523078  -->  quarantined from the outside world  \n",
      "  453841  -->    oh sayy can you seeeee  aha make it home safely boy \n",
      "  615894  -->  broken air conditioner     thank god palatka heating and air is here to save the day  i co\n",
      " 1184334  -->  that makes me want a farret   haha buler dies  bitch tits    cup of tea   \n",
      "  545385  -->   you are probably on the way to work  or at work now  but have a good day  and enjoy your \n",
      " 1047571  -->   i can t send direct messages from my phone   that sucks \n",
      "  314539  -->   boooo  you should have gone blackberry \n",
      " 1505086  -->  new to twitter     help meeee      i want to twitter \n",
      " 1077104  -->  my best friend   my boyfriend are leaving \n",
      "  302188  -->   it s not even that big  \n",
      "   19160  -->    i should tell you  i should tell you   likes to snuggle in her bed while her window is w\n",
      "  723805  -->  good morning everyone   no no  great morning  \n",
      "   28407  -->   hey  the england weather its back  are you guna do some more untouchable today   x\n",
      "  382716  -->   haha ohhh well i m still not good    love the sport tho \n",
      " 1251570  -->  they say u eat   spiders a year in ur sleep    i think i ate   last night \n",
      "  203177  -->   lucky    i love  hugs  they are almost as good as  hugs    awww \n",
      " 1372223  -->  another whirlwind tour of ne almost over  \n",
      " 1232515  -->  standing in line at chick  fil a    at the airport  man pickin his nose in front of me   i\n",
      "  708173  -->  goin to rodeo with vane and doraa  party party   woo woo   \n",
      "  400679  -->   i watched it too  but only half  i love taylor \n",
      "  296920  -->   i know  actually i leave in almost exactly a week  really excited   don t know what to ex\n",
      " 1175778  -->  reorganizing the house with  today  making power moves as andy from  says  \n",
      "  656671  -->  catching up with my mum for lunch today  this past week mum became a great grandmother   w\n",
      "  302036  -->   i  ni sama la   emo    saya thousands of miles from tedkl   nak pergi pun tak  leh sebab \n",
      "  260551  -->   i ll be gone  moving to north carolina at the end of july \n",
      " 1074430  -->   good to hear  \n",
      "  662281  -->  ear s keep popping   car siiiick \n",
      " 1224950  -->     seems to have been suspended also  must have also been a fake   \n",
      "  825041  -->  i have a follower but they are suspended haha \n",
      "    1428  -->   i don t like crying \n",
      "  591456  -->   life is going well thank you  how comes you been hiding  lol we ve missed u \n",
      "  973547  -->  i ve got my copy of   st cenury breakdown    day before it s released  yay \n",
      " 1450070  -->  i soooo hate my phone      this storm is going back    it doesnt even feel like i have a b\n",
      "  993608  -->  just got back from getting the cats their shots \n",
      " 1173357  -->  summer school is kicking my but  \n",
      " 1503064  -->  my trip to alabama with magin oh is almost done  heading back home soon until i m off to n\n",
      " 1248888  -->  wants to go back \n",
      " 1131550  -->  ok im not gonna go out today im so sad  i wanted alcohol   \n",
      "   30856  -->   awhh  why dont you go to the beach  lol its not warm enuf for tht over here  but once you\n",
      "  680700  -->   awwwwww he can come  i think it ll be happening in scotland  \n",
      "  649411  -->  electronic cigarette   sorta want one  \n",
      "  588310  -->  ahhh crap    bike ride looks like it could be rained off \n",
      "   26252  -->   awww   sorry    hope you enjoy the film anyway   you can always ask me any questions you \n",
      "  110638  -->   if twitter is broken then how can we see ur tweet  btw  that booty shake u did the other \n",
      " 1289292  -->  too bad my phone is off  otherwise  i would have been able to give more frequent detailed \n",
      "  426663  -->    me   i m slightly freaking out  i m surprised i haven t seen you into the shebang   wtf \n",
      " 1342625  -->  wish i was   the roots picnic right now ugh i bet that bytch is humping \n",
      "  916959  -->  is not a fan of forms \n",
      "  232637  -->   also you should really get some rest    the cruise is fast approaching  cant wait to see \n",
      " 1365334  -->         page paper to write this weekend  \n",
      "  604183  -->  been such a gd few days  too sunny to be stuck inside on the laptop lol\n",
      "  274853  -->   the nearest barnes and nobles is already out of your books   they just got their shipment\n",
      "  640026  -->  doh   no cream at work so no coffee  \n",
      " 1524800  -->  really vh   don t stop believing wasn t even top ten  fuck u  but pour some sugar on me wa\n",
      "  208290  -->   please see the article  it s a big political ploy of the tyrannical military rule \n",
      "  830397  -->  how come it s so cold now   a few days ago it was wicked nice out  now i feel like i need \n",
      "  929869  -->  it is so nice outside today  i can t wait to go to a park with my family  just hope nobody\n",
      "   45077  -->     chuck   i so want to watch it but i haven t got a chance  how is it  is it good   you s\n",
      "  577510  -->  beach   enough sunscreen   sunburn  ooops  haha  soccer partayy tonight \n",
      "  252475  -->   we all love you     \n",
      "  437717  -->   wendy s double with cheese  no joke  i hate fast food  but it s the only thing that sorts\n",
      "  432145  -->   haha something like that yeah   btw  wpp is here again   plaatjes kijken  \n",
      "  517015  -->   would you believe i do not have one june wedding     but look out come july    \n",
      " 1288616  -->  up is coming real soon  early buzz is fantastic  \n",
      "  126675  -->   hey   said to say you are a little nerd \n",
      "   96907  -->   thanks crystal   i ll follow her \n",
      "  171336  -->   not sure gil  i m still waiting for the next gen iphone before i get a contract here in g\n",
      " 1248315  -->  the whistle we missed the second one though  \n",
      "  348578  -->   it should happen within the next couple of days  i will be sure to post to you  \n",
      "  795728  -->  halfway there  atsmmtatpammmy  imrenbikis     \n",
      "   38521  -->   yes  you heard me right    \n",
      " 1248723  -->  wants my phone backkk \n",
      " 1134705  -->  shoot for the moon  even if you miss  you ll land among the stars  \n",
      "  773422  -->     the sweater says it all  i miss it  the song i wrote is like now my all time favorite \n",
      "  218946  -->   my ipod is awol  renders me sad and useless much of the time \n",
      " 1466236  -->  is feeling sorry for herself  has lost her voice   not like i use it much anyway   but sti\n",
      "  445270  -->    but    i like safari     \n",
      " 1308694  -->  you can have your cake and eat it too if the cake s really big  \n",
      "  681299  -->   yap     and it was quite expensive \n",
      " 1149870  -->  outback steakhouse bread  you know the sort they give you with every meal  oh i melt insid\n",
      "  277525  -->   nephew in law   if there is such a thing \n",
      " 1289408  -->  too much dance  not enough food   im bored save me \n",
      " 1171419  -->   nah  it was literally only just set up and my ipc address gets none  a study said people \n",
      "  905792  -->  i m loving the humongous tomato i got at the farmer s market today  \n",
      "  484152  -->   lol   shells that are thrown in the fountain will give you one poupee item  \n",
      " 1441572  -->  i have a headache  and it s not going away  \n",
      "  331253  -->   i spoke to tom and he said that didn t actually start queuing until  pm  but anyway  that\n",
      "  594888  -->  back home  feels great sitting in front of moi desk s     lcd \n",
      "  229988  -->   you are lucky  alot of people are having disc authentication failure and cant play until \n",
      "  754904  -->   the evidently didn t have any of the smaller ones   i will keep looking   i got a keen th\n",
      "   90145  -->   boston got the best looking people in hollywood  \n",
      "  331187  -->   how come  i need to lose the weight  dieting hasnt worked  im over     lbs overweight \n",
      " 1162931  -->  step down  the only boulders u b throwin are the ones from the convention dramas  those ar\n",
      " 1089206  -->  on the way to cedar point  woooo \n",
      "  233098  -->   i would love to but i have to work on saturday and if i go i might get stuck there fri ni\n",
      " 1518200  -->  operation sneak is now over and i can reveal that i am in melbourne for another day  who w\n",
      " 1354661  -->  works now \n",
      "  338963  -->    good luck  \n",
      "  620070  -->   jerk    i want to be done too \n",
      "  817885  -->  hello people  tutulog ulit after a few minutes  \n",
      "  281453  -->   social media is more than hugs   it s leveraging the web to help one and all to improve u\n",
      "  950912  -->  is soooooooooooooooooo glad taylors back \n",
      "  226644  -->   noppeee darlingg   it didnt  if i wanna send you guys fan mail   where do i send it  s\n",
      "  829126  -->  i have no money \n",
      "    3229  -->   im bumped cause he cant go \n",
      "  213221  -->    u forgot the coffee  \n",
      " 1554793  -->  txtin mi peepz ask   mi   an i txt you  \n",
      "  922590  -->   no word on  her condition yet   \n",
      "  352312  -->   good times  looking forward to doing it again  i found myself looking at x box    s on th\n",
      "   76860  -->   no because no celebrity don t like to talk to me  only celebrity like to talk to celebrit\n",
      "  122161  -->   do you have the soundtrack  i love it  i m falling ill now cassi \n",
      "  884934  -->  i like the e  dats tight  \n",
      "  333095  -->   lol thank you \n",
      "  374793  -->   omg  i cant believe that i missed it      soo sad \n",
      "  434716  -->   hey mitch  just saw this tweet   as long as he s not crying or destroying anything  feel \n",
      "   71862  -->   i totally had rice in my hair  down my shirt  everywhere  it was a mess until i got the h\n",
      "  300094  -->   i pray everything goes awesome   u in rome   god is definitely doing awesome things throu\n",
      "  496550  -->   ive been told you think i m too nerdy \n",
      "  445815  -->   when s the next shoot   i still want one \n",
      "  504329  -->   lmao omg he s so mean  my feelings hurt \n",
      " 1554853  -->  tysm  hes just not that into you   instincts are pretty much     of the time right  if not\n",
      " 1092635  -->  or earlier    fail \n",
      " 1221440  -->   did you have fun at the show    i wish i could have gone  \n",
      "  460669  -->   hes this huge newfoundland    so cute  hey do u hav facebook  just wondering     \n",
      " 1034017  -->  never use inline javascript  it s not        \n",
      "  264147  -->   naww   thanks   us fellow nerds  lol  they were mostly easy  except my graphics exam coz \n",
      " 1247875  -->  want to go to sleep because im tired and sick     and voice is gone so caant sing   could \n",
      "  117286  -->   its sex and the city  you put in  i correct everyone all the time when they do that  its \n",
      "   43604  -->     i may actually have to pick up the phone and vote \n",
      " 1082739  -->  omg    look      i wish i was there so badly  xxxx\n",
      " 1505264  -->  nia  the weird ones  aha \n",
      "  706329  -->  got a interview today  im loving havin days off\n",
      "  305304  -->   she opened it    she ones bottled waters too   then she said  i make mess mommy   smh\n",
      "  327026  -->   i used to listen to kexp a lot when i first started school \n",
      "  913685  -->  i m so ill today   wine is no longer my friend  but lunch in the sun was brilliant and def\n",
      " 1014733  -->  kayla tried to trade purple ball for mommas cereal  dont think so but so cute \n",
      "  211939  -->   ohh man what ever would i do without you jamie  love you \n",
      "  933636  -->  im just relaxing after a long day \n",
      " 1445402  -->  i love gene simmons family jewels  another season starts next sunday  \n",
      " 1151368  -->  pandoring again  rammstein station  but getting a lot of megaherz  not really a megaherz f\n",
      "  369724  -->   i cant believe this weather   is today june  st or am i hallucinating   \n",
      " 1549979  -->  time to lay out by the pool  i think so \n",
      "   66773  -->   me too \n",
      "  399263  -->   thanks  have fun   scn \n",
      "  977413  -->  is really really really excited to have her sister as a next door neighbor   now we really\n",
      "   56868  -->   but   world war iii      fly with me   and   what did i do to your heart   are pretty goo\n",
      " 1038917  -->  mandyjirouxx just wanted to say i love you  beach girls rule  i would call but i m in engl\n",
      "  876158  -->  i want to upload videos  youtube  sorry for the lack of freshtodeath stuff you guyz    i a\n",
      "  611719  -->  cleaning   gotta call jewlsie over here  lol \n",
      " 1461446  -->  i m sorry to say i ll miss the tweetnetworking event tonight  both hubby and i got the kid\n",
      "  577909  -->  a pheww  it s fine now \n",
      "  818712  -->  i guess i stayed in the bath tub for too long  now i m a bit dizzy   i like to read books \n",
      "  845248  -->  i am so in love with this kid  he s full of so man amazing ideas  \n",
      "  948007  -->   omg  that looks good and i m so starving right now  thanks \n",
      " 1506635  -->  no rss love in coast guards new outlook       \n",
      "  452980  -->   oh    mark hoppus  i think he s the lead singer of blink  that would make a lot of sense \n",
      " 1291492  -->  work all day  again  gym after work  no plans for tonight  \n",
      " 1437462  -->  i dont like fall and winter  its cold  the days are short  everything is soo boring  i wan\n",
      "  306796  -->   girl     i m gonna cry now        i will do my best  i really really want to      really \n",
      " 1374683  -->  at the city of mb trying to get a parking permit for the apartment   and feeling a little \n",
      " 1085274  -->  need to redesign my room    need to think about cleeaning it first \n",
      "  738855  -->  guess i gotta back to school today  not feelin this at all\n",
      " 1062650  -->  my boy has died    i have never been this upset  i feel empty and like someone is stabbing\n",
      " 1188438  -->  section c of english done time for some relaxation school on monday \n",
      " 1367667  -->  after watching that race i remember why i don t like horse racing  poor horses  getting be\n",
      " 1397530  -->  england is back to normal it s raining again \n",
      " 1271998  -->  these tears come ouut at thw wrong time \n",
      "  429829  -->   im doin effin fine  you  err   nice to meet you too doll \n",
      " 1467718  -->  is home  had a haircut and a bath but it s still extremely hot  \n",
      "  446316  -->   always will be  \n",
      "  334895  -->    same here it s to hot i m my house      \n",
      "  144567  -->   unfortunately not  but getting a phone with internet around the  th of june   waheey haha\n",
      "  524928  -->   end of the tour      when back in brazil      \n",
      "  398228  -->   that s one option  but i don t have a lot of self discipline \n",
      "  404916  -->    sorry ryan  but there must be a shop somewhere close by  no  \n",
      " 1568271  -->  who s up twitters  i can t sleep \n",
      " 1324521  -->  watching the disney channel in touch with my childhood im really getting into it  \n",
      "  233213  -->   thanks for the awesome   i am touched  and since it s you  i m not creeped out like when \n",
      "  936082  -->  it s super hot in my garage  i wish i could smoke inside during the summer  \n",
      " 1376511  -->  aww  i was really rooting for the shutout   still an absolutely awesome performance by les\n",
      " 1265689  -->   hahaha i totally blipped it for you   but alas i was late \n",
      " 1489008  -->  listening to the same song for the gizillion time     they should clone nelly coz he is aw\n",
      " 1454744  -->  i woke up late today     am \n",
      " 1330194  -->  well  that s that done \n",
      "  673252  -->  excited for the future leader class of         but sad that i ve only got two months in th\n",
      "  415442  -->   sounds good to me \n",
      "  556518  -->   no  i really have no idea   \n",
      "  776784  -->  holiday was fantastic \n",
      "  378267  -->   i d go thrifty for the pillowcase project  \n",
      "  180426  -->   great hair  looks good on you \n",
      "  747223  -->  getting ice cream  not feeling well \n",
      "  801142  -->  has a nasty headache   mehhh\n",
      " 1425363  -->  hells kitchen was shit tonight \n",
      "  222845  -->   you want me to come and massage your troubles away    you know it ll make you feel better\n",
      "  931178  -->  i m going to start getting ready to go see a movie  two dollars can t beat that for a movi\n",
      "   98997  -->   hehe  would help her if i was still at her place   i m at my house and yes  i think it s \n",
      " 1025747  -->  just watched michael give fiona the miami snow globe  there s a certain charm in watching \n",
      "  604616  -->  can t wait for november to come    \n",
      "  157898  -->   i don t have sims     i didn t get it yet cuz i know i ll just waste away in front of it \n",
      " 1104525  -->   great  yes we are coming this sunday  it s been too long  i am sure addison is beautiful \n",
      "  853824  -->  i could have just walked away  \n",
      "  962622  -->  its friday night    too bad i can t party   gotta work tomorrow \n",
      " 1046737  -->  lol  i copy and paste from a webby \n",
      "  786149  -->  ha   coverage of  rumor mill   you know she cofoundedtwitter  right    \n",
      " 1493998  -->  me and mollz faces are all cleanz now  sleepytime   \n",
      "  672921  -->  ewww  some creepy sketchy people are following me  i think it s due to all my   tweets  um\n",
      "  590705  -->   sorry sheils  won t be able to make it this time   good luck  tho  \n",
      "  396910  -->   congratulations     \n",
      " 1405869  -->  gary player         must be worth a    each way   will let you know my serious placed bets\n",
      "  489506  -->   over here     \n",
      "  469744  -->   nope  vulcan      sweet bike  just not riding it enough   used to take twisty country roa\n",
      "  711326  -->  fantastic day at the beach  the boardwalk and an awesome meal at sonic   time for bed   gn\n",
      " 1187581  -->  school must start again   i m so sad in a little while i won t be able to twitter   \n",
      " 1568885  -->  why does he think im nasty  why why why   im broken hearted lmao\n",
      "   60245  -->   thank you too \n",
      "  690416  -->  freakinq bored with hw     im watchinq csi  miami   awesome\n",
      "  172509  -->   yes  really   also  do you have any interest in reading fire  the graceling prequel  \n",
      "  794518  -->  i can t whistle \n",
      "  998502  -->  i ve been slacking on the blips    but a nice mellow one before i go to sleep     \n",
      " 1283611  -->   i dont have a password  im gettin my tix thru someone else  \n",
      "  380269  -->   oh yes  that s it   i remember now   \n",
      " 1423866  -->  he got my hopes up for nothing    u can t play around with twilight \n",
      " 1171549  -->   sorry to hear \n",
      "  731848  -->  got home from uptown    spent           argh  \n",
      "  361278  -->   i wanna know what you re doing \n",
      "   48874  -->   haah dougie s always one huge wierdo  but i like him all the same \n",
      "  571592  -->  back to my trigun marathon \n",
      "  910534  -->  is feeling it today  sooo tiredd \n",
      "  171486  -->   browsers run on desktop  mate  get the clue  you don t anything else  \n",
      "  989922  -->  it s     am and i m already dripping sweaty   thanks orlando   \n",
      "  154140  -->   i scratch my      bag   so sad\n",
      " 1377452  -->  back from jfk to yyz  home sweet home    \n",
      " 1408305  -->  goin to bed soon   if i can find a place to sleep  ughhh\n",
      "  881718  -->   not supposed to but gonna drink an twitter anywho    \n",
      "  147418  -->   awww don t be like that \n",
      " 1263739  -->  well gotta get ready then im off to work  see ya all at around  ish  \n",
      "  730046  -->  got   new fish today for pond  mine is a ghost koi and he is called andy \n",
      " 1348456  -->  yeah i think i broke the twitter bg upload  it s not working for me  \n",
      "  505865  -->   i want to see true blood too  i just can t find it anywhere  is it any goooood \n",
      " 1563389  -->  watching   guess what    home and away  again    it s everyday  the best serie ever  \n",
      "  296074  -->    yawn  mornin  \n",
      "  163189  -->   lucky u   i ve just got a blackberry   it seems   b   of the most awkward things install \n",
      "   77610  -->   i need you so much  ate  \n",
      "  802962  -->  has just finished the clinical training program of the speech section    down  the rest to\n",
      "  385926  -->   put them through the grinder    glad you liked it   give me a shout out for that   \n",
      " 1031957  -->  nature valley bars ftw  oats  n honey is the best  \n",
      "  501955  -->   thank you  i needed that  my day is already going bad  \n",
      "  246546  -->   boys over flowers is super addicting    to the nth level  haha    btw  who s your fave f \n",
      "  923304  -->  is stuck in some long ass traffic on the motorway   i m not gonna get home until after   p\n",
      " 1554943  -->  ucb selling      free from tomorrow      pm  ucb fans  bad news  no ucs on sale  \n",
      " 1400689  -->  feeling so sorry for myself  i have conjunctivitis  really bad  my eyes look minging \n",
      " 1533498  -->  so i finaly got in a lil cat nap  but i still don t feel well rested \n",
      " 1513563  -->  ok  i am done twitting   got to get in bed   good night \n",
      "  636971  -->  bookwork  bookwork   keeping books for   different business and then personal books make i\n",
      " 1570384  -->  wish i was goin to wembally \n",
      "  363700  -->   that s just it  it s only a religous tech battle from one side  i m actually using  reaso\n",
      " 1446308  -->  i lovee lovee lovee the nanny   \n",
      " 1041833  -->  mcfly jb don t believe  o mcflt  pcd   don t believe agaiin  oh gosh   \n",
      "   63514  -->   we all did \n",
      "  439083  -->    i ve been looking for it too  but can t find it  am waiting to do a mass hqn purchase \n",
      "  759029  -->  going to get ashley to go to a pool party   \n",
      "  876238  -->  i have an urge to listen to briam adams   \n",
      " 1074753  -->   i think if your boss told u to don t show up  just don t show up  because  he s the boss \n",
      "   53058  -->     imo  the tv you watch a movie on matters half as much as a nice sound system  with a cl\n",
      "  382081  -->   no  ma am  i ve tried it before it was drama at every turn  all bad  \n",
      "  690468  -->  going to be late because i have to take the bus  but chris is here so it s fine\n",
      "  127490  -->   also thinking a kwan yin would be high drag or even tg to really catch her vibe  ymmv as \n",
      "  257387  -->   stick those heels where it hurts them most \n",
      "  129710  -->   oh weird  haha  i don t use myspace  i find it too confusing  i only use facebook   haha \n",
      "  441106  -->   i did  but it says its just payback for not taking care of it when i fell \n",
      "  805772  -->  i can t go to sleep  my sister insisted that we watch passion of the christ  i m scared \n",
      "  707926  -->  got no sleep haha in the car with my brother heading to boston  i think another  hrs and w\n",
      "  424910  -->   i wanna see it  but i have to wait till it comes out in argentina  xoxo seel \n",
      " 1424073  -->  headache  still a little sleepy  i miss ma babyy soo damn much right noww  wakee upp \n",
      "  778511  -->  i actually watched tv last night  and this came on   i lol d long time  \n",
      " 1214680  -->  totally sick but all the cold flu medicine is missing   taking some daytime pills  hope th\n",
      " 1468373  -->  is leavingggg  bye see ya in a few hours b  \n",
      " 1420161  -->  happy mothers day mommy  i love you so much  dono what id do without you   \n",
      " 1401830  -->  finally got home  our band had a show today  it was so much fun  anyways  prom tomorrow  a\n",
      "  957481  -->    insomnia sucks  i havent gone to bed til after  am these past few nights  \n",
      "  695914  -->  eating bad stuff late  \n",
      "  480714  -->   i really want to watch the new episodeee  get on aim soon i havent talked to u in fo eva\n",
      "  842076  -->    wrenching  was the correct spelling  i always think it s wrong too \n",
      " 1539183  -->  still working on the new babyshowergamestoplay website   still looking for unique games to\n",
      "  172137  -->   better  haha good that we re learning more about twitter now  haha   looove the babyy in \n",
      " 1038108  -->  mallin it up at eight at night on a monday  you wish you were this cool \n",
      " 1325250  -->  watching tna on bravo  looking through my pictures of me at the tna event from london  if \n",
      "  892724  -->  i would really really like to be seeing patrick wolf tonight at the mod club \n",
      "    8388  -->    you blame your grammar   misspellings on being up late reading   tweets \n",
      " 1401782  -->  finally going to sleep     tomorrow another day of work     ah i wish i could sleep all da\n",
      "  302056  -->   they re plotting squirrel world domination \n",
      " 1435398  -->  i bruised my toe worse than my i did my finger  it fuckin hurts right now even with ice on\n",
      "  592451  -->  baaah   omg i have to eat lamb for dinner      i would rather chicken     but i have to ea\n",
      " 1310734  -->   hey  can i be in top friends on your myspace please  i just want you to know that it s ha\n",
      "  322893  -->   i ll save all my kicks for you  \n",
      "  178845  -->   cool   i was looking forward to seeing aero   zz top  but it s too far   expensive     i \n",
      "  211272  -->   lol no comment \n",
      " 1508082  -->  not really feelin  like cerial for breakfast    \n",
      "   95184  -->   thanks  so by my simple math this equates to a     increase in monthly contract cost if w\n",
      "  685021  -->  finished with assessment   and   for my students for business system analysis subject \n",
      " 1216213  -->  so happy my love is getting to fish with his brother  \n",
      " 1179616  -->  taylor probabl doesnt like pale girls \n",
      "  150006  -->   but archie   mo twister isn t that good    many personalities in showbiz hates him   real\n",
      "  155155  -->   see u tml babe  tkcr ok  happy mini shopping sprees  \n",
      "  746830  -->  getting all the love i need  \n",
      "  531172  -->   i just love making fun of him more than i love the music \n",
      "  733977  -->  first day over   happy to see my friends  \n",
      "  130799  -->    i m obviously not meant to send this email out  as its crashed again  and i was so close\n",
      " 1096224  -->  need to get started on plant simulation \n",
      "  477829  -->   i think i d prefer the cobbler  i have a think for cobbler  \n",
      "  779165  -->  i also played bionic commando on        i really think that awkward is equal to bionic arm\n",
      " 1135679  -->  ok  just finished our homemade nachos  now i m off to build stationery kits for    primary\n",
      "  500986  -->   aw that sucks are you sick    x\n",
      " 1061203  -->  off to work ho hum   will listen to more dan le sac in the car there   \n",
      " 1306059  -->  watching tommy boy  and maybe a nap before my appt\n",
      "  556939  -->  about to go to work    closing tonight    please continue to pray for my mouth    love you\n",
      "  515002  -->   how did you get discovered  \n",
      "  535889  -->       nill \n",
      " 1555488  -->  ugh tequila got the best of me  i m sorry   but we are on for tomorrow  don t let me drink\n",
      "  372119  -->   his leg got stuck in the crib bars  he slept w is at night  he was so traumatized he d sc\n",
      " 1248406  -->  thecomputernerd   is beast  \n",
      "  808080  -->  i got flu               and my sistem too    \n",
      " 1254915  -->  the circus is in london   lets start the show   \n",
      " 1259198  -->  the plan fail they fell full theirs ball    why to me           \n",
      " 1195340  -->  shoot i forgot mike s beer \n",
      " 1422104  -->  hate having pmc    it injures my body \n",
      " 1040611  -->  no  they are in july now  my mom moved them\n",
      "  994321  -->  making my first tweet \n",
      "  780721  -->  great workout  great post meal  watching tv  waiting on my goose to get here  \n",
      "  130151  -->    aw thanks for responding howww youu doinnnnn im watchinn ur vids i agrew with the too pi\n",
      " 1401508  -->  finally a day off  sigh  not sure what   do w  myself lol spending the day w  the kiddos  \n",
      "  136412  -->   shipping costs are too expensive for spain    \n",
      "  993744  -->  it s monday and i have a sore throat \n",
      " 1494551  -->  microbio    makin a list  checkin  it twice  gonna find out who s naughty and nice     got\n",
      "  735338  -->  graaaaading essays   need to work on my website   anybody want to help with html   \n",
      "  268804  -->   hey dudes   \n",
      " 1408339  -->  goin  to kfest  morrow    \n",
      " 1440664  -->  i hate how celebs twitter so much  i just want to talk to them but im not worthy enough  l\n",
      "  114072  -->   are you joking  or was that just making a clever tweet  \n",
      " 1515458  -->  omg  border collie throw pillow  i wants so much    can t justify   after vet bill for pup\n",
      "   45859  -->   i see your point but the indie rock seems to work best for us  we like to b a bit differe\n",
      "  995657  -->  man  i don t feel like doing a god damn thing  sick \n",
      " 1364845  -->    ls students na pala meron ng a h n   virus  isa yung pumasok sa klase  so there     \n",
      "  812946  -->  i feel like i should be just now going to sleep  i m awake \n",
      "  851763  -->  i need to get up and clean house   \n",
      "  888586  -->  i love today \n",
      "  632144  -->  conquering guitar hero is a job and a half  am now on medium     but balk at the thought o\n",
      "   56116  -->   broxei com ele \n",
      " 1040189  -->  night one   over  done with  hugely successful   over     kids  my exhaustion is beyond an\n",
      " 1349071  -->  yesssss mtv movie awards tomorrow night \n",
      "  221747  -->   aww im sorry swty   i guess the bug is going around at this time of year  i would send yo\n",
      "  544391  -->   check mail \n",
      " 1115607  -->  oh fml  just found out tom morello is opening for janes addiction and nine inch nails     \n",
      "  801604  -->  has been digging     time to go eat  \n",
      "  318068  -->   you should take pictures \n",
      "  857519  -->  i don t know how much longer i can do this    i really want to punch someone right now    \n",
      " 1501163  -->  my latest design for kris allen fans   visit allentown usa        couple more designs to c\n",
      " 1148318  -->  so many ideas for my book  no laptop to type them on \n",
      "  887627  -->  i m not too concerned  she thinks i ve got crap taste in movies so  if she hated it  i ll \n",
      "  776183  -->     rip tights \n",
      " 1476785  -->  i ve started on composing a new piece of hypno music    it is  not  going well though \n",
      "  723709  -->  good morning everyone  my great mood from yesterday has continued into today   it s so war\n",
      " 1463297  -->  in on a friday night  alone  it should be annoying  but it s not  \n",
      " 1404086  -->  foregoing terminator salvation today  on way home feeling a bit jaded \n",
      "  678568  -->  fucking arse  it s supposed to be torrential rain on sunday when i was going to make every\n",
      "  166303  -->    nope but i guess you could just follow me again  alan\n",
      "  644493  -->  but in all seriousness the show is expanding into significantly more markets next week  \n",
      "  947867  -->    i got through on the phone   but it hung up on me   now its busy\n",
      "  974557  -->   woo  save money for bea    we can settle up afterwards    concert not til july \n",
      "  728183  -->  hangin  out at home playing some online games     bored  \n",
      " 1180933  -->  rt  everything is fuel for the bonfire of awareness    here is the essential meaning of th\n",
      "  743758  -->  had such a fun outrageous night last night \n",
      " 1505863  -->  no coco pops this morning  there are some stale biscuits outside in the kitchen from yeste\n",
      "  904166  -->  in the mountains for the day     no service \n",
      "  546525  -->   p s  i can t believe i didn t pick up that whale s vaginia was from anchorman   good movi\n",
      " 1076447  -->  okay as long as it stays were it is we will be fine       yay it moved \n",
      "  307723  -->   tweet often and it ll draw followers to you \n",
      "  605109  -->  being sick   unibody mbp   lots of screen cleaner being used today \n",
      " 1424044  -->  headache too  plus the renovation noises upstairs is killing me  anyway  bali pictures are\n",
      "  308564  -->   was right  this is a sad picture  \n",
      "  689290  -->  found my phone  turned everything electrical off because someone said so  contact me in so\n",
      " 1505796  -->  no bears          bad times\n",
      "   94476  -->   my pleasure too  \n",
      "  340058  -->   my pleasure fi \n",
      " 1352435  -->   well  seriously  vulgar   i see   and then nigga in the same sentences    disgusting talk\n",
      "  114277  -->   did you like europe  \n",
      "  237821  -->   what    happened    \n",
      " 1071028  -->  morning   looks at clock  yep still morning  p\n",
      "  311340  -->   oooo you got roped into that   don t tell anyone but i ve watched a few myself haha\n",
      "  352124  -->   god  thats bad  btw could you go on msn for a bit \n",
      "  428646  -->   im asking all of my friend to follow you here from brasil  but im sorry  i don t have man\n",
      " 1122863  -->   i can t get any volume at all  but i think it s my computer \n",
      "  741737  -->  he called his mom very upset \n",
      "  688959  -->  doing a grocery run  could be one of the last in queens  \n",
      "  605992  -->  cavs lost im so crushed \n",
      " 1275175  -->  whoops  just used up my first ink cartridge for my   pen  was hoping they last longer than\n",
      "  675396  -->  fam is now back for the rest of th e summer    let the real fun begin    eh ehh \n",
      " 1030153  -->   i am lost  please help me find a good home  \n",
      " 1360691  -->  yesterday was my last day of school  let the fun begin     \n",
      " 1346762  -->   thanks \n",
      "  323808  -->   im glad you got on twitter  i love you baby \n",
      "  584318  -->  after all these years it still gets me when the horse gets sucked into the swamp water in \n",
      "  157126  -->   i m flattered  but my gf  doesn t approve of u being in love w me    \n",
      "  691487  -->  dont want to go to workkkkk  but im seeing olivia later   yayyyyyy     \n",
      "  164749  -->   i love you  \n",
      "  789993  -->  i cannot be bothered to even fix this up   why did people make me get twitter if i have to\n",
      " 1368431  -->  ahh  infomercial time  seriously    i need the magic bullet   \n",
      " 1188408  -->  second place is first loser   but not when the second place shirts look better than first \n",
      "  410471  -->   that would be amazing   if only we had an h m here though   along with zara  topshop etc \n",
      " 1546125  -->  the tuna can just sprayed me  now i m gonna smell awesome  \n",
      "  814304  -->   oh no  i hope you get some sleep later  take a nap and don t push yourself \n",
      "  177308  -->   i ve never seen purple rain \n",
      "  550376  -->   i m your friend  \n",
      "  389770  -->   how on earth did you manage to do your haloscan   o my friend told me to sign up for one \n",
      "  145171  -->   haha i m not even mildly surprised you know about it \n",
      "  348141  -->   qual o twitter dele  \n",
      "   56071  -->   haha sure   see yah later  \n",
      " 1060133  -->  off to the dentist  wish me luck \n",
      " 1572935  -->  work is thankfully going by quite quickly    out at      then hopefully hanging out with m\n",
      "  700956  -->  getting ready for church with dad   then eating with grandparents  another sad thing \n",
      "  112893  -->   wish i was  but sadly not \n",
      "  949528  -->  just finished watching the mtv movie awards     but   i really do hope my cuzzins ok \n",
      " 1148949  -->  so proud of some certain sosd friends pursuing their dreams \n",
      "  130936  -->   woo you have trainers  boo you working tonight \n",
      "  761656  -->  hottest place in the uk today was        inverness at   c  the weather truley is screwed \n",
      "  332237  -->   oh  that s really sad \n",
      "  988437  -->  loosing this sucks \n",
      "  400728  -->   cuz i m good like tht lol jk  actully i didn t kno u were up  i just wanted to say good m\n",
      " 1419194  -->  hand you back ailing iphone  with no phone  and say  bizarre  he tells me apple store will\n",
      " 1194291  -->   error  hopefully be working later  s\n",
      "  991689  -->  its good news week  \n",
      " 1345016  -->    i m bored too \n",
      "  927782  -->  in other news  i just found out my wife may not be back a couple days   i miss her\n",
      "  564125  -->   hey we missed you sa   eb kanina  sayang we had so much fun  \n",
      "  851915  -->  i cant even explain how cute this grey tabby i cat was that i saw today  it broke my heart\n",
      " 1493755  -->  may has been a trying month  but the clouds are clearing and there is a forecast of sunshi\n",
      "  393358  -->   we should go skydiving  anna wants to go too  remember we decided we were going to someti\n",
      " 1193556  -->  should ve went back to jersey w  mushi instead of being stuck in crappy boston weather \n",
      "  887647  -->  i m now at the stage of essay writing where i am thinking faster than i am typing which me\n",
      "   56211  -->   hmmm  sounds like a real dilemma in the baker household \n",
      "  376555  -->   bring it       \n",
      "  855299  -->  i pulled a muscle in my neck so am now having to be still watching the wildlife here  cool\n",
      " 1343571  -->  workingggg  almost done   breakin tonight \n",
      "   36742  -->   sorry to hear about kashmir  \n",
      "  990214  -->  loved the mtv movie award        \n",
      "  694359  -->  duck dodgerssss    \n",
      " 1514573  -->  omg all round today has been a very stressful day and sadly the stress isnt over yet  \n",
      " 1151299  -->  painting     i think this room will be max relaxin lol but srsly its gonna be cool  purple\n",
      " 1385497  -->  can t sleep      scaredddd     someone txt me\n",
      "  767900  -->  good morning twitterverse  been up since   w   i hope today finds all of you in high spiri\n",
      " 1311814  -->  well my plans for today are still going  i am feeling rather unpleasant physically but not\n",
      "  402574  -->   not yet  i m alone tonight \n",
      "  550979  -->    down   to go    just   more day      \n",
      "  160040  -->   yup tita baby  haha  sige i ll say hi to her for yoooou  \n",
      "  673190  -->  excited for camp today  life is amazing  \n",
      "  122167  -->   no  it s normal morning feeling    possibly a little more    i feel icky     am in ofc an\n",
      "  400389  -->    a year i really wanted to be there  whens the next gig there then   even tho it would ta\n",
      "  933926  -->  its been so lonely the last couple of days    i mis my fifa buddy s \n",
      " 1476939  -->  jamiemcreject hey  thanks for following  i ve seen your   tweets  i agree  mcfly and mcfly\n",
      "  208418  -->   ah  i m just so glad the saga isn t over \n",
      " 1147548  -->  on the phone with lauren  tireeed\n",
      " 1530672  -->  shower time   enjoy your saturday  friends   \n",
      " 1490579  -->  looks like it will be a nice day \n",
      "  733478  -->   took down the umad vid  i loved that one\n",
      "   41065  -->   i miss u   u were my favorite teacher   and u always encouraged me    u were the most imp\n",
      "  867357  -->  i had a niece first  you re just copying me again \n",
      "  669547  -->  first time here   insomia \n",
      " 1294722  -->  waiting on my results from my dad s mri    he keeps talking like he s gunna die \n",
      " 1354244  -->  working on   shoots    traffic school tomorrow    \n",
      "  857481  -->  i reaalllyyy want summer \n",
      "  571116  -->      dayz    \n",
      " 1033209  -->  last night was really fun  think i got  hours of sleep last night\n",
      "  438915  -->   suze you re at   k    can you believe it    although the more followers you ll have the l\n",
      "  413197  -->   no one will be so kind to drive you    minutes here   \n",
      "  527149  -->   i hate when you tweet these  you just make me feel stupid  it s mean \n",
      " 1498722  -->  my big guy is so sick  i hope he feels better soon  \n",
      "  248650  -->   i wish i could  but i have to study   it sux\n",
      " 1211942  -->  sortting my groups out on tweetvisor and if you use twitter com you should try tweetvisor \n",
      "  451726  -->   i like the dtp song \n",
      "  765490  -->  good morning sunshines  i m up early for work but i get off at  pm to head home for my bro\n",
      " 1433410  -->  i also wish i could have attended the  next time \n",
      " 1513149  -->  ok its official  i feel like crap   dunno if its allergies or a cold but i hate feeling th\n",
      "  622928  -->  dang my own ldbf didnt give me a follow friday shot out \n",
      "  972012  -->  is listening to beyonce and is sad about the horrible weather in england today \n",
      " 1292309  -->  trying not to panic about the fact i can t find my email confirmation for thailand flights\n",
      "  487494  -->   you should start it and a whole new trend will begin \n",
      " 1320087  -->  where s joe \n",
      "  868533  -->  i took a shower then didnt feel like strightening or curling my hairl haha so its just ble\n",
      "  883817  -->  i just realised what a loser i am \n",
      "  867647  -->  i told them i was    and background dancer for pretty ricky   but i left my red draws at h\n",
      "  553864  -->   mostly supplies for me  but i m new to it   i ll be doing all my christmas shopping on et\n",
      "  146599  -->    ahahaha my english teacher always  call me by alba and my name is paual it s similar but\n",
      "  365538  -->   omg i love paramore  when  s the new cd coming out   i love all the old songs but i need \n",
      " 1248366  -->  the worst day at the golfing range ever  i ve been discriminated on because i m a lefty \n",
      " 1476613  -->  i ve just ordered tickets to see rhys darby   simon amstell at this years edinburgh fringe\n",
      " 1003260  -->  missing the team    \n",
      "  784561  -->  i am sooo sleepyyyy                        i just wanna lie down and get some sleep  but m\n",
      "  437248  -->   i m the worst i know  but i ll be back soon\n",
      "  578770  -->  bedtime   lots to do tomorrow \n",
      "  879591  -->  im at sami s house lol my toothy hurts \n",
      "  936179  -->  it s time for a bike ride  let s go penguiners  \n",
      "  382103  -->   already love the snarky tasha \n",
      "  729340  -->  google has announced a day of games on       day in the cloud challenge  \n",
      " 1325455  -->   can t wait to see  hey toni  what are you doing for your birthday tomorrow  \n",
      " 1228897  -->  syren enjoyed his birthday yesterday \n",
      " 1422476  -->  hav u ever want something so bad dat u would do just about anything for it   well dats how\n",
      "   93723  -->   you are welcome  just trying to let more people know about it  i ll def go there too \n",
      " 1290020  -->  woo for friday  gonna see up tonight  i have work tomorrow morning  boooo\n",
      "  315670  -->   cool  lol right  well it s the weekend and i don t have anything to do in the morning\n",
      "   89538  -->    hey girl  yeah  me too   scared us really bad  and you re welcome  \n",
      " 1505279  -->  nice bit of rain there  clears the air  \n",
      "  876349  -->  i have been horrible about greeting new followers  please   me and i ll follow you back  \n",
      "  778972  -->  gotta go to my  nd job today and bs around w  my wavey twin    skip wavey  til   den i m o\n",
      "  570650  -->  back from the moors without a phone \n",
      "  319909  -->   not at this time  sorry  check  or any of the other fine arduino resellers \n",
      " 1069053  -->  more revision tomorrow  all over soon though   \n",
      " 1300584  -->  watchin tv cuz wy s taking a little nap \n",
      "  377976  -->   ooohhh that s good that she s olive at least   will help out a little \n",
      " 1012108  -->  just woke up   crazy   its like almost night  in another  hours  hmm  i m gonna dance arou\n",
      "  292291  -->   twitthreats  you must be joking  i was just kidding cause everyone was talking abt it and\n",
      "  330583  -->   errr what  your mom and dad  lol \n",
      "  548514  -->  arrrrrggghhh life is so f  cking great  eleri s bathroom almost done  and it was only star\n",
      " 1351964  -->  wonder how it s goin on in cali  bad fire    \n",
      "  630927  -->   cleaninggg  \n",
      "  415888  -->   have you been to the  stinking rose  restaurant in columbus ave  it s great if you like g\n",
      " 1116762  -->   ate nix  have you installed the sims   already  its very very fun \n",
      "  196491  -->   nite \n",
      " 1192796  -->  shattered   two nights in a row sophie has kept me awake \n",
      "  762557  -->  going to take a nap then wake up and pack some more  night everyone \n",
      "  298954  -->   but we tried so hard  \n",
      "  355701  -->   i know  we re sad about that  \n",
      " 1509013  -->  now onto the premiere of run s house    they soooo make me want to be on vacation \n",
      " 1502261  -->  my poor cat is having her last meal before going in to have her thyroid removed tomorrow m\n",
      " 1254396  -->   have a wee look  for all your looseleaf delights  happy tuesday \n",
      "  532186  -->  all these talk of bbq s    i want one \n",
      "  980945  -->  liam peed in the potty   \n",
      " 1311867  -->  well ppl its    am haven t slept yet  i don t think ima sleep tonite at all   hrs til   of\n",
      " 1266005  -->   yeah  i have finals this coming week so saturday night went down the drain for me \n",
      "  304953  -->   too bad you couldn t come   still awesome though  oh  and i hope the survey works out tod\n",
      "  468050  -->   awwww thanks   i needed to remind myself of that \n",
      "  376581  -->   welcome to oz   \n",
      " 1286710  -->  woke up at        had a awesome breakfast with the whole family  now just chilling on the \n",
      " 1539895  -->  stuffing my face with junk food    and revising \n",
      "  778933  -->  home frm the gma house  chilled wit the bestest s today  had fun   now im gonna check the \n",
      "  297882  -->   i do want to  \n",
      " 1231456  -->   sorry  i think i am just bipolar  never been fully diagnosed cuz i am lazy to make an app\n",
      "  612214  -->  bored shitless now   school show tomorrow least i could do for messh mash mosh \n",
      "  630075  -->   hi larry welocome to ireland you should have stayed with the veg much better for you \n",
      "  560613  -->  auhhhhhhhhhhhh so tired but i have another party tonight it s a reunion  yay\n",
      "    6253  -->    not being around the people you love care about \n",
      " 1144625  -->   you beggar  making me feel homesick \n",
      "  717254  -->  going to school    i m actually not so tired today tho \n",
      " 1328639  -->  weekend is about to end \n",
      " 1332485  -->  with tori marie  making vidss   taking picsssss   were waving at people on  the highway   \n",
      "  278666  -->   whoohoo    for you   i gues that means chicks   checks  lol \n",
      "  519972  -->   ooh are you talking about nick pitera  \n",
      " 1308096  -->  up and wishing i didnt have work because i wanna enjoy this beautiful day \n",
      " 1094744  -->  my twitter score sucks arse \n",
      " 1258915  -->  this is not a happy tweet \n",
      " 1119522  -->  oh qt pie your birthday today ah merry christmas and you are still younger than me \n",
      "  760013  -->      what a georgeous baby  i know ur proud  god bless \n",
      "  910402  -->  im so depressed  mum just died \n",
      " 1303140  -->  ug    i need to pack my stuff for tomorrow  but relaxing with a beer or two first sounds s\n",
      "  288205  -->   so long as they hold your wine without tipping  \n",
      " 1556665  -->  unbelievably exhausted \n",
      " 1482858  -->  just realizing how much nathan kress has grown    hmm   he looks taller and older   whoa  \n",
      " 1000309  -->  jellybean has a sick tummy  \n",
      "  223171  -->   yeah    well i watched finding nemo  lol i dont get bbc anymore \n",
      " 1545761  -->  the sea around britain leaves a little to be desired re  water quality  for the second tim\n",
      "  783875  -->  i am really  really impressed with how much bigger my room looks  now that i ve cleared ou\n",
      "  592174  -->  all i can say is great day \n",
      "  200352  -->   yes  i m really tempted to write another one but i won t lol i ll save that for tomorrow \n",
      "  182561  -->    im sorryyy  whered you work \n",
      "  776573  -->  hmmmm  a tail  i dont have any tail \n",
      " 1472181  -->  is watching tv  reba to be exact \n",
      " 1470829  -->  is starting to worry that you ve forgotten your promise  \n",
      " 1025598  -->  just wanted to say i spent an awesome evening with  and   and nikki who doesn t tweet   wo\n",
      "  236338  -->   got it   coming up after the next break   couldn t find the johnny clegg \n",
      " 1570817  -->  wishing  a happy birthday on twitter even though he is sitting less than    ft  away from \n",
      " 1190744  -->  shall watch beeaaaches as soon as my children leave \n",
      "  997617  -->  just had my last sunday roast dinner b  i head back to see ride skippy    what a monster o\n",
      " 1005392  -->  just took a four hour nap     once again will not be sleeping tonight \n",
      "  568765  -->   yeah  got a great looking one yesterday online  \n",
      " 1570279  -->  wish i could take codral  sinutab and panadol at the same time  why are you all essentiall\n",
      "  369154  -->    hey   congrats    glad it seems to be working out for you and that you have your smile b\n",
      " 1466387  -->  is freezing in class   \n",
      "  526208  -->   woke up with a smile on my face i    it\n",
      " 1108751  -->  pricing new york \n",
      "  192854  -->   i know          but they have it on the game  fun  \n",
      " 1377314  -->  back from a weekend in   car was burgled  attempt to steal \n",
      "  217319  -->   man   i m running on fumes    we have    am start  yay  lol sorry i missed ya  but get so\n",
      "  757501  -->  has voted diversity for her brother  epic win  my brother  you have good taste \n",
      "  910388  -->  i m so confused  i dont know \n",
      "  537228  -->   texas is awesome \n",
      "  270441  -->   timmy ho s  ahh i am a huge fan of their egg salad sandwiches \n",
      "  393846  -->   damn  natalya  you gotta tell me whats going on    i d call you but i lost all my phone n\n",
      "  493471  -->   thanks  \n",
      " 1283288  -->  tired of being crazy \n",
      "  698175  -->  good job manny pacquiao      you re the best  ya know \n",
      " 1302454  -->  watching gilmore girls \n",
      "  853538  -->  i need more signitures in my annual \n",
      "   29698  -->     i agree \n",
      "  466517  -->   yea it used to work last year but it looks like they ve blocked everyone not in the us \n",
      "  319313  -->   im not mad  i just wanted to hlp  count me in   the next time then \n",
      " 1132895  -->  set the alarm for     am    woke up at     now got exactly    hours until the exam     hmm\n",
      "   17574  -->     just took some headache medicine \n",
      " 1135691  -->  shouts out too my lil cuzzo sean vick high school grad \n",
      " 1043485  -->  listenin to the  morning view  album  i miss good incubus  \n",
      "   60619  -->   does this happen every monday  \n",
      " 1425868  -->  hey  chales siempre llego tarde    patty la live   \n",
      " 1069850  -->    the picture doesn t work \n",
      "   82985  -->       check your facebook messages when you can     \n",
      " 1033716  -->  last uni for this semester today  missing lawrence already \n",
      " 1567391  -->  when you just want things to end  remember to have faith because one day  it s all going t\n",
      "  630096  -->   yes  yes you will  \n",
      " 1019108  -->  my internet is really failing today \n",
      " 1434383  -->  i am pretty bored  and i do hate it when people dont answer their phones \n",
      "  337393  -->   hah you girls an marley and me crack me up   it s not that sad it s just a animal lol\n",
      "  194968  -->   one of the eggs fell over last week   it was so sad \n",
      " 1108461  -->   i sent a trade request \n",
      "  371307  -->   me too \n",
      "  630573  -->  chyllen wit the girls    my bday is just hours away \n",
      "  510733  -->   im jealous \n",
      "  399874  -->   i dont have a dream duet cuz alot of ppl wuld murder meee  lmaoo \n",
      " 1314034  -->  waiting for  rock here though sad \n",
      " 1534332  -->  so sad lauren isnt going to be on the hills anymore \n",
      "  834285  -->  i jus got beat with licorice \n",
      " 1361044  -->  you did it again   please don t say things you don t mean  i always end up hoping for noth\n",
      "  370303  -->   haha so you had all the whole pool to ya self  out there sun bathing in the nude  lol jk \n",
      "  534798  -->   wala na daw pala sa white closet   dun nalang sa blue dresser   sayo na yun dresser dear \n",
      " 1156468  -->  sooo not looking forward to tomorrow   how can it be monday already  not fair  \n",
      "  669316  -->  first full council meeting   not convinced big screens are really necessary but the effort\n",
      "   51408  -->   that s my mama s motherland  and  tis her birthday today too \n",
      "   78917  -->   lol    no  i adore the older ones too  but i m totally excited for the next bunch \n",
      "  932067  -->  iran s situation is getting worse and worse while i was sleeping soundly in my bed   it s \n",
      "  970852  -->  knitting s not so terribly tricky  well  to me  the other half can t seem to get the hang \n",
      "  415537  -->   haha awhh  bert   ernie should cure you  i m in my bed just thinking about backstage   at\n",
      "  449977  -->   aw man  i wish i lived in orlando \n",
      "  125877  -->   haha  i m     with an big mouth    it ll never fit  i m obviously going to use this to go\n",
      "  527091  -->   think so     emmas on msn so shes probably just pervin what weer sayin on this haha since\n",
      "  520210  -->   good luck  maybe see ya up there xx\n",
      " 1255451  -->  thinks she is gaining weight    \n",
      " 1425320  -->  hello  i just joined twitter  so i don t know what i am doing \n",
      "  335188  -->   i like you very much  when do i get to see you  \n",
      "  171869  -->    ok guys  i need alot of sugar and caffeine to get me through the weekends at the yellow \n",
      "  893111  -->  i need to post a picture up but my pictures are to big lol \n",
      "  994339  -->  it s nice to be home  but i m missing the weather in pullman        clear  and matt is hea\n",
      "  326508  -->   just placed my first order with you and cannot wait to receive it   next up will be notec\n",
      "  572875  -->  bad luck jamal idris   hope the recovery is quick \n",
      "  548087  -->   i know what that s like   the office is no place to go to get work done   too many distra\n",
      "  597010  -->  but now its back with its mom  i miss it already\n",
      "  263603  -->   ahahhaha   girl its      in the mornting and im all hyped up here so i will be random aha\n",
      " 1118757  -->  oh no    just dropped my phone in the s nk   nooo \n",
      "  504422  -->    and keep tweetin    it helps       hey   i m comin your way tonight  \n",
      " 1092030  -->  oohh hands  it s stiffened   hahaha \n",
      "  818735  -->  i hate that rainy weather  \n",
      "  245971  -->   for four people and six months  that s a great bill  i d be very happy with a bill that l\n",
      "  529380  -->  ahh it saddens me to have to give like half my pay to dad  rich then back to being skintoo\n",
      " 1267839  -->  today  i tripped over my own big toe  \n",
      " 1005550  -->  just did some driving  god im good \n",
      " 1481503  -->  just had a mini chocolate cake and now heading to bed  well  couch   too hot to sleep up s\n",
      "  833029  -->     i was trying to look like taylor swift  lol    \n",
      "   56717  -->   i dont think im gonna go out tonight  i cant find anything to wear and i dont feel good  \n",
      "  329309  -->   yes lets  here we go   \n",
      "  157756  -->   it s no problem at all \n",
      "  865087  -->  i got a full eight hours of sleep lastnight  i didn t even know that much sleep was allowe\n",
      "  703806  -->  good morning  how is everyone   well i say everyone  only    people are following me becau\n",
      "  712792  -->  going to court again  \n",
      " 1183889  -->  sad day  good bye jay leno  see you at ten in the fall \n",
      " 1158025  -->  sorry mum  will treat you well from now on \n",
      "  978944  -->  is sitting at home relaxing \n",
      " 1178340  -->  take me with you zack  \n",
      " 1237972  -->   so your news comes through flickr  twitter and a blog   that s still only   centralised c\n",
      " 1315599  -->  what a morning      more day \n",
      "  715265  -->   that sounds like fun   enjoy  \n",
      " 1514923  -->  omg its raining so im gonna watch every ashes to ashes ever made i think \n",
      "  133466  -->   oh noes   melted ice cream   do not want  \n",
      "  185175  -->   welcome back  hope you had a great trip  \n",
      "  650401  -->  enjoying starbuck s sweet orange black latte  going back to the studio for more practice \n",
      "  999560  -->  mentally preparing myself for   days of gray  rainy weather  gotta love waking up on the f\n",
      " 1136962  -->  on the train going up to london  weathers fab   \n",
      "  747639  -->  getting ready   go   work     yes  on mother s day              my family is back home in \n",
      "  523609  -->   happy postbirthday tom   \n",
      "  199950  -->   yes  they re magical  \n",
      " 1489254  -->  lmao dannny is a lozer  and im killing people in assassins creed \n",
      "  473650  -->      i ll pass  but yall feel free to tweet me  \n",
      "   94735  -->   lol  yea im doing that this week  \n",
      "  673292  -->  damnnn  i missed       \n",
      " 1166697  -->  preciso de follower com insonia  \n",
      " 1442132  -->  i have my stuff ready and i am    ready to leave for the weekend \n",
      " 1530707  -->  shower in socks   piano today  i keep speeding it up   be prepared  dale  i ve got it mast\n",
      " 1343885  -->  with my friends  and then at the party maca     \n",
      " 1332989  -->   ha don t tempt me i d do it if you sent me back some us milky ways and some tide pens  ca\n",
      " 1173376  -->  summer sucks  i start drivers ed monday  reaaaaaaaally don t wanna go \n",
      "  566244  -->  all time low fans  i need help   someone answer meee \n",
      " 1048892  -->  lookin at nyc weather    showers today through sunday  really  that sucks  hope it s wrong\n",
      "  983731  -->  is very bored at home \n",
      "  747162  -->  getting food  and batteries for tomorrow  \n",
      " 1483767  -->  just uploaded to new videos to youtube \n",
      " 1012736  -->  just got up   now chillinggg i guesss   theres nothin to doo \n",
      " 1301233  -->  watching all saints \n",
      " 1387845  -->  cleaning and laundry all day  dallas race tonight    this race always makes me nervous \n",
      "  318597  -->   and d was like no  its only dat weekend  she looked so sad  oh and that saturday im doing\n",
      "  474221  -->   watch it watch it watch it  it s gooooood  \n",
      "  740749  -->  france lost a plane between rio and paris    person on board  \n",
      " 1366338  -->  aaah   u can see the floor   haha cant wait till the kit arrives and we can measure and se\n",
      "  931176  -->  i m going to sprint to hopefully get a new phone   i see you called  but every time i try \n",
      "  569692  -->   oh that sounds nice  i love the summers here  always bright but then the winters are the \n",
      " 1561301  -->  watchin the streets and how close yet so far i m from my house lol \n",
      " 1448056  -->  i need some candies and caffeine to survive    \n",
      "   13330  -->      do i have to study  \n",
      "  902429  -->  in front of our mirror  yeah selena s doing the walk  \n",
      "  386161  -->   i actually like tofu pho   fried tofu is the best \n",
      "  613588  -->  bowling  bbq  and swimming today  \n",
      "  435663  -->   with you there \n",
      " 1431236  -->     drinkin a home made cocktail mango wodka shake so delicious \n",
      " 1361161  -->   are u kidding   your the mother f cken man to follow    \n",
      "  392264  -->   that sounds serious  sorry  do nt know how to help \n",
      "  197472  -->   really  web problems as well   sounds like twitter wobliness \n",
      "  791751  -->  i can t see my picture     however  i did draw my background \n",
      " 1037199  -->  macs gon  die soon   n   anybody have a spear charger  lmao\n",
      " 1138264  -->     i got bread   mead wrong  lemme know how you come along with the week s   \n",
      "  854104  -->   evil  i think not   aw darn   i forgot to tell mom to get extra stuff for a frappuccino l\n",
      " 1070194  -->   love u   ererererer  omg   i miss yall  tear  for the first time  i partied myself   it w\n",
      "  298860  -->   very welcome  thank you for following me as well   hopefully my randomness wont scare you\n",
      "  924760  -->  i m a  nightaholic   as the q ster says    goodnight \n",
      "  200919  -->   ha  pre date  trying to get ready  just about to leave the house  quick wc break before l\n",
      "  937116  -->  i m pretty sure my bird is dying   i ve had her for    years now  i don t want to lose her\n",
      "  547853  -->    th bday bash at the new crib yeah its in oct but im planning ahead  \n",
      "  392289  -->   yeah i had a picture of my head cleanly cut and served on a plate with the sign  add salt\n",
      "  520270  -->   lol     i am going to call in sick tomorrow i think     \n",
      "  371010  -->   i didn t know if u were  busy  or not  i missed my friend \n",
      " 1134789  -->  shoppin at the palisades mall widd my mommy \n",
      " 1439434  -->  i got   dang cogui frogs somewhere within ear shot jockey ing   position outside cogui cog\n",
      "  104116  -->   aww porque  \n",
      " 1577502  -->  yesterday was the first time i ever cried so much for  just bcuz i miss him so much \n",
      "  170761  -->   everyone has it but me     that makes me sad \n",
      " 1184873  -->  saku has to start to his chick flick list \n",
      " 1066159  -->  missing my bunnies since they went for a sleepover with their grammy    the house is sooo \n",
      "  578694  -->  bedtime  spammed my tumblr today  fun shit      \n",
      "    2545  -->   i can t type  my mad typing skills are screwed  this damn papercut \n",
      " 1219719  -->  so sad that justine left masterchef tonight \n",
      "   24844  -->   seeing as ur still awake   album title  resolution          \n",
      "-------------------------------------------------------------------------------------------------------------------\n"
     ]
    }
   ],
   "source": [
    "print_first_n_tweets(n=1000)"
   ]
  },
  {
   "cell_type": "markdown",
   "metadata": {},
   "source": [
    "Define function that builds list of words and word frequencies with ``nltk`` library for language processing. "
   ]
  },
  {
   "cell_type": "code",
   "execution_count": 33,
   "metadata": {},
   "outputs": [
    {
     "name": "stdout",
     "output_type": "stream",
     "text": [
      "[nltk_data] Downloading package stopwords to\n",
      "[nltk_data]     /Users/Giacomo/nltk_data...\n",
      "[nltk_data]   Package stopwords is already up-to-date!\n"
     ]
    }
   ],
   "source": [
    "# get stopwords \n",
    "from nltk import download\n",
    "download(\"stopwords\")\n",
    "# list of stopwords \n",
    "from nltk.corpus import stopwords\n",
    "# tokenize tweets\n",
    "from nltk.tokenize import wordpunct_tokenize"
   ]
  },
  {
   "cell_type": "code",
   "execution_count": 34,
   "metadata": {},
   "outputs": [],
   "source": [
    "def make_tokens(txt: pd.Series) -> (pd.Series, pd.Series): \n",
    "    '''\n",
    "    Input: pandas series with one tweet per row. \n",
    "    Output: tuple with 1. pandas series with one word per row. \n",
    "                       2. pandas series with word frequencies. \n",
    "    '''\n",
    "    \n",
    "    if isinstance(txt, pd.Series) and txt.dtype==\"object\": \n",
    "    \n",
    "        words = list()\n",
    "        # loop over tweets: one per row \n",
    "        for tw in txt: \n",
    "            # tokenize and add to list of tokens\n",
    "            words += wordpunct_tokenize(tw)\n",
    "    else: \n",
    "        return \"Wrong input type or dtype.\"\n",
    "    \n",
    "    words = pd.Series(words)\n",
    "    freq = words.value_counts(sort=True)\n",
    "    \n",
    "    # return tuple with tokens and word frequencies\n",
    "    return (words, freq)"
   ]
  },
  {
   "cell_type": "markdown",
   "metadata": {},
   "source": [
    "Split corpus into two datasets with positive and negative tweets only. "
   ]
  },
  {
   "cell_type": "code",
   "execution_count": 35,
   "metadata": {},
   "outputs": [],
   "source": [
    "# positive tweets \n",
    "pos_tweets = corpus[ corpus[\"sentiment\"]==1 ].tweet_text\n",
    "# negative tweets \n",
    "neg_tweets = corpus[ corpus[\"sentiment\"]==0 ].tweet_text"
   ]
  },
  {
   "cell_type": "code",
   "execution_count": 36,
   "metadata": {},
   "outputs": [
    {
     "name": "stdout",
     "output_type": "stream",
     "text": [
      "790177\n",
      "788435\n"
     ]
    }
   ],
   "source": [
    "# balanced classes? \n",
    "print(len(pos_tweets))\n",
    "print(len(neg_tweets))"
   ]
  },
  {
   "cell_type": "markdown",
   "metadata": {},
   "source": [
    "The two classes are balanced; this information will be useful when measuring the performance of the classifier. Accuracy and Kappa scores will suffice. "
   ]
  },
  {
   "cell_type": "markdown",
   "metadata": {},
   "source": [
    "Builds list of words used in positive and negative tweets along with their respective frequencies. "
   ]
  },
  {
   "cell_type": "code",
   "execution_count": 37,
   "metadata": {},
   "outputs": [
    {
     "name": "stdout",
     "output_type": "stream",
     "text": [
      "Tokens in pos tweets:  9760762\n",
      "Tokens in neg tweets:  10689190\n"
     ]
    }
   ],
   "source": [
    "# list of words in positive tweets \n",
    "(pos_words, freq_pos_words) = make_tokens(pos_tweets)\n",
    "# list of words in negative tweets \n",
    "(neg_words, freq_neg_words) = make_tokens(neg_tweets)\n",
    "print(\"Tokens in pos tweets: \", len(pos_words))\n",
    "print(\"Tokens in neg tweets: \", len(neg_words))"
   ]
  },
  {
   "cell_type": "code",
   "execution_count": 38,
   "metadata": {},
   "outputs": [
    {
     "name": "stdout",
     "output_type": "stream",
     "text": [
      "['i', 'me', 'my', 'myself', 'we', 'our', 'ours', 'ourselves', 'you', \"you're\"]\n"
     ]
    }
   ],
   "source": [
    "# do not consider stopwords\n",
    "print(stopwords.words(\"English\")[:10])"
   ]
  },
  {
   "cell_type": "markdown",
   "metadata": {},
   "source": [
    "#### Top 10 most frequently used words in positive tweets "
   ]
  },
  {
   "cell_type": "code",
   "execution_count": 39,
   "metadata": {},
   "outputs": [
    {
     "data": {
      "text/plain": [
       "good      60777\n",
       "love      47567\n",
       "day       46833\n",
       "like      37452\n",
       "get       36239\n",
       "lol       35976\n",
       "thanks    34419\n",
       "u         31856\n",
       "going     30550\n",
       "time      30066\n",
       "dtype: int64"
      ]
     },
     "execution_count": 39,
     "metadata": {},
     "output_type": "execute_result"
    }
   ],
   "source": [
    "freq_pos_words[ ~freq_pos_words.index.isin(stopwords.words(\"English\")) ].head(10)"
   ]
  },
  {
   "cell_type": "markdown",
   "metadata": {},
   "source": [
    "#### Top 10 most frequently used words in negative tweets "
   ]
  },
  {
   "cell_type": "code",
   "execution_count": 40,
   "metadata": {},
   "outputs": [
    {
     "data": {
      "text/plain": [
       "get       45502\n",
       "go        45168\n",
       "work      44023\n",
       "day       40928\n",
       "like      40887\n",
       "today     37860\n",
       "going     33423\n",
       "got       33149\n",
       "back      32618\n",
       "really    31181\n",
       "dtype: int64"
      ]
     },
     "execution_count": 40,
     "metadata": {},
     "output_type": "execute_result"
    }
   ],
   "source": [
    "freq_neg_words[ ~freq_neg_words.index.isin(stopwords.words(\"English\")) ].head(10)"
   ]
  },
  {
   "cell_type": "markdown",
   "metadata": {},
   "source": [
    "#### Top 10 most frequently used words: bar chart"
   ]
  },
  {
   "cell_type": "code",
   "execution_count": 41,
   "metadata": {},
   "outputs": [
    {
     "data": {
      "image/png": "[encoded data removed]",
      "text/plain": [
       "<Figure size 1008x288 with 2 Axes>"
      ]
     },
     "metadata": {},
     "output_type": "display_data"
    }
   ],
   "source": [
    "# display most frequent words in a bar chart \n",
    "mfpw = freq_pos_words[ ~freq_pos_words.index.isin(stopwords.words(\"English\")) ][:10]\n",
    "mfnw = freq_neg_words[ ~freq_neg_words.index.isin(stopwords.words(\"English\")) ][:10]\n",
    "\n",
    "fig, (ax1, ax2) = plt.subplots(1, 2, figsize=(14, 4))\n",
    "\n",
    "plt.subplot(121)\n",
    "ax1 = sns.barplot(x= mfpw.index, y= mfpw/1e3, color=\"red\")\n",
    "ax1 = plt.title(\"Most frequent positive words\")\n",
    "ax1 = plt.ylabel(\"Counts ( /1,000)\")\n",
    "ax1 = plt.ylim(0, 70)\n",
    "\n",
    "plt.subplot(122)\n",
    "ax2 = sns.barplot(x= mfnw.index, y= mfnw/1e3, color=\"blue\")\n",
    "ax2 = plt.title(\"Most frequent negative words\")\n",
    "ax2 = plt.ylim(0, 70)"
   ]
  },
  {
   "cell_type": "markdown",
   "metadata": {},
   "source": [
    "### Zipf's Law"
   ]
  },
  {
   "cell_type": "markdown",
   "metadata": {},
   "source": [
    "Word frequency and ranking in frequency table are inversely proportional: \n",
    "\n",
    "$$\\large f \\times r \\approx const. $$   \n",
    "\n",
    "where $f$ is the word frequency and $r$ is its ranking. "
   ]
  },
  {
   "cell_type": "markdown",
   "metadata": {},
   "source": [
    "Check Zipf's Law using entire dataset (including stop words in English). "
   ]
  },
  {
   "cell_type": "code",
   "execution_count": 42,
   "metadata": {},
   "outputs": [
    {
     "data": {
      "text/plain": [
       "i      951682\n",
       "to     561546\n",
       "the    521775\n",
       "a      380790\n",
       "my     313941\n",
       "dtype: int64"
      ]
     },
     "execution_count": 42,
     "metadata": {},
     "output_type": "execute_result"
    }
   ],
   "source": [
    "# construct frequency table from the whole dataset\n",
    "(corpus_words, freq) = make_tokens(corpus.tweet_text)\n",
    "freq.head()"
   ]
  },
  {
   "cell_type": "code",
   "execution_count": 43,
   "metadata": {},
   "outputs": [
    {
     "data": {
      "text/html": [
       "<div>\n",
       "<style scoped>\n",
       "    .dataframe tbody tr th:only-of-type {\n",
       "        vertical-align: middle;\n",
       "    }\n",
       "\n",
       "    .dataframe tbody tr th {\n",
       "        vertical-align: top;\n",
       "    }\n",
       "\n",
       "    .dataframe thead th {\n",
       "        text-align: right;\n",
       "    }\n",
       "</style>\n",
       "<table border=\"1\" class=\"dataframe\">\n",
       "  <thead>\n",
       "    <tr style=\"text-align: right;\">\n",
       "      <th></th>\n",
       "      <th>word</th>\n",
       "      <th>freq</th>\n",
       "      <th>rank</th>\n",
       "      <th>zipf_value</th>\n",
       "    </tr>\n",
       "  </thead>\n",
       "  <tbody>\n",
       "    <tr>\n",
       "      <th>0</th>\n",
       "      <td>i</td>\n",
       "      <td>951682</td>\n",
       "      <td>1</td>\n",
       "      <td>951682</td>\n",
       "    </tr>\n",
       "    <tr>\n",
       "      <th>1</th>\n",
       "      <td>to</td>\n",
       "      <td>561546</td>\n",
       "      <td>2</td>\n",
       "      <td>1123092</td>\n",
       "    </tr>\n",
       "    <tr>\n",
       "      <th>2</th>\n",
       "      <td>the</td>\n",
       "      <td>521775</td>\n",
       "      <td>3</td>\n",
       "      <td>1565325</td>\n",
       "    </tr>\n",
       "    <tr>\n",
       "      <th>3</th>\n",
       "      <td>a</td>\n",
       "      <td>380790</td>\n",
       "      <td>4</td>\n",
       "      <td>1523160</td>\n",
       "    </tr>\n",
       "    <tr>\n",
       "      <th>4</th>\n",
       "      <td>my</td>\n",
       "      <td>313941</td>\n",
       "      <td>5</td>\n",
       "      <td>1569705</td>\n",
       "    </tr>\n",
       "  </tbody>\n",
       "</table>\n",
       "</div>"
      ],
      "text/plain": [
       "  word    freq  rank  zipf_value\n",
       "0    i  951682     1      951682\n",
       "1   to  561546     2     1123092\n",
       "2  the  521775     3     1565325\n",
       "3    a  380790     4     1523160\n",
       "4   my  313941     5     1569705"
      ]
     },
     "execution_count": 43,
     "metadata": {},
     "output_type": "execute_result"
    }
   ],
   "source": [
    "df = freq.to_frame(name= \"freq\")\n",
    "# add column with word rank\n",
    "df[\"rank\"] = range(df.shape[0])\n",
    "df[\"rank\"] = df[\"rank\"].apply(lambda x: x+1)\n",
    "# add word column from index \n",
    "df.reset_index(inplace=True)\n",
    "df.rename(mapper={\"index\": \"word\"}, inplace=True, axis= \"columns\")\n",
    "# add column with Zipf's value (freq x rank)\n",
    "df[\"zipf_value\"] = df[\"freq\"]*df[\"rank\"]\n",
    "df.head()"
   ]
  },
  {
   "cell_type": "code",
   "execution_count": 44,
   "metadata": {},
   "outputs": [],
   "source": [
    "def plot_zipf_value(n=100): \n",
    "    fig, ax = plt.subplots(1, 1, figsize=(6, 4))\n",
    "    ax = plt.plot(\"word\", \"zipf_value\", data=df[:n], linestyle='-') # , marker='o')\n",
    "    ax = plt.ylim(0, 5e6)\n",
    "    ax = plt.ylabel(\"Freq. x Rank\")\n",
    "    ax = plt.xticks(\"Word Axis\")\n",
    "    ax = plt.title(\"Checking Zipf's Law: Freq x Rank ~ const.\")"
   ]
  },
  {
   "cell_type": "code",
   "execution_count": 45,
   "metadata": {},
   "outputs": [
    {
     "data": {
      "image/png": "[encoded data removed]",
      "text/plain": [
       "<Figure size 432x288 with 1 Axes>"
      ]
     },
     "metadata": {},
     "output_type": "display_data"
    }
   ],
   "source": [
    "plot_zipf_value(n=100)"
   ]
  },
  {
   "cell_type": "markdown",
   "metadata": {},
   "source": [
    "Check Zipf's Law after removing stop words. "
   ]
  },
  {
   "cell_type": "code",
   "execution_count": 46,
   "metadata": {},
   "outputs": [
    {
     "data": {
      "text/html": [
       "<div>\n",
       "<style scoped>\n",
       "    .dataframe tbody tr th:only-of-type {\n",
       "        vertical-align: middle;\n",
       "    }\n",
       "\n",
       "    .dataframe tbody tr th {\n",
       "        vertical-align: top;\n",
       "    }\n",
       "\n",
       "    .dataframe thead th {\n",
       "        text-align: right;\n",
       "    }\n",
       "</style>\n",
       "<table border=\"1\" class=\"dataframe\">\n",
       "  <thead>\n",
       "    <tr style=\"text-align: right;\">\n",
       "      <th></th>\n",
       "      <th>word</th>\n",
       "      <th>freq</th>\n",
       "      <th>rank</th>\n",
       "      <th>zipf_value</th>\n",
       "    </tr>\n",
       "  </thead>\n",
       "  <tbody>\n",
       "    <tr>\n",
       "      <th>31</th>\n",
       "      <td>good</td>\n",
       "      <td>89731</td>\n",
       "      <td>1</td>\n",
       "      <td>2871392</td>\n",
       "    </tr>\n",
       "    <tr>\n",
       "      <th>32</th>\n",
       "      <td>day</td>\n",
       "      <td>87761</td>\n",
       "      <td>2</td>\n",
       "      <td>2896113</td>\n",
       "    </tr>\n",
       "    <tr>\n",
       "      <th>34</th>\n",
       "      <td>get</td>\n",
       "      <td>81741</td>\n",
       "      <td>3</td>\n",
       "      <td>2860935</td>\n",
       "    </tr>\n",
       "    <tr>\n",
       "      <th>36</th>\n",
       "      <td>like</td>\n",
       "      <td>78339</td>\n",
       "      <td>4</td>\n",
       "      <td>2898543</td>\n",
       "    </tr>\n",
       "    <tr>\n",
       "      <th>39</th>\n",
       "      <td>go</td>\n",
       "      <td>73297</td>\n",
       "      <td>5</td>\n",
       "      <td>2931880</td>\n",
       "    </tr>\n",
       "  </tbody>\n",
       "</table>\n",
       "</div>"
      ],
      "text/plain": [
       "    word   freq  rank  zipf_value\n",
       "31  good  89731     1     2871392\n",
       "32   day  87761     2     2896113\n",
       "34   get  81741     3     2860935\n",
       "36  like  78339     4     2898543\n",
       "39    go  73297     5     2931880"
      ]
     },
     "execution_count": 46,
     "metadata": {},
     "output_type": "execute_result"
    }
   ],
   "source": [
    "# without stopwords\n",
    "df = df[ ~df[\"word\"].isin(stopwords.words(\"English\")) ]\n",
    "# df = df.reset_index(drop=True)\n",
    "df[\"rank\"] = range(df.shape[0])\n",
    "df[\"rank\"] = df[\"rank\"].apply(lambda x: x+1)\n",
    "df.head()"
   ]
  },
  {
   "cell_type": "code",
   "execution_count": 47,
   "metadata": {},
   "outputs": [
    {
     "data": {
      "image/png": "[encoded data removed]",
      "text/plain": [
       "<Figure size 432x288 with 1 Axes>"
      ]
     },
     "metadata": {},
     "output_type": "display_data"
    }
   ],
   "source": [
    "plot_zipf_value(n=100)"
   ]
  },
  {
   "cell_type": "markdown",
   "metadata": {},
   "source": [
    "### Asymptotic trend of Frequency vs. Rank"
   ]
  },
  {
   "cell_type": "code",
   "execution_count": 48,
   "metadata": {},
   "outputs": [
    {
     "data": {
      "image/png": "[encoded data removed]",
      "text/plain": [
       "<Figure size 432x288 with 1 Axes>"
      ]
     },
     "metadata": {},
     "output_type": "display_data"
    }
   ],
   "source": [
    "plot_zipf_value(n=20000)"
   ]
  },
  {
   "cell_type": "markdown",
   "metadata": {},
   "source": [
    "Word axis is just rank $r$ shifted by one unit: ``df.index``$ = r - 1$. <br>\n",
    "As we scroll down the frequency table, the frequency starts to decrease less than the rank increases. The linear relationship between $f$ and $1/r$ does not hold any longer. <br>\n",
    "\n",
    "So it looks like Zipf's Law is not asymptotically valid (at least for large corpora for which ``len(corpus) >> 100``). <br> \n",
    "The product $f \\times r$ is dominated by the rank factor: "
   ]
  },
  {
   "cell_type": "markdown",
   "metadata": {},
   "source": [
    "$$\\large f \\times r \\approx r - 1 , \\space \\text{as} \\space\\space r \\rightarrow \\infty $$"
   ]
  },
  {
   "cell_type": "markdown",
   "metadata": {},
   "source": [
    "$$\\large f \\approx 1 - 1/r $$"
   ]
  },
  {
   "cell_type": "code",
   "execution_count": 49,
   "metadata": {},
   "outputs": [
    {
     "data": {
      "text/html": [
       "<div>\n",
       "<style scoped>\n",
       "    .dataframe tbody tr th:only-of-type {\n",
       "        vertical-align: middle;\n",
       "    }\n",
       "\n",
       "    .dataframe tbody tr th {\n",
       "        vertical-align: top;\n",
       "    }\n",
       "\n",
       "    .dataframe thead th {\n",
       "        text-align: right;\n",
       "    }\n",
       "</style>\n",
       "<table border=\"1\" class=\"dataframe\">\n",
       "  <thead>\n",
       "    <tr style=\"text-align: right;\">\n",
       "      <th></th>\n",
       "      <th>word</th>\n",
       "      <th>freq</th>\n",
       "      <th>rank</th>\n",
       "      <th>zipf_value</th>\n",
       "      <th>f_asympt</th>\n",
       "    </tr>\n",
       "  </thead>\n",
       "  <tbody>\n",
       "    <tr>\n",
       "      <th>31</th>\n",
       "      <td>good</td>\n",
       "      <td>89731</td>\n",
       "      <td>1</td>\n",
       "      <td>2871392</td>\n",
       "      <td>0.000000</td>\n",
       "    </tr>\n",
       "    <tr>\n",
       "      <th>32</th>\n",
       "      <td>day</td>\n",
       "      <td>87761</td>\n",
       "      <td>2</td>\n",
       "      <td>2896113</td>\n",
       "      <td>0.500000</td>\n",
       "    </tr>\n",
       "    <tr>\n",
       "      <th>34</th>\n",
       "      <td>get</td>\n",
       "      <td>81741</td>\n",
       "      <td>3</td>\n",
       "      <td>2860935</td>\n",
       "      <td>0.666667</td>\n",
       "    </tr>\n",
       "    <tr>\n",
       "      <th>36</th>\n",
       "      <td>like</td>\n",
       "      <td>78339</td>\n",
       "      <td>4</td>\n",
       "      <td>2898543</td>\n",
       "      <td>0.750000</td>\n",
       "    </tr>\n",
       "    <tr>\n",
       "      <th>39</th>\n",
       "      <td>go</td>\n",
       "      <td>73297</td>\n",
       "      <td>5</td>\n",
       "      <td>2931880</td>\n",
       "      <td>0.800000</td>\n",
       "    </tr>\n",
       "  </tbody>\n",
       "</table>\n",
       "</div>"
      ],
      "text/plain": [
       "    word   freq  rank  zipf_value  f_asympt\n",
       "31  good  89731     1     2871392  0.000000\n",
       "32   day  87761     2     2896113  0.500000\n",
       "34   get  81741     3     2860935  0.666667\n",
       "36  like  78339     4     2898543  0.750000\n",
       "39    go  73297     5     2931880  0.800000"
      ]
     },
     "execution_count": 49,
     "metadata": {},
     "output_type": "execute_result"
    }
   ],
   "source": [
    "# asymptotic value of frequency\n",
    "df[\"f_asympt\"] = 1 - 1/df[\"rank\"]\n",
    "df.head()"
   ]
  },
  {
   "cell_type": "code",
   "execution_count": 50,
   "metadata": {},
   "outputs": [],
   "source": [
    "def plot_asympt(n=5000): \n",
    "    fig, (ax_1, ax_2) = plt.subplots(1, 2, figsize=(14, 4))\n",
    "    plt.subplots_adjust(wspace= 0.4)\n",
    "    \n",
    "    # plot Zipf's product \n",
    "    plt.subplot(121)\n",
    "    ax_1 = plt.plot(\"word\", \"zipf_value\", data=df[:n], linestyle='-') # , marker='o')\n",
    "    ax_1 = plt.ylim(0, 5e6)\n",
    "    ax_1 = plt.ylabel(\"Freq. x Rank\")\n",
    "    ax_1 = plt.xticks(\"Word Axis\")\n",
    "    ax_1 = plt.title(\"Checking Zipf's Law: Freq x Rank ~ const.\")\n",
    "    \n",
    "    # plot f ~ (1 - 1/r): asymptotic value of frequency\n",
    "    plt.subplot(122)\n",
    "    ax_2 = plt.plot(\"rank\", \"f_asympt\", data=df.loc[100:2000, :], linestyle='-', color= \"orange\")\n",
    "    ax_2 = plt.ylim(0.5, 1.5)\n",
    "    ax_2 = plt.ylabel(\"Frequency\")\n",
    "    ax_2 = plt.xlabel(\"Rank\")\n",
    "    ax_2 = plt.title(\"frequency vs. 1 - 1/rank\\nFrom 100th to 2,000th\")"
   ]
  },
  {
   "cell_type": "code",
   "execution_count": 51,
   "metadata": {},
   "outputs": [
    {
     "data": {
      "image/png": "[encoded data removed]",
      "text/plain": [
       "<Figure size 1008x288 with 2 Axes>"
      ]
     },
     "metadata": {},
     "output_type": "display_data"
    }
   ],
   "source": [
    "plot_asympt(n=250)"
   ]
  },
  {
   "cell_type": "markdown",
   "metadata": {},
   "source": [
    "### Simple classifier to predict tweet sentiment: Bernoulli Naive Bayes"
   ]
  },
  {
   "cell_type": "markdown",
   "metadata": {},
   "source": [
    "A \"Bag of Words\" approach coupled with a Naive Bayes classifier is used to build a simple model that predicts tweet sentiment. <br> \n",
    "\n",
    "1. Each tweet is converted to a list of words. <br>\n",
    "2. Each different word becomes a feature of the dataset. The total number of features is equal to the total number of different words in the dataset. <br>\n",
    "3. The features take on values that depend on the selected model: I have chosen a Naive Bayes Bernoulli classifier to keep the model simple and fast to train. In this model, each feature can be either 1 (the word is present in the tweet) or 0 (the word does not appear in the tweet). <br>  \n",
    "4. Features are assumed to be mutually independent, i.e. the presence/absence of a word in a tweet does not affect the distribution of other words. <br>\n",
    "4. The classifier predicts the sentiment of a tweet in the test set by calculating the probability that it belongs to each one of the two classes, given its features and the feature conditional probabilities from the train set. The tweet is assigned to the class with higher probability. \n",
    "\n",
    "The feature dataset is constructed with the ``sklearn`` library which provides an efficient data structure to handle large sparse matrices as well as an off-shelf Naive Bayes classifier."
   ]
  },
  {
   "cell_type": "code",
   "execution_count": 52,
   "metadata": {},
   "outputs": [
    {
     "data": {
      "text/html": [
       "<div>\n",
       "<style scoped>\n",
       "    .dataframe tbody tr th:only-of-type {\n",
       "        vertical-align: middle;\n",
       "    }\n",
       "\n",
       "    .dataframe tbody tr th {\n",
       "        vertical-align: top;\n",
       "    }\n",
       "\n",
       "    .dataframe thead th {\n",
       "        text-align: right;\n",
       "    }\n",
       "</style>\n",
       "<table border=\"1\" class=\"dataframe\">\n",
       "  <thead>\n",
       "    <tr style=\"text-align: right;\">\n",
       "      <th></th>\n",
       "      <th>sentiment</th>\n",
       "      <th>tweet_text</th>\n",
       "    </tr>\n",
       "  </thead>\n",
       "  <tbody>\n",
       "    <tr>\n",
       "      <th>0</th>\n",
       "      <td>0</td>\n",
       "      <td>is so sad for my apl frie...</td>\n",
       "    </tr>\n",
       "    <tr>\n",
       "      <th>1</th>\n",
       "      <td>0</td>\n",
       "      <td>i missed the new moon trail...</td>\n",
       "    </tr>\n",
       "    <tr>\n",
       "      <th>2</th>\n",
       "      <td>1</td>\n",
       "      <td>omg its already       o</td>\n",
       "    </tr>\n",
       "    <tr>\n",
       "      <th>3</th>\n",
       "      <td>0</td>\n",
       "      <td>omgaga  im sooo  im gunna cry  i ...</td>\n",
       "    </tr>\n",
       "    <tr>\n",
       "      <th>4</th>\n",
       "      <td>0</td>\n",
       "      <td>i think mi bf is cheating on me      ...</td>\n",
       "    </tr>\n",
       "  </tbody>\n",
       "</table>\n",
       "</div>"
      ],
      "text/plain": [
       "   sentiment                                         tweet_text\n",
       "0          0                       is so sad for my apl frie...\n",
       "1          0                     i missed the new moon trail...\n",
       "2          1                            omg its already       o\n",
       "3          0               omgaga  im sooo  im gunna cry  i ...\n",
       "4          0           i think mi bf is cheating on me      ..."
      ]
     },
     "execution_count": 52,
     "metadata": {},
     "output_type": "execute_result"
    }
   ],
   "source": [
    "corpus.drop(\"source\", axis=1, inplace=True)\n",
    "corpus.head()"
   ]
  },
  {
   "cell_type": "code",
   "execution_count": 53,
   "metadata": {},
   "outputs": [],
   "source": [
    "from sklearn.model_selection import train_test_split\n",
    "from sklearn.feature_extraction.text import CountVectorizer\n",
    "from sklearn.naive_bayes import BernoulliNB\n",
    "from sklearn.metrics import accuracy_score"
   ]
  },
  {
   "cell_type": "code",
   "execution_count": 54,
   "metadata": {},
   "outputs": [
    {
     "name": "stdout",
     "output_type": "stream",
     "text": [
      "(315723, 2)\n",
      "(1262889, 2)\n"
     ]
    }
   ],
   "source": [
    "# split data into train and test set \n",
    "c_train, c_test = train_test_split(corpus, test_size= 0.2, random_state=1987)\n",
    "print(c_test.shape)\n",
    "print(c_train.shape)"
   ]
  },
  {
   "cell_type": "markdown",
   "metadata": {},
   "source": [
    "``CountVectorizer`` transforms the data frame into a sparse matrix whose columns store the counts of each different word in the corpus (up to a maximum word number equal to ``max_features``). Each row represents an observation, i.e. a tokenized tweet. "
   ]
  },
  {
   "cell_type": "code",
   "execution_count": 55,
   "metadata": {},
   "outputs": [],
   "source": [
    "tokenizer = CountVectorizer(stop_words=\"english\",  # remove stopwords\n",
    "                            encoding=\"utf8\",        \n",
    "                            max_features=1000)     # consider only first 1,000 words, \n",
    "                                                   # based on frequency"
   ]
  },
  {
   "cell_type": "code",
   "execution_count": 56,
   "metadata": {},
   "outputs": [],
   "source": [
    "# tokenize tweets and build sparse matrix storing word counts \n",
    "fmatrix_train = tokenizer.fit_transform(c_train[\"tweet_text\"])\n",
    "fmatrix_test = tokenizer.transform(c_test[\"tweet_text\"])"
   ]
  },
  {
   "cell_type": "markdown",
   "metadata": {},
   "source": [
    "Naive Bayes Bernoulli classifier will: \n",
    "* automatically binarize word counts: for each word, its count is set to 1 if word is in tweet, 0 otherwise. \n",
    "* when calculating class probabilities for a new tweet in the test set, the classifier will consider all words in the dataset vocabulary, including those that do not appear in that tweet. "
   ]
  },
  {
   "cell_type": "code",
   "execution_count": 57,
   "metadata": {},
   "outputs": [],
   "source": [
    "# instantiate Naive Bayes Bernoulli classifier\n",
    "model = BernoulliNB()"
   ]
  },
  {
   "cell_type": "markdown",
   "metadata": {},
   "source": [
    "The model can be evaluated first using subsets of the test set to check if it is statistically robust against variations in the train data (i.e., if its variance is low). Given that the Twitter dataset is large, the conditional distribution of the most frequent words should not change over randomly sampled cross-validation subsets. Hence, the accuracy should vary little over the cross-validation subsets. "
   ]
  },
  {
   "cell_type": "code",
   "execution_count": 58,
   "metadata": {},
   "outputs": [],
   "source": [
    "from sklearn.model_selection import RepeatedKFold, cross_validate"
   ]
  },
  {
   "cell_type": "code",
   "execution_count": 59,
   "metadata": {},
   "outputs": [],
   "source": [
    "# evaluate model performance on subsets of train set \n",
    "# using 10-fold repeated CV \n",
    "# cv generator: 10-fold CV repeated twice\n",
    "rkf= RepeatedKFold(n_splits= 10, \n",
    "                   n_repeats= 2, \n",
    "                   random_state= 1987)\n",
    "\n",
    "# classifier performance: area under ROC, accuracy \n",
    "scoring= [\"roc_auc\", \"accuracy\"]\n",
    "\n",
    "# train and calculate metrics for each validation iteration  \n",
    "scores = cross_validate(model, \n",
    "                        fmatrix_train, \n",
    "                        c_train[\"sentiment\"], \n",
    "                        scoring= scoring, \n",
    "                        cv= rkf, \n",
    "                        n_jobs= 4, \n",
    "                        return_train_score= False, \n",
    "                        return_estimator= False)"
   ]
  },
  {
   "cell_type": "code",
   "execution_count": 60,
   "metadata": {},
   "outputs": [
    {
     "name": "stdout",
     "output_type": "stream",
     "text": [
      "[0.73535304 0.73415737 0.73388023 0.73396733 0.733999   0.73358725\n",
      " 0.7333497  0.73623198 0.73452953 0.73390979 0.73437116 0.73512341\n",
      " 0.73417321 0.733223   0.7340861  0.73263705 0.73559059 0.73500463\n",
      " 0.73372186 0.73582605]\n"
     ]
    }
   ],
   "source": [
    "# accuracy is consistent over the cv folds  \n",
    "print(scores[\"test_accuracy\"])"
   ]
  },
  {
   "cell_type": "markdown",
   "metadata": {},
   "source": [
    "Finally, the model is trained using the whole training set. A new tweet from the test set will be assigned to class: \n",
    "\n",
    "$$ \\large \\hat c = \\arg \\max \\Bigg \\{ \\text{Pr} (c_{1}) \\prod_{i=1}^{N} \\text{Pr}(w_{i}|c_{1}), \\space \\text{Pr} (c_{2}) \\prod_{i=1}^{N} \\text{Pr}(w_{i}|c_{2}) \\Bigg \\}$$   \n",
    "\n",
    "where: <br> \n",
    "* $w_{i}$ is a feature (word) of the dataset ($i=1,...,N$): $w_{i}=1 \\space \\text{or} \\space 0$ \n",
    "* $\\text{Pr}(w_{i}|c)$ is the probability of observing word $w_{i}$ considering only the tweets of class $c$ ($c_{1}=\\text{positive}, \\space c_{2}=\\text{negative}$) in the training set, \n",
    "* $\\text{Pr}(c)$ is the probability that a randomly selected tweet from the training set belongs to class $c$. "
   ]
  },
  {
   "cell_type": "code",
   "execution_count": 61,
   "metadata": {},
   "outputs": [
    {
     "name": "stdout",
     "output_type": "stream",
     "text": [
      "Model accuracy: 0.734\n"
     ]
    }
   ],
   "source": [
    "# train model using whole train set \n",
    "model.fit(fmatrix_train, c_train[\"sentiment\"])\n",
    "\n",
    "# predict sentiment of tweets in test set (20% of total)\n",
    "sent_pred = model.predict(fmatrix_test)\n",
    "\n",
    "acc = accuracy_score(c_test[\"sentiment\"], sent_pred)\n",
    "print(\"Model accuracy: {:.3f}\".format(acc))"
   ]
  },
  {
   "cell_type": "markdown",
   "metadata": {},
   "source": [
    "It is interesting to look at the accuracy trend as a function of the number of important (most frequent) words considered when training the model. The previous steps can be wrapped into a ``for`` loop over the number of important words ``max_features``. "
   ]
  },
  {
   "cell_type": "code",
   "execution_count": 62,
   "metadata": {},
   "outputs": [
    {
     "name": "stdout",
     "output_type": "stream",
     "text": [
      "Model accuracy: 0.643\n",
      "Model accuracy: 0.713\n",
      "Model accuracy: 0.734\n",
      "Model accuracy: 0.759\n",
      "Model accuracy: 0.763\n",
      "Model accuracy: 0.767\n"
     ]
    }
   ],
   "source": [
    "acc = dict()\n",
    "for max_features in (100, 500, 1000, 5000, 10000, 50000): \n",
    "\n",
    "    tokenizer = CountVectorizer(stop_words=\"english\",\n",
    "                                encoding=\"utf8\",        \n",
    "                                max_features=max_features)     # consider only first max_feature words\n",
    "    \n",
    "    # make feature matrices \n",
    "    fmatrix_train = tokenizer.fit_transform(c_train[\"tweet_text\"])\n",
    "    fmatrix_test = tokenizer.transform(c_test[\"tweet_text\"])\n",
    "    \n",
    "    # train model using whole train set \n",
    "    model.fit(fmatrix_train, c_train[\"sentiment\"])\n",
    "    # predict sentiment of tweets in test set\n",
    "    sent_pred = model.predict(fmatrix_test)\n",
    "    # store accuracy in dict\n",
    "    acc[max_features] = accuracy_score(c_test[\"sentiment\"], sent_pred)\n",
    "    print(\"Model accuracy: {:.3f}\".format(acc[max_features]))"
   ]
  },
  {
   "cell_type": "code",
   "execution_count": 63,
   "metadata": {},
   "outputs": [
    {
     "data": {
      "image/png": "[encoded data removed]",
      "text/plain": [
       "<Figure size 432x288 with 1 Axes>"
      ]
     },
     "metadata": {},
     "output_type": "display_data"
    }
   ],
   "source": [
    "ax = sns.lineplot(x= [k for k in acc.keys()], \n",
    "                  y= [v for v in acc.values()], \n",
    "                  marker=\"o\")\n",
    "ax = plt.ylim(0.45, 1.0)\n",
    "ax = plt.xlabel(\"Vocabulary Size\")"
   ]
  },
  {
   "cell_type": "markdown",
   "metadata": {},
   "source": [
    "Possible improvements include:   \n",
    "\n",
    "* Considering more and better features to construct the bag of words by: \n",
    "    * using a gentler pre-processing of tweets that keeps text-converted emojis and other symbols which enrich sentences with emotional meaning. \n",
    "    * adding n-gram expressions to the list of features, i.e. groups of adjacent words with special significance for the emotional content of the tweet. \n",
    "* Replacing the simple 0/1 binarization of word counts with other scores such as tf-idf to be used with a different classifier (e.g. Naive Bayes multinomial). \n",
    "\n",
    "Generally, any model that considers the context in which words are used, and uses it to group similar words, should perform better than the bag-of-words approach. In particular, techniques such as word embedding (representing words as vectors instead of scalars) coupled to neural networks seem to be the current state-of-the-art methods for text classification. "
   ]
  }
 ],
 "metadata": {
  "kernelspec": {
   "display_name": "Python 3",
   "language": "python",
   "name": "python3"
  },
  "language_info": {
   "codemirror_mode": {
    "name": "ipython",
    "version": 3
   },
   "file_extension": ".py",
   "mimetype": "text/x-python",
   "name": "python",
   "nbconvert_exporter": "python",
   "pygments_lexer": "ipython3",
   "version": "3.6.6"
  }
 },
 "nbformat": 4,
 "nbformat_minor": 2
}
