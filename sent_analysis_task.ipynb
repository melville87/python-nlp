{
 "cells": [
  {
   "cell_type": "code",
   "execution_count": 1,
   "metadata": {},
   "outputs": [],
   "source": [
    "import chardet\n",
    "import string \n",
    "import re\n",
    "import numpy as np\n",
    "import pandas as pd\n",
    "import matplotlib.pyplot as plt\n",
    "import seaborn as sns"
   ]
  },
  {
   "cell_type": "code",
   "execution_count": 2,
   "metadata": {},
   "outputs": [],
   "source": [
    "sns.set()"
   ]
  },
  {
   "cell_type": "markdown",
   "metadata": {},
   "source": [
    "### Load Twitter dataset after determining character encoding"
   ]
  },
  {
   "cell_type": "code",
   "execution_count": 3,
   "metadata": {},
   "outputs": [],
   "source": [
    "# get character encoding \n",
    "def find_encoding(fname: str) -> str:\n",
    "    with open(fname, 'rb') as file: \n",
    "        r_file = file.read()\n",
    "        result = chardet.detect(r_file)\n",
    "        charenc = result['encoding']\n",
    "    return charenc"
   ]
  },
  {
   "cell_type": "code",
   "execution_count": 4,
   "metadata": {},
   "outputs": [
    {
     "data": {
      "text/plain": [
       "'UTF-8-SIG'"
      ]
     },
     "execution_count": 4,
     "metadata": {},
     "output_type": "execute_result"
    }
   ],
   "source": [
    "find_encoding(\"./Sentiment Analysis Dataset.csv\")"
   ]
  },
  {
   "cell_type": "code",
   "execution_count": 5,
   "metadata": {},
   "outputs": [
    {
     "name": "stderr",
     "output_type": "stream",
     "text": [
      "b'Skipping line 8836: expected 4 fields, saw 5\\n'\n",
      "b'Skipping line 535882: expected 4 fields, saw 7\\n'\n"
     ]
    },
    {
     "data": {
      "text/html": [
       "<div>\n",
       "<style scoped>\n",
       "    .dataframe tbody tr th:only-of-type {\n",
       "        vertical-align: middle;\n",
       "    }\n",
       "\n",
       "    .dataframe tbody tr th {\n",
       "        vertical-align: top;\n",
       "    }\n",
       "\n",
       "    .dataframe thead th {\n",
       "        text-align: right;\n",
       "    }\n",
       "</style>\n",
       "<table border=\"1\" class=\"dataframe\">\n",
       "  <thead>\n",
       "    <tr style=\"text-align: right;\">\n",
       "      <th></th>\n",
       "      <th>ItemID</th>\n",
       "      <th>Sentiment</th>\n",
       "      <th>SentimentSource</th>\n",
       "      <th>SentimentText</th>\n",
       "    </tr>\n",
       "  </thead>\n",
       "  <tbody>\n",
       "    <tr>\n",
       "      <th>0</th>\n",
       "      <td>1</td>\n",
       "      <td>0</td>\n",
       "      <td>Sentiment140</td>\n",
       "      <td>is so sad for my APL frie...</td>\n",
       "    </tr>\n",
       "    <tr>\n",
       "      <th>1</th>\n",
       "      <td>2</td>\n",
       "      <td>0</td>\n",
       "      <td>Sentiment140</td>\n",
       "      <td>I missed the New Moon trail...</td>\n",
       "    </tr>\n",
       "    <tr>\n",
       "      <th>2</th>\n",
       "      <td>3</td>\n",
       "      <td>1</td>\n",
       "      <td>Sentiment140</td>\n",
       "      <td>omg its already 7:30 :O</td>\n",
       "    </tr>\n",
       "    <tr>\n",
       "      <th>3</th>\n",
       "      <td>4</td>\n",
       "      <td>0</td>\n",
       "      <td>Sentiment140</td>\n",
       "      <td>.. Omgaga. Im sooo  im gunna CRy. I'...</td>\n",
       "    </tr>\n",
       "    <tr>\n",
       "      <th>4</th>\n",
       "      <td>5</td>\n",
       "      <td>0</td>\n",
       "      <td>Sentiment140</td>\n",
       "      <td>i think mi bf is cheating on me!!!   ...</td>\n",
       "    </tr>\n",
       "  </tbody>\n",
       "</table>\n",
       "</div>"
      ],
      "text/plain": [
       "   ItemID  Sentiment SentimentSource  \\\n",
       "0       1          0    Sentiment140   \n",
       "1       2          0    Sentiment140   \n",
       "2       3          1    Sentiment140   \n",
       "3       4          0    Sentiment140   \n",
       "4       5          0    Sentiment140   \n",
       "\n",
       "                                       SentimentText  \n",
       "0                       is so sad for my APL frie...  \n",
       "1                     I missed the New Moon trail...  \n",
       "2                            omg its already 7:30 :O  \n",
       "3            .. Omgaga. Im sooo  im gunna CRy. I'...  \n",
       "4           i think mi bf is cheating on me!!!   ...  "
      ]
     },
     "execution_count": 5,
     "metadata": {},
     "output_type": "execute_result"
    }
   ],
   "source": [
    "# read csv file \n",
    "filepath = \"./Sentiment Analysis Dataset.csv\"\n",
    "corpus = pd.read_csv(filepath, sep=\",\", \n",
    "                     error_bad_lines=False, \n",
    "                     header=0,  \n",
    "                     encoding='UTF-8-SIG')\n",
    "corpus.head()"
   ]
  },
  {
   "cell_type": "code",
   "execution_count": 6,
   "metadata": {},
   "outputs": [
    {
     "data": {
      "text/plain": [
       "(1578612, 4)"
      ]
     },
     "execution_count": 6,
     "metadata": {},
     "output_type": "execute_result"
    }
   ],
   "source": [
    "corpus.shape"
   ]
  },
  {
   "cell_type": "code",
   "execution_count": 7,
   "metadata": {},
   "outputs": [
    {
     "data": {
      "text/plain": [
       "ItemID              int64\n",
       "Sentiment           int64\n",
       "SentimentSource    object\n",
       "SentimentText      object\n",
       "dtype: object"
      ]
     },
     "execution_count": 7,
     "metadata": {},
     "output_type": "execute_result"
    }
   ],
   "source": [
    "corpus.dtypes"
   ]
  },
  {
   "cell_type": "code",
   "execution_count": 8,
   "metadata": {},
   "outputs": [
    {
     "name": "stdout",
     "output_type": "stream",
     "text": [
      "[0 1]\n",
      "['Sentiment140' 'Kaggle']\n"
     ]
    }
   ],
   "source": [
    "# check unique items in predictors \n",
    "print(corpus.Sentiment.unique())\n",
    "print(corpus.SentimentSource.unique())"
   ]
  },
  {
   "cell_type": "code",
   "execution_count": 9,
   "metadata": {},
   "outputs": [],
   "source": [
    "# pre-process data: drop id column\n",
    "corpus.drop(columns=\"ItemID\", inplace=True)"
   ]
  },
  {
   "cell_type": "code",
   "execution_count": 10,
   "metadata": {},
   "outputs": [
    {
     "data": {
      "text/plain": [
       "0"
      ]
     },
     "execution_count": 10,
     "metadata": {},
     "output_type": "execute_result"
    }
   ],
   "source": [
    "# check for duplicate rows\n",
    "corpus.duplicated().sum()"
   ]
  },
  {
   "cell_type": "code",
   "execution_count": 11,
   "metadata": {},
   "outputs": [],
   "source": [
    "# rename features\n",
    "mapper = {\"Sentiment\": \"sentiment\", \n",
    "          \"SentimentSource\": \"source\", \n",
    "          \"SentimentText\": \"tweet_text\"}\n",
    "corpus.rename(mapper=mapper, axis=1, inplace=True)"
   ]
  },
  {
   "cell_type": "code",
   "execution_count": 12,
   "metadata": {},
   "outputs": [
    {
     "data": {
      "text/html": [
       "<div>\n",
       "<style scoped>\n",
       "    .dataframe tbody tr th:only-of-type {\n",
       "        vertical-align: middle;\n",
       "    }\n",
       "\n",
       "    .dataframe tbody tr th {\n",
       "        vertical-align: top;\n",
       "    }\n",
       "\n",
       "    .dataframe thead th {\n",
       "        text-align: right;\n",
       "    }\n",
       "</style>\n",
       "<table border=\"1\" class=\"dataframe\">\n",
       "  <thead>\n",
       "    <tr style=\"text-align: right;\">\n",
       "      <th></th>\n",
       "      <th>sentiment</th>\n",
       "      <th>source</th>\n",
       "      <th>tweet_text</th>\n",
       "    </tr>\n",
       "  </thead>\n",
       "  <tbody>\n",
       "    <tr>\n",
       "      <th>0</th>\n",
       "      <td>0</td>\n",
       "      <td>Sentiment140</td>\n",
       "      <td>is so sad for my APL frie...</td>\n",
       "    </tr>\n",
       "    <tr>\n",
       "      <th>1</th>\n",
       "      <td>0</td>\n",
       "      <td>Sentiment140</td>\n",
       "      <td>I missed the New Moon trail...</td>\n",
       "    </tr>\n",
       "    <tr>\n",
       "      <th>2</th>\n",
       "      <td>1</td>\n",
       "      <td>Sentiment140</td>\n",
       "      <td>omg its already 7:30 :O</td>\n",
       "    </tr>\n",
       "    <tr>\n",
       "      <th>3</th>\n",
       "      <td>0</td>\n",
       "      <td>Sentiment140</td>\n",
       "      <td>.. Omgaga. Im sooo  im gunna CRy. I'...</td>\n",
       "    </tr>\n",
       "    <tr>\n",
       "      <th>4</th>\n",
       "      <td>0</td>\n",
       "      <td>Sentiment140</td>\n",
       "      <td>i think mi bf is cheating on me!!!   ...</td>\n",
       "    </tr>\n",
       "  </tbody>\n",
       "</table>\n",
       "</div>"
      ],
      "text/plain": [
       "   sentiment        source                                         tweet_text\n",
       "0          0  Sentiment140                       is so sad for my APL frie...\n",
       "1          0  Sentiment140                     I missed the New Moon trail...\n",
       "2          1  Sentiment140                            omg its already 7:30 :O\n",
       "3          0  Sentiment140            .. Omgaga. Im sooo  im gunna CRy. I'...\n",
       "4          0  Sentiment140           i think mi bf is cheating on me!!!   ..."
      ]
     },
     "execution_count": 12,
     "metadata": {},
     "output_type": "execute_result"
    }
   ],
   "source": [
    "corpus.head()"
   ]
  },
  {
   "cell_type": "code",
   "execution_count": 13,
   "metadata": {},
   "outputs": [],
   "source": [
    "# inspect first n tweets \n",
    "# (randomly sampled from the whole dataset)\n",
    "def print_first_n_tweets(n=10): \n",
    "    ''' \n",
    "    Randomly samples and prints up to 5,000 tweets from the corpus. \n",
    "    '''\n",
    "    \n",
    "    if n >= 5000: return \"Less than 5000 tweets please!\"\n",
    "    rsample = corpus[\"tweet_text\"].sample(n=5000, random_state=1987)\n",
    "    \n",
    "    print(115*\"-\")\n",
    "    for i in range(n): \n",
    "        print('{:>8}  {:>3}  {}'.format(rsample.index[i], \"-->\", rsample.iloc[i][:90]))\n",
    "    print(115*\"-\")"
   ]
  },
  {
   "cell_type": "code",
   "execution_count": 14,
   "metadata": {
    "scrolled": true
   },
   "outputs": [
    {
     "name": "stdout",
     "output_type": "stream",
     "text": [
      "-------------------------------------------------------------------------------------------------------------------\n",
      "  399805  -->  @robbiespeaks I like it man  you write the lyrics &amp; I'll get our band to rock it out!!\n",
      "  885122  -->  I'm gonna take a short nap.. I almost in giving out thumbs, which sucks big time coz I'm i\n",
      " 1301910  -->  watching Cool Center right.  i missed their episode when Eugene got an interviewed with @D\n",
      "  441097  -->  @Snyper11 It may all be over now!! I was enjoying that \n",
      " 1560070  -->  wants someone to sleep over  and on myspace... as usall\n",
      "  341421  -->  @NEENZ I was just at Sky Harbor on Friday.    How are you?\n",
      "   38006  -->  @amberamputee  oh noes\n",
      " 1081784  -->  My friends know me well. I got perfect birthday presents. Thanks to those who showed up at\n",
      " 1269257  -->  Too bad everyday can't be a Follow Friday...what are we supposed to do on Saturdays?  \n",
      "  613813  -->  at home, hungry.... \n",
      "  394976  -->  @revmem Oh, me neither. I'm sure it would've been even that much better if I were a graphi\n",
      " 1217204  -->  still in midyear exam! wish my luck \n",
      "  154806  -->  @EyeOnNewz your welcome \n",
      "  844602  -->  @imde owh.. hahahaha lol. now i get it... \n",
      " 1296121  -->  wants some saltwater taffy  http://plurk.com/p/rolv0\n",
      "  385711  -->  @RacingHippo that's the kiddie \n",
      "   69658  -->  @bulkwinnage. You're gay. And smelly. And i secretly hate you \n",
      "  967453  -->  Its so weirdly quiet in the office 2day, no1 seems in a v good mood at all!!! Wat a dull d\n",
      " 1367433  -->  After 1 hour of attempting to unlock 3.0 on my 8g 1stgen iPhone...I'm holding off for righ\n",
      " 1046624  -->  miss..... cousins  lajutah family gathering             P.S feeling despondent\n",
      " 1007089  -->  Morning all. Parish announcements: the podcast of @TheEmergency ep 13 should appear tomorr\n",
      "  592127  -->  All day shopping trip in lexington, charleston, and wherever there are cute boutiques! \n",
      " 1077629  -->  my chi pet died...r.i.p \n",
      "  337031  -->  @mytomcat I love Mojan!  @clubmojan\n",
      " 1226875  -->  Ugh. Georgia Theater burned down. \n",
      "  651180  -->  Do you ever feel like your world is caving in when you've got connection issues? thats the\n",
      "  440151  -->  @swopusa  Damn, I was hoping that was somewhere in the U.S.  \n",
      " 1528172  -->  Says heres the deal chicago: whoever loses cheers on the winner to the cup. Prepare to che\n",
      "  411049  -->  @schmicles hey dill! i saw ur video bout the kurasaraksasa or something like that! my frie\n",
      " 1306737  -->  watching v-clip how do you sleep by jesse mccartney . he's totally GORGEOUS \n",
      "  472870  -->  @ThatKevinSmith it shows you care though  if you didn't, you'd shout &quot;sex me now baby\n",
      "  702700  -->  @Claudia_Imhoff I'm jealous - Amsterdam in June. I've got Munich next week, yay biergarten\n",
      "  597130  -->  Buttttttttt LA is in that shit ! \n",
      "  423582  -->  @seangunn   bring  me  the  yak  wrangler!  wanna  meet  that  guy!  \n",
      "  236818  -->  @JSPARKSFAN4LIFE Of course I remember ya silly  I have a gr8 memory! lolol.,. Ooh I love C\n",
      "  131418  -->  @DogBountyHunter hi guys! have a blast in NY (business aside lol) be safe and take care! \n",
      " 1483531  -->  just talked on the phone for lik 4hrs with this guy i REALLY like and well he told me hes \n",
      " 1284122  -->  To followers who have tons of followers, still chase followers : 'You don't want me..you j\n",
      " 1052016  -->  morning   (11.49 am) had a weird day yesterday hangin' out with guys\n",
      " 1476948  -->  Jammin To Capital In My Garden  xx\n",
      "  499072  -->  @StewartKris you singing was great! the cake eaters, good, zathura, funny, and in twilight\n",
      "  139846  -->  @EaseDaMan dammit who can get me in? \n",
      "  420242  -->  @ScienceChannel That's so cute!! I want one! \n",
      "  559962  -->  ahah! made jellies without grapes. Well, at least i have something to eat now. I still wan\n",
      "   45654  -->  @antwanetterice Let me know how it is if you go. It's raining light but it might get heavy\n",
      " 1550413  -->  Tiredness was a animal what kind of animal would it be? I say sloth \n",
      "  461457  -->  @RiotxChick hahaha it's okay. You don't have to be positive all the time \n",
      "  514243  -->  @uberChick  Honestly I would have taken it if I had 3 arms, but between the trash, grabber\n",
      "  641674  -->  @beltanemay I think it's on its way ;) It's passing thro pretty quickly. You appreciate it\n",
      "  406237  -->  @saintcoxyboy 60. Not bad. No way, I have done no revision over Easter so I can't afford t\n",
      "-------------------------------------------------------------------------------------------------------------------\n"
     ]
    }
   ],
   "source": [
    "print_first_n_tweets(n=50)"
   ]
  },
  {
   "cell_type": "code",
   "execution_count": 15,
   "metadata": {},
   "outputs": [],
   "source": [
    "# tweet length distribution\n",
    "tweet_length = corpus[\"tweet_text\"].apply(lambda x: len(x))"
   ]
  },
  {
   "cell_type": "code",
   "execution_count": 16,
   "metadata": {
    "scrolled": true
   },
   "outputs": [
    {
     "data": {
      "image/png": "[encoded data removed]",
      "text/plain": [
       "<Figure size 432x288 with 1 Axes>"
      ]
     },
     "metadata": {},
     "output_type": "display_data"
    }
   ],
   "source": [
    "ax = sns.distplot(tweet_length, bins= 35, kde= False)\n",
    "ax = plt.xlim(0, 160)\n",
    "ax = plt.title(\"Tweet length distribution\")"
   ]
  },
  {
   "cell_type": "markdown",
   "metadata": {},
   "source": [
    "A few tweets are longer than the 140 characters limit probably because they contain text-converted emojis. "
   ]
  },
  {
   "cell_type": "markdown",
   "metadata": {},
   "source": [
    "### Clean documents\n",
    "\n",
    "Cleaning the tweets will recover some potentially important information from wrongly decoded symbols and words, and will make the dataset vocabulary smaller for a simpler model. \n",
    "\n",
    "* Fix encoding-decoding issues (e.g. ``&lt;`` is html coding for symbol <). \n",
    "* Remove web urls. \n",
    "* Remove all numbers, twitter users' hashes and references. \n",
    "* Lowercase all letters. \n",
    "* Remove stopwords and punctuation.\n",
    "* Tokenize tweets and build vocabulary."
   ]
  },
  {
   "cell_type": "code",
   "execution_count": 17,
   "metadata": {},
   "outputs": [
    {
     "name": "stdout",
     "output_type": "stream",
     "text": [
      "16824\n",
      "33788\n",
      "4297\n"
     ]
    }
   ],
   "source": [
    "# clean tweets: \n",
    "# checks if there is residual html code for < symbols\n",
    "print(corpus[\"tweet_text\"].apply(lambda x: \"&lt;\" in x).sum())\n",
    "# checks if there is residual html code for \" symbols\n",
    "print(corpus[\"tweet_text\"].apply(lambda x: \"&quot;\" in x).sum())\n",
    "# checks for wrongly interpreted unicode characters\n",
    "print(corpus[\"tweet_text\"].apply(lambda x: \"â\" in x or \"à\" in x or \"ã\" in x).sum())"
   ]
  },
  {
   "cell_type": "markdown",
   "metadata": {},
   "source": [
    "Encoding-decoding problems in text are frequent, e.g. character â€™ is quote ' in Windows-1252 encoding which was mistakenly decoded as UTF-8. Thousands of tweets contain text with such errors. ``fix-text-for-you`` library comes in handy to fix most of these issues. "
   ]
  },
  {
   "cell_type": "code",
   "execution_count": 18,
   "metadata": {},
   "outputs": [],
   "source": [
    "# fix UTF-8 encoding-decoding problems \n",
    "import ftfy "
   ]
  },
  {
   "cell_type": "markdown",
   "metadata": {},
   "source": [
    "``ftfy.fix_text()`` takes care of:   \n",
    "* fixing html stuff \n",
    "* correctly restoring UTF-8 representation of characters "
   ]
  },
  {
   "cell_type": "code",
   "execution_count": 19,
   "metadata": {},
   "outputs": [],
   "source": [
    "corpus[\"tweet_text\"] = corpus[\"tweet_text\"].apply(ftfy.fix_text)"
   ]
  },
  {
   "cell_type": "markdown",
   "metadata": {},
   "source": [
    "After this operation is performed, the unicode object replacement character \"ï¿½\" used for unrecognizable stuff (symbols that couldn't be recovered) has been converted to �. "
   ]
  },
  {
   "cell_type": "code",
   "execution_count": 20,
   "metadata": {},
   "outputs": [
    {
     "name": "stdout",
     "output_type": "stream",
     "text": [
      " - My name is Amy. I�m only three My eyes are swollen I cannot see, I must be stupid, I must be bad What... http://tumblr.com/xfj1uain0 \n",
      "\n",
      "U+FFFD  �       [So] REPLACEMENT CHARACTER\n"
     ]
    }
   ],
   "source": [
    "# example using tweet in row 455\n",
    "ustring = corpus[\"tweet_text\"][455]\n",
    "print(ustring, \"\\n\")\n",
    "# --> Unicode code point - representation - name \n",
    "ftfy.explain_unicode(ustring[20])"
   ]
  },
  {
   "cell_type": "code",
   "execution_count": 21,
   "metadata": {},
   "outputs": [],
   "source": [
    "# fix this here with built-in string replacement function\n",
    "# '\\ufffd'is unicode for object replacement symbol \n",
    "corpus[\"tweet_text\"] = corpus[\"tweet_text\"].apply(lambda x: x.replace('\\ufffd', '?'))"
   ]
  },
  {
   "cell_type": "code",
   "execution_count": 22,
   "metadata": {},
   "outputs": [
    {
     "name": "stdout",
     "output_type": "stream",
     "text": [
      "0\n",
      "0\n",
      "1848\n",
      "(1578612, 3)\n"
     ]
    }
   ],
   "source": [
    "# checks if there is residual html code for < symbols\n",
    "print(corpus[\"tweet_text\"].apply(lambda x: \"&lt;\" in x).sum())\n",
    "# checks if there is residual html code for \" symbols\n",
    "print(corpus[\"tweet_text\"].apply(lambda x: \"&quot;\" in x).sum())\n",
    "# checks for wrongly interpreted unicode characters\n",
    "print(corpus[\"tweet_text\"].apply(lambda x: \"â\" in x or \"à\" in x or \"ã\" in x).sum())\n",
    "# corpus size\n",
    "print(corpus.shape)"
   ]
  },
  {
   "cell_type": "code",
   "execution_count": 23,
   "metadata": {},
   "outputs": [
    {
     "name": "stdout",
     "output_type": "stream",
     "text": [
      "68891\n"
     ]
    }
   ],
   "source": [
    "# tweets containing urls \n",
    "print(corpus[\"tweet_text\"].apply(lambda x: \"http\" in x).sum())"
   ]
  },
  {
   "cell_type": "code",
   "execution_count": 24,
   "metadata": {},
   "outputs": [
    {
     "name": "stdout",
     "output_type": "stream",
     "text": [
      "17\n"
     ]
    }
   ],
   "source": [
    "# remove urls \n",
    "# search for regex containing \"http\" followed by anything but a whitespace,  \n",
    "# replace with empty string\n",
    "corpus[\"tweet_text\"] = corpus[\"tweet_text\"].apply(lambda x: re.sub(r\"http\\S+\", \"\", x))\n",
    "# tweets containing urls \n",
    "print(corpus[\"tweet_text\"].apply(lambda x: \"http\" in x).sum())"
   ]
  },
  {
   "cell_type": "code",
   "execution_count": 25,
   "metadata": {},
   "outputs": [
    {
     "name": "stdout",
     "output_type": "stream",
     "text": [
      "736093\n"
     ]
    }
   ],
   "source": [
    "# tweets contaning user handles \n",
    "pattern = re.compile(\"@\\S+\")\n",
    "print(corpus[\"tweet_text\"].apply(lambda x: 0 if not pattern.search(x) else 1).sum())"
   ]
  },
  {
   "cell_type": "code",
   "execution_count": 26,
   "metadata": {},
   "outputs": [
    {
     "name": "stdout",
     "output_type": "stream",
     "text": [
      "0\n"
     ]
    }
   ],
   "source": [
    "# remove users' handles  \n",
    "# @ : matches any substring from character @\n",
    "# \\S+ : until one or more whitespaces are detected \n",
    "corpus[\"tweet_text\"] = corpus[\"tweet_text\"].apply(lambda x: re.sub(r\"@\\S+\", \"\", x))\n",
    "\n",
    "# all handles removed\n",
    "print(corpus[\"tweet_text\"].apply(lambda x: 0 if not pattern.search(x) else 1).sum())"
   ]
  },
  {
   "cell_type": "markdown",
   "metadata": {},
   "source": [
    "In order to make the vocabulary smaller, other symbols that are not ASCII characters can be removed. This can however remove symbols that carry substantial emotional meaning and would aid the classification of the tweets. "
   ]
  },
  {
   "cell_type": "code",
   "execution_count": 27,
   "metadata": {},
   "outputs": [
    {
     "name": "stdout",
     "output_type": "stream",
     "text": [
      " i dont like the fact my gay best friend is in tears... ♥\n"
     ]
    }
   ],
   "source": [
    "# decrease size of vocabulary \n",
    "# remove all words that contain characters \n",
    "# not included in ASCII range from space to tilde \n",
    "# example\n",
    "ustring = corpus[\"tweet_text\"][2564]\n",
    "print(ustring)\n",
    "# symbols like this add information about emotion in the tweet, \n",
    "# they are removed to decrease the complexity of the model "
   ]
  },
  {
   "cell_type": "code",
   "execution_count": 28,
   "metadata": {},
   "outputs": [
    {
     "name": "stdout",
     "output_type": "stream",
     "text": [
      " i dont like the fact my gay best friend is in tears... \n"
     ]
    }
   ],
   "source": [
    "# [^ -~] : matches anything that is not ASCII character included in range from space to tilde \n",
    "print(re.sub(r\"[^ -~]\", \"\", ustring))"
   ]
  },
  {
   "cell_type": "code",
   "execution_count": 29,
   "metadata": {},
   "outputs": [],
   "source": [
    "corpus[\"tweet_text\"] = corpus[\"tweet_text\"].apply(lambda x: re.sub(r\"[^ -~]\", \"\", x))"
   ]
  },
  {
   "cell_type": "code",
   "execution_count": 30,
   "metadata": {},
   "outputs": [],
   "source": [
    "# remove all hashtags \n",
    "corpus[\"tweet_text\"] = corpus[\"tweet_text\"].apply(lambda x: re.sub(r\"#\\S+\", \" \", x))\n",
    "\n",
    "# further decrease size of vocabulary:\n",
    "# remove all non-alphabetic characters (i.e. not letters)\n",
    "corpus[\"tweet_text\"] = corpus[\"tweet_text\"].apply(lambda x: re.sub(r\"[^ a-zA-Z]\", \" \", x))"
   ]
  },
  {
   "cell_type": "code",
   "execution_count": 31,
   "metadata": {},
   "outputs": [],
   "source": [
    "# lowercase all\n",
    "corpus[\"tweet_text\"] = corpus[\"tweet_text\"].apply(lambda x: x.lower())"
   ]
  },
  {
   "cell_type": "code",
   "execution_count": 32,
   "metadata": {},
   "outputs": [
    {
     "name": "stdout",
     "output_type": "stream",
     "text": [
      "-------------------------------------------------------------------------------------------------------------------\n",
      "  399805  -->   i like it man  you write the lyrics   i ll get our band to rock it out  \n",
      "  885122  -->  i m gonna take a short nap   i almost in giving out thumbs  which sucks big time coz i m i\n",
      " 1301910  -->  watching cool center right   i missed their episode when eugene got an interviewed with  o\n",
      "  441097  -->   it may all be over now   i was enjoying that \n",
      " 1560070  -->  wants someone to sleep over  and on myspace    as usall\n",
      "  341421  -->   i was just at sky harbor on friday     how are you \n",
      "   38006  -->    oh noes\n",
      " 1081784  -->  my friends know me well  i got perfect birthday presents  thanks to those who showed up at\n",
      " 1269257  -->  too bad everyday can t be a follow friday   what are we supposed to do on saturdays   \n",
      "  613813  -->  at home  hungry     \n",
      "  394976  -->   oh  me neither  i m sure it would ve been even that much better if i were a graphic desig\n",
      " 1217204  -->  still in midyear exam  wish my luck \n",
      "  154806  -->   your welcome \n",
      "  844602  -->   owh   hahahaha lol  now i get it    \n",
      " 1296121  -->  wants some saltwater taffy  \n",
      "  385711  -->   that s the kiddie \n",
      "   69658  -->   you re gay  and smelly  and i secretly hate you \n",
      "  967453  -->  its so weirdly quiet in the office  day  no  seems in a v good mood at all    wat a dull d\n",
      " 1367433  -->  after   hour of attempting to unlock     on my  g  stgen iphone   i m holding off for righ\n",
      " 1046624  -->  miss      cousins  lajutah family gathering             p s feeling despondent\n",
      " 1007089  -->  morning all  parish announcements  the podcast of  ep    should appear tomorrow  sorry   d\n",
      "  592127  -->  all day shopping trip in lexington  charleston  and wherever there are cute boutiques  \n",
      " 1077629  -->  my chi pet died   r i p \n",
      "  337031  -->   i love mojan   \n",
      " 1226875  -->  ugh  georgia theater burned down  \n",
      "  651180  -->  do you ever feel like your world is caving in when you ve got connection issues  thats the\n",
      "  440151  -->    damn  i was hoping that was somewhere in the u s   \n",
      " 1528172  -->  says heres the deal chicago  whoever loses cheers on the winner to the cup  prepare to che\n",
      "  411049  -->   hey dill  i saw ur video bout the kurasaraksasa or something like that  my friend showed \n",
      " 1306737  -->  watching v clip how do you sleep by jesse mccartney   he s totally gorgeous \n",
      "  472870  -->   it shows you care though  if you didn t  you d shout  sex me now baby   and she would hav\n",
      "  702700  -->   i m jealous   amsterdam in june  i ve got munich next week  yay biergarten  and london in\n",
      "  597130  -->  buttttttttt la is in that shit   \n",
      "  423582  -->     bring  me  the  yak  wrangler   wanna  meet  that  guy   \n",
      "  236818  -->   of course i remember ya silly  i have a gr  memory  lolol    ooh i love ciara s new cd  i\n",
      "  131418  -->   hi guys  have a blast in ny  business aside lol  be safe and take care  \n",
      " 1483531  -->  just talked on the phone for lik  hrs with this guy i really like and well he told me hes \n",
      " 1284122  -->  to followers who have tons of followers  still chase followers    you don t want me  you j\n",
      " 1052016  -->  morning          am  had a weird day yesterday hangin  out with guys\n",
      " 1476948  -->  jammin to capital in my garden  xx\n",
      "  499072  -->   you singing was great  the cake eaters  good  zathura  funny  and in twilight of course  \n",
      "  139846  -->   dammit who can get me in  \n",
      "  420242  -->   that s so cute   i want one  \n",
      "  559962  -->  ahah  made jellies without grapes  well  at least i have something to eat now  i still wan\n",
      "   45654  -->   let me know how it is if you go  it s raining light but it might get heavy later  \n",
      " 1550413  -->  tiredness was a animal what kind of animal would it be  i say sloth \n",
      "  461457  -->   hahaha it s okay  you don t have to be positive all the time \n",
      "  514243  -->    honestly i would have taken it if i had   arms  but between the trash  grabber  and want\n",
      "  641674  -->   i think it s on its way    it s passing thro pretty quickly  you appreciate it more when \n",
      "  406237  -->       not bad  no way  i have done no revision over easter so i can t afford to go out at a\n",
      "-------------------------------------------------------------------------------------------------------------------\n"
     ]
    }
   ],
   "source": [
    "print_first_n_tweets(n=50)"
   ]
  },
  {
   "cell_type": "markdown",
   "metadata": {},
   "source": [
    "Define function that builds list of words and word frequencies with ``nltk`` library for language processing. "
   ]
  },
  {
   "cell_type": "code",
   "execution_count": 33,
   "metadata": {},
   "outputs": [
    {
     "name": "stdout",
     "output_type": "stream",
     "text": [
      "[nltk_data] Downloading package stopwords to\n",
      "[nltk_data]     /Users/Giacomo/nltk_data...\n",
      "[nltk_data]   Package stopwords is already up-to-date!\n"
     ]
    }
   ],
   "source": [
    "# get stopwords \n",
    "from nltk import download\n",
    "download(\"stopwords\")\n",
    "# list of stopwords \n",
    "from nltk.corpus import stopwords\n",
    "# tokenize tweets\n",
    "from nltk.tokenize import wordpunct_tokenize"
   ]
  },
  {
   "cell_type": "code",
   "execution_count": 34,
   "metadata": {},
   "outputs": [],
   "source": [
    "def make_tokens(txt: pd.Series) -> (pd.Series, pd.Series): \n",
    "    '''\n",
    "    Input: pandas series with one tweet per row. \n",
    "    Output: tuple with 1. pandas series with one word per row. \n",
    "                       2. pandas series with word frequencies. \n",
    "    '''\n",
    "    \n",
    "    if isinstance(txt, pd.Series) and txt.dtype==\"object\": \n",
    "    \n",
    "        words = list()\n",
    "        # loop over tweets: one per row \n",
    "        for tw in txt: \n",
    "            # tokenize and add to list of tokens\n",
    "            words += wordpunct_tokenize(tw)\n",
    "    else: \n",
    "        return \"Wrong input type or dtype.\"\n",
    "    \n",
    "    words = pd.Series(words)\n",
    "    freq = words.value_counts(sort=True)\n",
    "    \n",
    "    # return tuple with tokens and word frequencies\n",
    "    return (words, freq)"
   ]
  },
  {
   "cell_type": "markdown",
   "metadata": {},
   "source": [
    "Split corpus into two datasets with positive and negative tweets only. "
   ]
  },
  {
   "cell_type": "code",
   "execution_count": 35,
   "metadata": {},
   "outputs": [],
   "source": [
    "# positive tweets \n",
    "pos_tweets = corpus[ corpus[\"sentiment\"]==1 ].tweet_text\n",
    "# negative tweets \n",
    "neg_tweets = corpus[ corpus[\"sentiment\"]==0 ].tweet_text"
   ]
  },
  {
   "cell_type": "code",
   "execution_count": 36,
   "metadata": {},
   "outputs": [
    {
     "name": "stdout",
     "output_type": "stream",
     "text": [
      "790177\n",
      "788435\n"
     ]
    }
   ],
   "source": [
    "# balanced classes? \n",
    "print(len(pos_tweets))\n",
    "print(len(neg_tweets))"
   ]
  },
  {
   "cell_type": "markdown",
   "metadata": {},
   "source": [
    "The two classes are balanced; this information will be useful when measuring the performance of the classifier. Accuracy and Kappa scores will suffice. "
   ]
  },
  {
   "cell_type": "markdown",
   "metadata": {},
   "source": [
    "Builds list of words used in positive and negative tweets along with their respective frequencies. "
   ]
  },
  {
   "cell_type": "code",
   "execution_count": 37,
   "metadata": {},
   "outputs": [
    {
     "name": "stdout",
     "output_type": "stream",
     "text": [
      "Tokens in pos tweets:  9760762\n",
      "Tokens in neg tweets:  10689190\n"
     ]
    }
   ],
   "source": [
    "# list of words in positive tweets \n",
    "(pos_words, freq_pos_words) = make_tokens(pos_tweets)\n",
    "# list of words in negative tweets \n",
    "(neg_words, freq_neg_words) = make_tokens(neg_tweets)\n",
    "print(\"Tokens in pos tweets: \", len(pos_words))\n",
    "print(\"Tokens in neg tweets: \", len(neg_words))"
   ]
  },
  {
   "cell_type": "code",
   "execution_count": 38,
   "metadata": {},
   "outputs": [
    {
     "name": "stdout",
     "output_type": "stream",
     "text": [
      "['i', 'me', 'my', 'myself', 'we', 'our', 'ours', 'ourselves', 'you', \"you're\"]\n"
     ]
    }
   ],
   "source": [
    "# do not consider stopwords\n",
    "print(stopwords.words(\"English\")[:10])"
   ]
  },
  {
   "cell_type": "markdown",
   "metadata": {},
   "source": [
    "#### Top 10 most frequently used words in positive tweets "
   ]
  },
  {
   "cell_type": "code",
   "execution_count": 39,
   "metadata": {},
   "outputs": [
    {
     "data": {
      "text/plain": [
       "good      60777\n",
       "love      47567\n",
       "day       46833\n",
       "like      37452\n",
       "get       36239\n",
       "lol       35976\n",
       "thanks    34419\n",
       "u         31856\n",
       "going     30550\n",
       "time      30066\n",
       "dtype: int64"
      ]
     },
     "execution_count": 39,
     "metadata": {},
     "output_type": "execute_result"
    }
   ],
   "source": [
    "freq_pos_words[ ~freq_pos_words.index.isin(stopwords.words(\"English\")) ].head(10)"
   ]
  },
  {
   "cell_type": "markdown",
   "metadata": {},
   "source": [
    "#### Top 10 most frequently used words in negative tweets "
   ]
  },
  {
   "cell_type": "code",
   "execution_count": 40,
   "metadata": {},
   "outputs": [
    {
     "data": {
      "text/plain": [
       "get       45502\n",
       "go        45168\n",
       "work      44023\n",
       "day       40928\n",
       "like      40887\n",
       "today     37860\n",
       "going     33423\n",
       "got       33149\n",
       "back      32618\n",
       "really    31181\n",
       "dtype: int64"
      ]
     },
     "execution_count": 40,
     "metadata": {},
     "output_type": "execute_result"
    }
   ],
   "source": [
    "freq_neg_words[ ~freq_neg_words.index.isin(stopwords.words(\"English\")) ].head(10)"
   ]
  },
  {
   "cell_type": "markdown",
   "metadata": {},
   "source": [
    "#### Top 10 most frequently used words: bar chart"
   ]
  },
  {
   "cell_type": "code",
   "execution_count": 41,
   "metadata": {},
   "outputs": [
    {
     "data": {
      "image/png": "[encoded data removed]",
      "text/plain": [
       "<Figure size 1008x288 with 2 Axes>"
      ]
     },
     "metadata": {},
     "output_type": "display_data"
    }
   ],
   "source": [
    "# display most frequent words in a bar chart \n",
    "mfpw = freq_pos_words[ ~freq_pos_words.index.isin(stopwords.words(\"English\")) ][:10]\n",
    "mfnw = freq_neg_words[ ~freq_neg_words.index.isin(stopwords.words(\"English\")) ][:10]\n",
    "\n",
    "fig, (ax1, ax2) = plt.subplots(1, 2, figsize=(14, 4))\n",
    "\n",
    "plt.subplot(121)\n",
    "ax1 = sns.barplot(x= mfpw.index, y= mfpw/1e3, color=\"red\")\n",
    "ax1 = plt.title(\"Most frequent positive words\")\n",
    "ax1 = plt.ylabel(\"Counts ( /1,000)\")\n",
    "ax1 = plt.ylim(0, 70)\n",
    "\n",
    "plt.subplot(122)\n",
    "ax2 = sns.barplot(x= mfnw.index, y= mfnw/1e3, color=\"blue\")\n",
    "ax2 = plt.title(\"Most frequent negative words\")\n",
    "ax2 = plt.ylim(0, 70)"
   ]
  },
  {
   "cell_type": "markdown",
   "metadata": {},
   "source": [
    "### Zipf's Law"
   ]
  },
  {
   "cell_type": "markdown",
   "metadata": {},
   "source": [
    "Word frequency and ranking in frequency table are inversely proportional: \n",
    "\n",
    "$$\\large f \\times r \\approx const. $$   \n",
    "\n",
    "where $f$ is the word frequency and $r$ is its ranking. "
   ]
  },
  {
   "cell_type": "markdown",
   "metadata": {},
   "source": [
    "Check Zipf's Law using entire dataset (including stop words in English). "
   ]
  },
  {
   "cell_type": "code",
   "execution_count": 42,
   "metadata": {},
   "outputs": [
    {
     "data": {
      "text/plain": [
       "i      951682\n",
       "to     561546\n",
       "the    521775\n",
       "a      380790\n",
       "my     313941\n",
       "dtype: int64"
      ]
     },
     "execution_count": 42,
     "metadata": {},
     "output_type": "execute_result"
    }
   ],
   "source": [
    "# construct frequency table from the whole dataset\n",
    "(corpus_words, freq) = make_tokens(corpus.tweet_text)\n",
    "freq.head()"
   ]
  },
  {
   "cell_type": "code",
   "execution_count": 43,
   "metadata": {},
   "outputs": [
    {
     "data": {
      "text/html": [
       "<div>\n",
       "<style scoped>\n",
       "    .dataframe tbody tr th:only-of-type {\n",
       "        vertical-align: middle;\n",
       "    }\n",
       "\n",
       "    .dataframe tbody tr th {\n",
       "        vertical-align: top;\n",
       "    }\n",
       "\n",
       "    .dataframe thead th {\n",
       "        text-align: right;\n",
       "    }\n",
       "</style>\n",
       "<table border=\"1\" class=\"dataframe\">\n",
       "  <thead>\n",
       "    <tr style=\"text-align: right;\">\n",
       "      <th></th>\n",
       "      <th>word</th>\n",
       "      <th>freq</th>\n",
       "      <th>rank</th>\n",
       "      <th>zipf_value</th>\n",
       "    </tr>\n",
       "  </thead>\n",
       "  <tbody>\n",
       "    <tr>\n",
       "      <th>0</th>\n",
       "      <td>i</td>\n",
       "      <td>951682</td>\n",
       "      <td>1</td>\n",
       "      <td>951682</td>\n",
       "    </tr>\n",
       "    <tr>\n",
       "      <th>1</th>\n",
       "      <td>to</td>\n",
       "      <td>561546</td>\n",
       "      <td>2</td>\n",
       "      <td>1123092</td>\n",
       "    </tr>\n",
       "    <tr>\n",
       "      <th>2</th>\n",
       "      <td>the</td>\n",
       "      <td>521775</td>\n",
       "      <td>3</td>\n",
       "      <td>1565325</td>\n",
       "    </tr>\n",
       "    <tr>\n",
       "      <th>3</th>\n",
       "      <td>a</td>\n",
       "      <td>380790</td>\n",
       "      <td>4</td>\n",
       "      <td>1523160</td>\n",
       "    </tr>\n",
       "    <tr>\n",
       "      <th>4</th>\n",
       "      <td>my</td>\n",
       "      <td>313941</td>\n",
       "      <td>5</td>\n",
       "      <td>1569705</td>\n",
       "    </tr>\n",
       "  </tbody>\n",
       "</table>\n",
       "</div>"
      ],
      "text/plain": [
       "  word    freq  rank  zipf_value\n",
       "0    i  951682     1      951682\n",
       "1   to  561546     2     1123092\n",
       "2  the  521775     3     1565325\n",
       "3    a  380790     4     1523160\n",
       "4   my  313941     5     1569705"
      ]
     },
     "execution_count": 43,
     "metadata": {},
     "output_type": "execute_result"
    }
   ],
   "source": [
    "df = freq.to_frame(name= \"freq\")\n",
    "# add column with word rank\n",
    "df[\"rank\"] = range(df.shape[0])\n",
    "df[\"rank\"] = df[\"rank\"].apply(lambda x: x+1)\n",
    "# add word column from index \n",
    "df.reset_index(inplace=True)\n",
    "df.rename(mapper={\"index\": \"word\"}, inplace=True, axis= \"columns\")\n",
    "# add column with Zipf's value (freq x rank)\n",
    "df[\"zipf_value\"] = df[\"freq\"]*df[\"rank\"]\n",
    "df.head()"
   ]
  },
  {
   "cell_type": "code",
   "execution_count": 44,
   "metadata": {},
   "outputs": [],
   "source": [
    "def plot_zipf_value(n=100): \n",
    "    fig, ax = plt.subplots(1, 1, figsize=(6, 4))\n",
    "    ax = plt.plot(\"word\", \"zipf_value\", data=df[:n], linestyle='-') # , marker='o')\n",
    "    ax = plt.ylim(0, 5e6)\n",
    "    ax = plt.ylabel(\"Freq. x Rank\")\n",
    "    ax = plt.xticks(\"Word Axis\")\n",
    "    ax = plt.title(\"Checking Zipf's Law: Freq x Rank ~ const.\")"
   ]
  },
  {
   "cell_type": "code",
   "execution_count": 45,
   "metadata": {},
   "outputs": [
    {
     "data": {
      "image/png": "[encoded data removed]",
      "text/plain": [
       "<Figure size 432x288 with 1 Axes>"
      ]
     },
     "metadata": {},
     "output_type": "display_data"
    }
   ],
   "source": [
    "plot_zipf_value(n=100)"
   ]
  },
  {
   "cell_type": "markdown",
   "metadata": {},
   "source": [
    "Check Zipf's Law after removing stop words. "
   ]
  },
  {
   "cell_type": "code",
   "execution_count": 46,
   "metadata": {},
   "outputs": [
    {
     "data": {
      "text/html": [
       "<div>\n",
       "<style scoped>\n",
       "    .dataframe tbody tr th:only-of-type {\n",
       "        vertical-align: middle;\n",
       "    }\n",
       "\n",
       "    .dataframe tbody tr th {\n",
       "        vertical-align: top;\n",
       "    }\n",
       "\n",
       "    .dataframe thead th {\n",
       "        text-align: right;\n",
       "    }\n",
       "</style>\n",
       "<table border=\"1\" class=\"dataframe\">\n",
       "  <thead>\n",
       "    <tr style=\"text-align: right;\">\n",
       "      <th></th>\n",
       "      <th>word</th>\n",
       "      <th>freq</th>\n",
       "      <th>rank</th>\n",
       "      <th>zipf_value</th>\n",
       "    </tr>\n",
       "  </thead>\n",
       "  <tbody>\n",
       "    <tr>\n",
       "      <th>31</th>\n",
       "      <td>good</td>\n",
       "      <td>89731</td>\n",
       "      <td>1</td>\n",
       "      <td>2871392</td>\n",
       "    </tr>\n",
       "    <tr>\n",
       "      <th>32</th>\n",
       "      <td>day</td>\n",
       "      <td>87761</td>\n",
       "      <td>2</td>\n",
       "      <td>2896113</td>\n",
       "    </tr>\n",
       "    <tr>\n",
       "      <th>34</th>\n",
       "      <td>get</td>\n",
       "      <td>81741</td>\n",
       "      <td>3</td>\n",
       "      <td>2860935</td>\n",
       "    </tr>\n",
       "    <tr>\n",
       "      <th>36</th>\n",
       "      <td>like</td>\n",
       "      <td>78339</td>\n",
       "      <td>4</td>\n",
       "      <td>2898543</td>\n",
       "    </tr>\n",
       "    <tr>\n",
       "      <th>39</th>\n",
       "      <td>go</td>\n",
       "      <td>73297</td>\n",
       "      <td>5</td>\n",
       "      <td>2931880</td>\n",
       "    </tr>\n",
       "  </tbody>\n",
       "</table>\n",
       "</div>"
      ],
      "text/plain": [
       "    word   freq  rank  zipf_value\n",
       "31  good  89731     1     2871392\n",
       "32   day  87761     2     2896113\n",
       "34   get  81741     3     2860935\n",
       "36  like  78339     4     2898543\n",
       "39    go  73297     5     2931880"
      ]
     },
     "execution_count": 46,
     "metadata": {},
     "output_type": "execute_result"
    }
   ],
   "source": [
    "# without stopwords\n",
    "df = df[ ~df[\"word\"].isin(stopwords.words(\"English\")) ]\n",
    "# df = df.reset_index(drop=True)\n",
    "df[\"rank\"] = range(df.shape[0])\n",
    "df[\"rank\"] = df[\"rank\"].apply(lambda x: x+1)\n",
    "df.head()"
   ]
  },
  {
   "cell_type": "code",
   "execution_count": 47,
   "metadata": {},
   "outputs": [
    {
     "data": {
      "image/png": "[encoded data removed]",
      "text/plain": [
       "<Figure size 432x288 with 1 Axes>"
      ]
     },
     "metadata": {},
     "output_type": "display_data"
    }
   ],
   "source": [
    "plot_zipf_value(n=100)"
   ]
  },
  {
   "cell_type": "markdown",
   "metadata": {},
   "source": [
    "### Asymptotic trend of Frequency vs. Rank"
   ]
  },
  {
   "cell_type": "code",
   "execution_count": 48,
   "metadata": {},
   "outputs": [
    {
     "data": {
      "image/png": "[encoded data removed]",
      "text/plain": [
       "<Figure size 432x288 with 1 Axes>"
      ]
     },
     "metadata": {},
     "output_type": "display_data"
    }
   ],
   "source": [
    "plot_zipf_value(n=20000)"
   ]
  },
  {
   "cell_type": "markdown",
   "metadata": {},
   "source": [
    "Word axis is just rank $r$ shifted by one unit: ``df.index``$ = r - 1$. <br>\n",
    "As we scroll down the frequency table, the frequency starts to decrease less than the rank increases. The linear relationship between $f$ and $1/r$ does not hold any longer. <br>\n",
    "\n",
    "So it looks like Zipf's Law is not asymptotically valid (at least for large corpora for which ``len(corpus) >> 100``). <br> \n",
    "The product $f \\times r$ is dominated by the rank factor: "
   ]
  },
  {
   "cell_type": "markdown",
   "metadata": {},
   "source": [
    "$$\\large f \\times r \\approx r - 1 , \\space \\text{as} \\space\\space r \\rightarrow \\infty $$"
   ]
  },
  {
   "cell_type": "markdown",
   "metadata": {},
   "source": [
    "$$\\large f \\approx 1 - 1/r $$"
   ]
  },
  {
   "cell_type": "code",
   "execution_count": 49,
   "metadata": {},
   "outputs": [
    {
     "data": {
      "text/html": [
       "<div>\n",
       "<style scoped>\n",
       "    .dataframe tbody tr th:only-of-type {\n",
       "        vertical-align: middle;\n",
       "    }\n",
       "\n",
       "    .dataframe tbody tr th {\n",
       "        vertical-align: top;\n",
       "    }\n",
       "\n",
       "    .dataframe thead th {\n",
       "        text-align: right;\n",
       "    }\n",
       "</style>\n",
       "<table border=\"1\" class=\"dataframe\">\n",
       "  <thead>\n",
       "    <tr style=\"text-align: right;\">\n",
       "      <th></th>\n",
       "      <th>word</th>\n",
       "      <th>freq</th>\n",
       "      <th>rank</th>\n",
       "      <th>zipf_value</th>\n",
       "      <th>f_asympt</th>\n",
       "    </tr>\n",
       "  </thead>\n",
       "  <tbody>\n",
       "    <tr>\n",
       "      <th>31</th>\n",
       "      <td>good</td>\n",
       "      <td>89731</td>\n",
       "      <td>1</td>\n",
       "      <td>2871392</td>\n",
       "      <td>0.000000</td>\n",
       "    </tr>\n",
       "    <tr>\n",
       "      <th>32</th>\n",
       "      <td>day</td>\n",
       "      <td>87761</td>\n",
       "      <td>2</td>\n",
       "      <td>2896113</td>\n",
       "      <td>0.500000</td>\n",
       "    </tr>\n",
       "    <tr>\n",
       "      <th>34</th>\n",
       "      <td>get</td>\n",
       "      <td>81741</td>\n",
       "      <td>3</td>\n",
       "      <td>2860935</td>\n",
       "      <td>0.666667</td>\n",
       "    </tr>\n",
       "    <tr>\n",
       "      <th>36</th>\n",
       "      <td>like</td>\n",
       "      <td>78339</td>\n",
       "      <td>4</td>\n",
       "      <td>2898543</td>\n",
       "      <td>0.750000</td>\n",
       "    </tr>\n",
       "    <tr>\n",
       "      <th>39</th>\n",
       "      <td>go</td>\n",
       "      <td>73297</td>\n",
       "      <td>5</td>\n",
       "      <td>2931880</td>\n",
       "      <td>0.800000</td>\n",
       "    </tr>\n",
       "  </tbody>\n",
       "</table>\n",
       "</div>"
      ],
      "text/plain": [
       "    word   freq  rank  zipf_value  f_asympt\n",
       "31  good  89731     1     2871392  0.000000\n",
       "32   day  87761     2     2896113  0.500000\n",
       "34   get  81741     3     2860935  0.666667\n",
       "36  like  78339     4     2898543  0.750000\n",
       "39    go  73297     5     2931880  0.800000"
      ]
     },
     "execution_count": 49,
     "metadata": {},
     "output_type": "execute_result"
    }
   ],
   "source": [
    "# asymptotic value of frequency\n",
    "df[\"f_asympt\"] = 1 - 1/df[\"rank\"]\n",
    "df.head()"
   ]
  },
  {
   "cell_type": "code",
   "execution_count": 50,
   "metadata": {},
   "outputs": [],
   "source": [
    "def plot_asympt(n=5000): \n",
    "    fig, (ax_1, ax_2) = plt.subplots(1, 2, figsize=(14, 4))\n",
    "    plt.subplots_adjust(wspace= 0.4)\n",
    "    \n",
    "    # plot Zipf's product \n",
    "    plt.subplot(121)\n",
    "    ax_1 = plt.plot(\"word\", \"zipf_value\", data=df[:n], linestyle='-') # , marker='o')\n",
    "    ax_1 = plt.ylim(0, 5e6)\n",
    "    ax_1 = plt.ylabel(\"Freq. x Rank\")\n",
    "    ax_1 = plt.xticks(\"Word Axis\")\n",
    "    ax_1 = plt.title(\"Checking Zipf's Law: Freq x Rank ~ const.\")\n",
    "    \n",
    "    # plot f ~ (1 - 1/r): asymptotic value of frequency\n",
    "    plt.subplot(122)\n",
    "    ax_2 = plt.plot(\"rank\", \"f_asympt\", data=df.loc[100:2000, :], linestyle='-', color= \"orange\")\n",
    "    ax_2 = plt.ylim(0.5, 1.5)\n",
    "    ax_2 = plt.ylabel(\"Frequency\")\n",
    "    ax_2 = plt.xlabel(\"Rank\")\n",
    "    ax_2 = plt.title(\"frequency vs. 1 - 1/rank\\nFrom 100th to 2,000th\")"
   ]
  },
  {
   "cell_type": "code",
   "execution_count": 51,
   "metadata": {},
   "outputs": [
    {
     "data": {
      "image/png": "[encoded data removed]",
      "text/plain": [
       "<Figure size 1008x288 with 2 Axes>"
      ]
     },
     "metadata": {},
     "output_type": "display_data"
    }
   ],
   "source": [
    "plot_asympt(n=250)"
   ]
  },
  {
   "cell_type": "markdown",
   "metadata": {},
   "source": [
    "### Simple classifier to predict tweet sentiment: Bernoulli Naive Bayes"
   ]
  },
  {
   "cell_type": "markdown",
   "metadata": {},
   "source": [
    "A \"Bag of Words\" approach coupled with a Naive Bayes classifier is used to build a simple model that predicts tweet sentiment. <br> \n",
    "\n",
    "1. Each tweet is converted to a list of words. <br>\n",
    "2. Each different word becomes a feature of the dataset. The total number of features is equal to the total number of different words in the dataset. <br>\n",
    "3. The features take on values that depend on the selected model: I have chosen a Naive Bayes Bernoulli classifier to keep the model simple and fast to train. In this model, each feature can be either 1 (the word is present in the tweet) or 0 (the word does not appear in the tweet). <br>  \n",
    "4. Features are assumed to be mutually independent, i.e. the presence/absence of a word in a tweet does not affect the distribution of other words. <br>\n",
    "4. The classifier predicts the sentiment of a tweet in the test set by calculating the probability that it belongs to each one of the two classes, given its features and the feature conditional probabilities from the train set. The tweet is assigned to the class with higher probability. \n",
    "\n",
    "The feature dataset is constructed with the ``sklearn`` library which provides an efficient data structure to handle large sparse matrices as well as an off-shelf Naive Bayes classifier."
   ]
  },
  {
   "cell_type": "code",
   "execution_count": 52,
   "metadata": {},
   "outputs": [
    {
     "data": {
      "text/html": [
       "<div>\n",
       "<style scoped>\n",
       "    .dataframe tbody tr th:only-of-type {\n",
       "        vertical-align: middle;\n",
       "    }\n",
       "\n",
       "    .dataframe tbody tr th {\n",
       "        vertical-align: top;\n",
       "    }\n",
       "\n",
       "    .dataframe thead th {\n",
       "        text-align: right;\n",
       "    }\n",
       "</style>\n",
       "<table border=\"1\" class=\"dataframe\">\n",
       "  <thead>\n",
       "    <tr style=\"text-align: right;\">\n",
       "      <th></th>\n",
       "      <th>sentiment</th>\n",
       "      <th>tweet_text</th>\n",
       "    </tr>\n",
       "  </thead>\n",
       "  <tbody>\n",
       "    <tr>\n",
       "      <th>0</th>\n",
       "      <td>0</td>\n",
       "      <td>is so sad for my apl frie...</td>\n",
       "    </tr>\n",
       "    <tr>\n",
       "      <th>1</th>\n",
       "      <td>0</td>\n",
       "      <td>i missed the new moon trail...</td>\n",
       "    </tr>\n",
       "    <tr>\n",
       "      <th>2</th>\n",
       "      <td>1</td>\n",
       "      <td>omg its already       o</td>\n",
       "    </tr>\n",
       "    <tr>\n",
       "      <th>3</th>\n",
       "      <td>0</td>\n",
       "      <td>omgaga  im sooo  im gunna cry  i ...</td>\n",
       "    </tr>\n",
       "    <tr>\n",
       "      <th>4</th>\n",
       "      <td>0</td>\n",
       "      <td>i think mi bf is cheating on me      ...</td>\n",
       "    </tr>\n",
       "  </tbody>\n",
       "</table>\n",
       "</div>"
      ],
      "text/plain": [
       "   sentiment                                         tweet_text\n",
       "0          0                       is so sad for my apl frie...\n",
       "1          0                     i missed the new moon trail...\n",
       "2          1                            omg its already       o\n",
       "3          0               omgaga  im sooo  im gunna cry  i ...\n",
       "4          0           i think mi bf is cheating on me      ..."
      ]
     },
     "execution_count": 52,
     "metadata": {},
     "output_type": "execute_result"
    }
   ],
   "source": [
    "corpus.drop(\"source\", axis=1, inplace=True)\n",
    "corpus.head()"
   ]
  },
  {
   "cell_type": "code",
   "execution_count": 53,
   "metadata": {},
   "outputs": [],
   "source": [
    "from sklearn.model_selection import train_test_split\n",
    "from sklearn.feature_extraction.text import CountVectorizer\n",
    "from sklearn.naive_bayes import BernoulliNB\n",
    "from sklearn.metrics import accuracy_score"
   ]
  },
  {
   "cell_type": "code",
   "execution_count": 54,
   "metadata": {},
   "outputs": [
    {
     "name": "stdout",
     "output_type": "stream",
     "text": [
      "(315723, 2)\n",
      "(1262889, 2)\n"
     ]
    }
   ],
   "source": [
    "# split data into train and test set \n",
    "c_train, c_test = train_test_split(corpus, test_size= 0.2, random_state=1987)\n",
    "print(c_test.shape)\n",
    "print(c_train.shape)"
   ]
  },
  {
   "cell_type": "markdown",
   "metadata": {},
   "source": [
    "``CountVectorizer`` transforms the data frame into a sparse matrix whose columns store the counts of each different word in the corpus (up to a maximum word number equal to ``max_features``). Each row represents an observation, i.e. a tokenized tweet. "
   ]
  },
  {
   "cell_type": "code",
   "execution_count": 55,
   "metadata": {},
   "outputs": [],
   "source": [
    "tokenizer = CountVectorizer(stop_words=\"english\",  # remove stopwords\n",
    "                            encoding=\"utf8\",        \n",
    "                            max_features=1000)     # consider only first 1,000 words, \n",
    "                                                   # based on frequency"
   ]
  },
  {
   "cell_type": "code",
   "execution_count": 56,
   "metadata": {},
   "outputs": [],
   "source": [
    "# tokenize tweets and build sparse matrix storing word counts \n",
    "fmatrix_train = tokenizer.fit_transform(c_train[\"tweet_text\"])\n",
    "fmatrix_test = tokenizer.transform(c_test[\"tweet_text\"])"
   ]
  },
  {
   "cell_type": "markdown",
   "metadata": {},
   "source": [
    "Naive Bayes Bernoulli classifier will: \n",
    "* automatically binarize word counts: for each word, its count is set to 1 if word is in tweet, 0 otherwise. \n",
    "* when calculating class probabilities for a new tweet in the test set, the classifier will consider all words in the dataset vocabulary, including those that do not appear in that tweet. "
   ]
  },
  {
   "cell_type": "code",
   "execution_count": 57,
   "metadata": {},
   "outputs": [],
   "source": [
    "# instantiate Naive Bayes Bernoulli classifier\n",
    "model = BernoulliNB()"
   ]
  },
  {
   "cell_type": "markdown",
   "metadata": {},
   "source": [
    "The model can be evaluated first using subsets of the test set to check if it is statistically robust against variations in the train data (i.e., if its variance is low). Given that the Twitter dataset is large, the conditional distribution of the most frequent words should not change over randomly sampled cross-validation subsets. Hence, the accuracy should vary little over the cross-validation subsets. "
   ]
  },
  {
   "cell_type": "code",
   "execution_count": 58,
   "metadata": {},
   "outputs": [],
   "source": [
    "from sklearn.model_selection import RepeatedKFold, cross_validate"
   ]
  },
  {
   "cell_type": "code",
   "execution_count": 59,
   "metadata": {},
   "outputs": [],
   "source": [
    "# evaluate model performance on subsets of train set \n",
    "# using 10-fold repeated CV \n",
    "# cv generator: 10-fold CV repeated twice\n",
    "rkf= RepeatedKFold(n_splits= 10, \n",
    "                   n_repeats= 2, \n",
    "                   random_state= 1987)\n",
    "\n",
    "# classifier performance: area under ROC, accuracy \n",
    "scoring= [\"roc_auc\", \"accuracy\"]\n",
    "\n",
    "# train and calculate metrics for each validation iteration  \n",
    "scores = cross_validate(model, \n",
    "                        fmatrix_train, \n",
    "                        c_train[\"sentiment\"], \n",
    "                        scoring= scoring, \n",
    "                        cv= rkf, \n",
    "                        n_jobs= 4, \n",
    "                        return_train_score= False, \n",
    "                        return_estimator= False)"
   ]
  },
  {
   "cell_type": "code",
   "execution_count": 60,
   "metadata": {},
   "outputs": [
    {
     "name": "stdout",
     "output_type": "stream",
     "text": [
      "[0.73535304 0.73415737 0.73388023 0.73396733 0.733999   0.73358725\n",
      " 0.7333497  0.73623198 0.73452953 0.73390979 0.73437116 0.73512341\n",
      " 0.73417321 0.733223   0.7340861  0.73263705 0.73559059 0.73500463\n",
      " 0.73372186 0.73582605]\n"
     ]
    }
   ],
   "source": [
    "# accuracy is consistent over the cv folds  \n",
    "print(scores[\"test_accuracy\"])"
   ]
  },
  {
   "cell_type": "markdown",
   "metadata": {},
   "source": [
    "Finally, the model is trained using the whole training set. A new tweet from the test set will be assigned to class: \n",
    "\n",
    "$$ \\large \\hat c = \\arg \\max \\Bigg \\{ \\text{Pr} (c_{1}) \\prod_{i=1}^{N} \\text{Pr}(w_{i}|c_{1}), \\space \\text{Pr} (c_{2}) \\prod_{i=1}^{N} \\text{Pr}(w_{i}|c_{2}) \\Bigg \\}$$   \n",
    "\n",
    "where: <br> \n",
    "* $w_{i}$ is a feature (word) of the dataset ($i=1,...,N$): $w_{i}=1 \\space \\text{or} \\space 0$ \n",
    "* $\\text{Pr}(w_{i}|c)$ is the probability of observing word $w_{i}$ considering only the tweets of class $c$ ($c_{1}=\\text{positive}, \\space c_{2}=\\text{negative}$) in the training set, \n",
    "* $\\text{Pr}(c)$ is the probability that a randomly selected tweet from the training set belongs to class $c$. "
   ]
  },
  {
   "cell_type": "code",
   "execution_count": 61,
   "metadata": {},
   "outputs": [
    {
     "name": "stdout",
     "output_type": "stream",
     "text": [
      "Model accuracy: 0.734\n"
     ]
    }
   ],
   "source": [
    "# train model using whole train set \n",
    "model.fit(fmatrix_train, c_train[\"sentiment\"])\n",
    "\n",
    "# predict sentiment of tweets in test set (20% of total)\n",
    "sent_pred = model.predict(fmatrix_test)\n",
    "\n",
    "acc = accuracy_score(c_test[\"sentiment\"], sent_pred)\n",
    "print(\"Model accuracy: {:.3f}\".format(acc))"
   ]
  },
  {
   "cell_type": "markdown",
   "metadata": {},
   "source": [
    "It is interesting to look at the accuracy trend as a function of the number of important (most frequent) words considered when training the model. The previous steps can be wrapped into a ``for`` loop over the number of important words ``max_features``. "
   ]
  },
  {
   "cell_type": "code",
   "execution_count": 62,
   "metadata": {},
   "outputs": [
    {
     "name": "stdout",
     "output_type": "stream",
     "text": [
      "Model accuracy: 0.643\n",
      "Model accuracy: 0.713\n",
      "Model accuracy: 0.734\n",
      "Model accuracy: 0.759\n",
      "Model accuracy: 0.763\n",
      "Model accuracy: 0.767\n"
     ]
    }
   ],
   "source": [
    "acc = dict()\n",
    "for max_features in (100, 500, 1000, 5000, 10000, 50000): \n",
    "\n",
    "    tokenizer = CountVectorizer(stop_words=\"english\",\n",
    "                                encoding=\"utf8\",        \n",
    "                                max_features=max_features)     # consider only first max_feature words\n",
    "    \n",
    "    # make feature matrices \n",
    "    fmatrix_train = tokenizer.fit_transform(c_train[\"tweet_text\"])\n",
    "    fmatrix_test = tokenizer.transform(c_test[\"tweet_text\"])\n",
    "    \n",
    "    # train model using whole train set \n",
    "    model.fit(fmatrix_train, c_train[\"sentiment\"])\n",
    "    # predict sentiment of tweets in test set\n",
    "    sent_pred = model.predict(fmatrix_test)\n",
    "    # store accuracy in dict\n",
    "    acc[max_features] = accuracy_score(c_test[\"sentiment\"], sent_pred)\n",
    "    print(\"Model accuracy: {:.3f}\".format(acc[max_features]))"
   ]
  },
  {
   "cell_type": "code",
   "execution_count": 63,
   "metadata": {},
   "outputs": [
    {
     "data": {
      "image/png": "[encoded data removed]",
      "text/plain": [
       "<Figure size 432x288 with 1 Axes>"
      ]
     },
     "metadata": {},
     "output_type": "display_data"
    }
   ],
   "source": [
    "ax = sns.lineplot(x= [k for k in acc.keys()], \n",
    "                  y= [v for v in acc.values()], \n",
    "                  marker=\"o\")\n",
    "ax = plt.ylim(0.45, 1.0)\n",
    "ax = plt.xlabel(\"Vocabulary Size\")"
   ]
  },
  {
   "cell_type": "markdown",
   "metadata": {},
   "source": [
    "Possible improvements include:   \n",
    "\n",
    "* Considering more and better features to construct the bag of words by: \n",
    "    * using a gentler pre-processing of tweets that keeps text-converted emojis and other symbols which enrich sentences with emotional meaning. \n",
    "    * adding n-gram expressions to the list of features, i.e. groups of adjacent words with special significance for the emotional content of the tweet. \n",
    "* Replacing the simple 0/1 binarization of word counts with other scores such as tf-idf to be used with a different classifier (e.g. Naive Bayes multinomial). \n",
    "\n",
    "Generally, any model that considers the context in which words are used, and uses it to group similar words, should perform better than the bag-of-words approach. In particular, techniques such as word embedding (representing words as vectors instead of scalars) coupled to neural networks seem to be the current state-of-the-art methods for text classification. "
   ]
  }
 ],
 "metadata": {
  "kernelspec": {
   "display_name": "Python 3",
   "language": "python",
   "name": "python3"
  },
  "language_info": {
   "codemirror_mode": {
    "name": "ipython",
    "version": 3
   },
   "file_extension": ".py",
   "mimetype": "text/x-python",
   "name": "python",
   "nbconvert_exporter": "python",
   "pygments_lexer": "ipython3",
   "version": "3.6.6"
  }
 },
 "nbformat": 4,
 "nbformat_minor": 2
}
